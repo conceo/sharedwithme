{
 "cells": [
  {
   "cell_type": "code",
   "execution_count": 10,
   "metadata": {
    "ExecuteTime": {
     "end_time": "2021-03-22T15:22:20.905216Z",
     "start_time": "2021-03-22T15:22:20.890817Z"
    }
   },
   "outputs": [],
   "source": [
    "import pandas as pd\n",
    "import numpy \n",
    "import ipywidgets as widgets\n",
    "from ipywidgets import Layout, GridspecLayout, AppLayout, HTML"
   ]
  },
  {
   "cell_type": "code",
   "execution_count": 2,
   "metadata": {
    "ExecuteTime": {
     "end_time": "2021-03-22T15:20:00.593585Z",
     "start_time": "2021-03-22T15:20:00.584308Z"
    }
   },
   "outputs": [],
   "source": [
    "blue_bg = \"<style>.blue input { background-color:#66B3E9 !important; }</style>\"\n",
    "light_blue_bg = \"<style>.light_blue input { background-color:#E1F3FF !important; }</style>\"\n",
    "light_grey_bg = \"<style>.light_grey input { background-color:#BBCBD7 !important; }</style>\""
   ]
  },
  {
   "cell_type": "code",
   "execution_count": 3,
   "metadata": {
    "ExecuteTime": {
     "end_time": "2021-03-22T15:20:12.060639Z",
     "start_time": "2021-03-22T15:20:12.049392Z"
    }
   },
   "outputs": [],
   "source": [
    "# Anzahl Vergleichsunternehmen\n",
    "n = 4\n",
    "# Festlegung Bewertungsmaßstab Multiplikatorverfahren\n",
    "Bew = 0.15"
   ]
  },
  {
   "cell_type": "code",
   "execution_count": 4,
   "metadata": {
    "ExecuteTime": {
     "end_time": "2021-03-22T15:20:30.903819Z",
     "start_time": "2021-03-22T15:20:30.880790Z"
    }
   },
   "outputs": [
    {
     "data": {
      "application/vnd.jupyter.widget-view+json": {
       "model_id": "aa134fd019c44db7891ff9b0d788acb5",
       "version_major": 2,
       "version_minor": 0
      },
      "text/plain": [
       "FileUpload(value={}, description='Upload')"
      ]
     },
     "metadata": {},
     "output_type": "display_data"
    }
   ],
   "source": [
    "widgets.FileUpload(\n",
    "#     accept='.xlsx',  # Accepted file extension e.g. '.txt', '.pdf', 'image/*', 'image/*,.pdf'\n",
    "    multiple=False  # True to accept multiple files upload else False\n",
    ")"
   ]
  },
  {
   "cell_type": "code",
   "execution_count": 5,
   "metadata": {
    "ExecuteTime": {
     "end_time": "2021-03-22T15:20:48.581428Z",
     "start_time": "2021-03-22T15:20:48.287324Z"
    }
   },
   "outputs": [],
   "source": [
    "\n",
    "ins = GridspecLayout(9,2,layout=widgets.Layout(width=\"290px\"))\n",
    "\n",
    "inshead = ['Inputs','Fiskaljahr','Umsatz','EBIT','EBITDA','Gewinn', 'Kasse & Liquide Mittel', 'Finanzverbindlichkeiten', 'Equity Bridge']\n",
    "inputvec = [2018, 70300000, 1800000, 3200000, 1260000, 1851000, 9358000, -7507000]\n",
    "\n",
    "ins[0,0] = widgets.Text(inshead[0], layout = widgets.Layout(width =\"180px\"))\n",
    "ins[0,0].add_class('blue')\n",
    "\n",
    "\n",
    "for i in range(1,9):\n",
    "    ins[i,0] = widgets.Text(inshead[i], layout = widgets.Layout(width =\"180px\"))\n",
    "    ins[i,1] = widgets.FloatText(inputvec[i-1], layout = widgets.Layout(width =\"90px\"))\n",
    "    ins[i,0].add_class('blue')\n",
    "\n",
    "grid0 = [widgets.HTML(blue_bg), widgets.HTML(light_grey_bg), ins]"
   ]
  },
  {
   "cell_type": "code",
   "execution_count": 61,
   "metadata": {
    "ExecuteTime": {
     "end_time": "2021-03-22T15:53:25.165566Z",
     "start_time": "2021-03-22T15:53:25.150537Z"
    }
   },
   "outputs": [],
   "source": [
    " def multimed(a,n):\n",
    "    x = numpy.median([multi[i,a].value for i in range(1,n+1)])\n",
    "    return(x)\n",
    "\n",
    "def multimean(a,n):\n",
    "    x = numpy.mean([multi[i,a].value for i in range(1,n+1)])\n",
    "    return(x)"
   ]
  },
  {
   "cell_type": "code",
   "execution_count": 62,
   "metadata": {
    "ExecuteTime": {
     "end_time": "2021-03-22T15:53:28.463085Z",
     "start_time": "2021-03-22T15:53:27.525102Z"
    }
   },
   "outputs": [
    {
     "data": {
      "application/vnd.jupyter.widget-view+json": {
       "model_id": "0cafc3a305e048beaad09477efb80364",
       "version_major": 2,
       "version_minor": 0
      },
      "text/plain": [
       "GridspecLayout(children=(Text(value='Vergleichsunternehmen', layout=Layout(grid_area='widget001', width='180px…"
      ]
     },
     "metadata": {},
     "output_type": "display_data"
    }
   ],
   "source": [
    "# Erzeugen EingabeMaske\n",
    "\n",
    "def multifunc(added, a):  \n",
    "    \n",
    "    multinew = GridspecLayout((a+added+1),6, layout=widgets.Layout(width=\"660px\"))\n",
    "\n",
    "    head = ['Vergleichsunternehmen','EV in MEUR','EV/Umsatz','EV/EBIT','EV/EBITDA','KGV']\n",
    "\n",
    "    multinew[0,0] = widgets.Text(head[0], disabled = False,layout=widgets.Layout(width=\"180px\"))\n",
    "    multinew[0,0].add_class('blue')\n",
    "\n",
    "    for j in range(1,6):\n",
    "        multinew[0,j] = widgets.Text(head[j], disabled = True, layout=widgets.Layout(width=\"90px\"))\n",
    "        multinew[0,j].add_class('blue')\n",
    "\n",
    "        for i in range(1,n+1):\n",
    "            multinew[i,j] = widgets.FloatText(0,layout=widgets.Layout(width=\"90px\"))\n",
    "            multinew[i,0] = widgets.Text('',layout=widgets.Layout(width=\"180px\"))\n",
    "            multinew[i,0].add_class('light_blue')  \n",
    "            \n",
    "        if added != 0:\n",
    "            for i in range(0,a+1):\n",
    "                multinew[i,j] = multi[i,j]\n",
    "    \n",
    "            for i in range(added+1):\n",
    "                multinew[a+i,j] = widgets.FloatText(0,layout=widgets.Layout(width=\"90px\"))\n",
    "                multinew[a+i,0] = widgets.Text('',layout=widgets.Layout(width=\"180px\"))\n",
    "                multinew[a+i,0].add_class('light_blue') \n",
    "\n",
    "    return(multinew)\n",
    "\n",
    "multi = multifunc(0,n)\n",
    "\n",
    "multi"
   ]
  },
  {
   "cell_type": "code",
   "execution_count": 73,
   "metadata": {
    "ExecuteTime": {
     "end_time": "2021-03-22T15:59:57.630229Z",
     "start_time": "2021-03-22T15:59:57.256324Z"
    }
   },
   "outputs": [],
   "source": [
    "def medifunc(rows):\n",
    "    \n",
    "    medi = GridspecLayout(4,200, layout=widgets.Layout(width=\"660px\"))\n",
    "    row = ['Median', 'Mittelwert', 'Sektor Median']\n",
    "    \n",
    "    for i in range(3):\n",
    "        medi[i,0] = widgets.Text(row[i], disabled = True, layout=widgets.Layout(width=\"180px\"))\n",
    "        medi[i,0].add_class('light_grey') \n",
    "        \n",
    "    for j in range(1,6):\n",
    "        medi[0,j] = widgets.FloatText(multimed(j, rows), disabled = True, layout=widgets.Layout(width=\"91px\"))\n",
    "        medi[1,j] = widgets.FloatText(multimean(j, rows), disabled = True, layout=widgets.Layout(width=\"90px\"))\n",
    "        medi[2,j] = widgets.FloatText(0, layout=widgets.Layout(width=\"90px\"))\n",
    "    return(medi) \n",
    "\n",
    "medi = medifunc(n)\n"
   ]
  },
  {
   "cell_type": "code",
   "execution_count": 85,
   "metadata": {
    "ExecuteTime": {
     "end_time": "2021-03-22T16:20:38.754508Z",
     "start_time": "2021-03-22T16:20:38.728619Z"
    }
   },
   "outputs": [],
   "source": [
    "\n",
    "def ev(change):\n",
    "    medi[0,1] = widgets.FloatText(multimed(1), disabled = True, layout=widgets.Layout(width=\"91px\"))\n",
    "    medi[1,1] = widgets.FloatText(numpy.mean([multi[i,1].value for i in range(1,n+1)]), disabled = True,layout=widgets.Layout(width=\"90px\"))\n",
    "\n",
    "def evzuu(change):\n",
    "        medi[0,2] = widgets.FloatText(multimed(2),  disabled = True,layout=widgets.Layout(width=\"91px\"))\n",
    "        medi[1,2] = widgets.FloatText(numpy.mean([multi[i,2].value for i in range(1,n+1)]), disabled = True,layout=widgets.Layout(width=\"90px\"))\n",
    "\n",
    "def evzuebit(change):\n",
    "        medi[0,3] = widgets.FloatText(multimed(3), disabled = True, layout=widgets.Layout(width=\"91px\"))\n",
    "        medi[1,3] = widgets.FloatText(numpy.mean([multi[i,3].value for i in range(1,n+1)]), disabled = True,layout=widgets.Layout(width=\"90px\"))\n",
    "\n",
    "def evzuebitda(change):\n",
    "        medi[0,4] = widgets.FloatText(multimed(4), disabled = True, layout=widgets.Layout(width=\"91px\"))\n",
    "        medi[1,4] = widgets.FloatText(numpy.mean([multi[i,4].value for i in range(1,n+1)]), disabled = True,layout=widgets.Layout(width=\"90px\"))\n",
    "\n",
    "def kgv(change):\n",
    "        medi[0,5] = widgets.FloatText(multimed(5), disabled = True, layout=widgets.Layout(width=\"91px\"))\n",
    "        medi[1,5] = widgets.FloatText(numpy.mean([multi[i,5].value for i in range(1,n+1)]), disabled = True,layout=widgets.Layout(width=\"90px\"))\n",
    "        \n",
    "return(ev,evzuu)"
   ]
  },
  {
   "cell_type": "code",
   "execution_count": 86,
   "metadata": {
    "ExecuteTime": {
     "end_time": "2021-03-22T16:20:42.501251Z",
     "start_time": "2021-03-22T16:20:42.483959Z"
    }
   },
   "outputs": [],
   "source": [
    "def observefunc(n):\n",
    "    # OBSERVE \n",
    "    for i in range(1,n+1):\n",
    "        multi[i,1].observe(ev, 'value')\n",
    "    for i in range(1,n+1):\n",
    "        multi[i,2].observe(evzuu, 'value')\n",
    "\n",
    "    for i in range(1,n+1):\n",
    "        multi[i,3].observe(evzuebit, 'value')\n",
    "\n",
    "    for i in range(1,n+1):\n",
    "        multi[i,4].observe(evzuebitda, 'value')\n",
    "\n",
    "    for i in range(1,n+1):\n",
    "        multi[i,5].observe(kgv, 'value')\n"
   ]
  },
  {
   "cell_type": "code",
   "execution_count": 87,
   "metadata": {
    "ExecuteTime": {
     "end_time": "2021-03-22T16:20:45.115919Z",
     "start_time": "2021-03-22T16:20:45.090210Z"
    }
   },
   "outputs": [
    {
     "ename": "NameError",
     "evalue": "name 'evzuu' is not defined",
     "output_type": "error",
     "traceback": [
      "\u001b[1;31m---------------------------------------------------------------------------\u001b[0m",
      "\u001b[1;31mNameError\u001b[0m                                 Traceback (most recent call last)",
      "\u001b[1;32m<ipython-input-87-8049bc0950b6>\u001b[0m in \u001b[0;36m<module>\u001b[1;34m\u001b[0m\n\u001b[0;32m      1\u001b[0m \u001b[0mmediwatch\u001b[0m\u001b[1;33m(\u001b[0m\u001b[0mn\u001b[0m\u001b[1;33m)\u001b[0m\u001b[1;33m\u001b[0m\u001b[1;33m\u001b[0m\u001b[0m\n\u001b[1;32m----> 2\u001b[1;33m \u001b[0mobservefunc\u001b[0m\u001b[1;33m(\u001b[0m\u001b[0mn\u001b[0m\u001b[1;33m)\u001b[0m\u001b[1;33m\u001b[0m\u001b[1;33m\u001b[0m\u001b[0m\n\u001b[0m",
      "\u001b[1;32m<ipython-input-86-87e7dab640c8>\u001b[0m in \u001b[0;36mobservefunc\u001b[1;34m(n)\u001b[0m\n\u001b[0;32m      4\u001b[0m         \u001b[0mmulti\u001b[0m\u001b[1;33m[\u001b[0m\u001b[0mi\u001b[0m\u001b[1;33m,\u001b[0m\u001b[1;36m1\u001b[0m\u001b[1;33m]\u001b[0m\u001b[1;33m.\u001b[0m\u001b[0mobserve\u001b[0m\u001b[1;33m(\u001b[0m\u001b[0mev\u001b[0m\u001b[1;33m,\u001b[0m \u001b[1;34m'value'\u001b[0m\u001b[1;33m)\u001b[0m\u001b[1;33m\u001b[0m\u001b[1;33m\u001b[0m\u001b[0m\n\u001b[0;32m      5\u001b[0m     \u001b[1;32mfor\u001b[0m \u001b[0mi\u001b[0m \u001b[1;32min\u001b[0m \u001b[0mrange\u001b[0m\u001b[1;33m(\u001b[0m\u001b[1;36m1\u001b[0m\u001b[1;33m,\u001b[0m\u001b[0mn\u001b[0m\u001b[1;33m+\u001b[0m\u001b[1;36m1\u001b[0m\u001b[1;33m)\u001b[0m\u001b[1;33m:\u001b[0m\u001b[1;33m\u001b[0m\u001b[1;33m\u001b[0m\u001b[0m\n\u001b[1;32m----> 6\u001b[1;33m         \u001b[0mmulti\u001b[0m\u001b[1;33m[\u001b[0m\u001b[0mi\u001b[0m\u001b[1;33m,\u001b[0m\u001b[1;36m2\u001b[0m\u001b[1;33m]\u001b[0m\u001b[1;33m.\u001b[0m\u001b[0mobserve\u001b[0m\u001b[1;33m(\u001b[0m\u001b[0mevzuu\u001b[0m\u001b[1;33m,\u001b[0m \u001b[1;34m'value'\u001b[0m\u001b[1;33m)\u001b[0m\u001b[1;33m\u001b[0m\u001b[1;33m\u001b[0m\u001b[0m\n\u001b[0m\u001b[0;32m      7\u001b[0m \u001b[1;33m\u001b[0m\u001b[0m\n\u001b[0;32m      8\u001b[0m     \u001b[1;32mfor\u001b[0m \u001b[0mi\u001b[0m \u001b[1;32min\u001b[0m \u001b[0mrange\u001b[0m\u001b[1;33m(\u001b[0m\u001b[1;36m1\u001b[0m\u001b[1;33m,\u001b[0m\u001b[0mn\u001b[0m\u001b[1;33m+\u001b[0m\u001b[1;36m1\u001b[0m\u001b[1;33m)\u001b[0m\u001b[1;33m:\u001b[0m\u001b[1;33m\u001b[0m\u001b[1;33m\u001b[0m\u001b[0m\n",
      "\u001b[1;31mNameError\u001b[0m: name 'evzuu' is not defined"
     ]
    }
   ],
   "source": [
    "mediwatch(n)\n",
    "observefunc(n)"
   ]
  }
 ],
 "metadata": {
  "kernelspec": {
   "display_name": "Python 3",
   "language": "python",
   "name": "python3"
  },
  "language_info": {
   "codemirror_mode": {
    "name": "ipython",
    "version": 3
   },
   "file_extension": ".py",
   "mimetype": "text/x-python",
   "name": "python",
   "nbconvert_exporter": "python",
   "pygments_lexer": "ipython3",
   "version": "3.7.6"
  },
  "latex_envs": {
   "LaTeX_envs_menu_present": true,
   "autoclose": true,
   "autocomplete": true,
   "bibliofile": "biblio.bib",
   "cite_by": "apalike",
   "current_citInitial": 1,
   "eqLabelWithNumbers": true,
   "eqNumInitial": 1,
   "hotkeys": {
    "equation": "Ctrl-E",
    "itemize": "Ctrl-I"
   },
   "labels_anchors": false,
   "latex_user_defs": false,
   "report_style_numbering": true,
   "user_envs_cfg": true
  }
 },
 "nbformat": 4,
 "nbformat_minor": 4
}
