{
 "metadata": {
  "language_info": {
   "codemirror_mode": {
    "name": "ipython",
    "version": 3
   },
   "file_extension": ".py",
   "mimetype": "text/x-python",
   "name": "python",
   "nbconvert_exporter": "python",
   "pygments_lexer": "ipython3",
   "version": "3.7.6-final"
  },
  "orig_nbformat": 2,
  "kernelspec": {
   "name": "python3",
   "display_name": "Python 3.7.6 64-bit (conda)",
   "metadata": {
    "interpreter": {
     "hash": "7b1323920e4f51c58294b8fef35a4a8660dc4ed3fa896d476af9d73e9cae3e90"
    }
   }
  }
 },
 "nbformat": 4,
 "nbformat_minor": 2,
 "cells": [
  {
   "cell_type": "code",
   "execution_count": 1,
   "metadata": {},
   "outputs": [],
   "source": [
    "import pandas \n",
    "import numpy \n",
    "import ipywidgets as widgets\n",
    "from ipywidgets import Layout, GridspecLayout, AppLayout"
   ]
  },
  {
   "cell_type": "code",
   "execution_count": 2,
   "metadata": {},
   "outputs": [
    {
     "output_type": "error",
     "ename": "NameError",
     "evalue": "name 'zoom_slider' is not defined",
     "traceback": [
      "\u001b[1;31m---------------------------------------------------------------------------\u001b[0m",
      "\u001b[1;31mNameError\u001b[0m                                 Traceback (most recent call last)",
      "\u001b[1;32m<ipython-input-2-86b1179ecba2>\u001b[0m in \u001b[0;36m<module>\u001b[1;34m\u001b[0m\n\u001b[0;32m      1\u001b[0m \u001b[0mnewgrid\u001b[0m \u001b[1;33m=\u001b[0m \u001b[0mGridspecLayout\u001b[0m\u001b[1;33m(\u001b[0m\u001b[1;36m10\u001b[0m\u001b[1;33m,\u001b[0m\u001b[1;36m2\u001b[0m\u001b[1;33m)\u001b[0m\u001b[1;33m\u001b[0m\u001b[1;33m\u001b[0m\u001b[0m\n\u001b[0;32m      2\u001b[0m \u001b[1;33m\u001b[0m\u001b[0m\n\u001b[1;32m----> 3\u001b[1;33m \u001b[0mnewgrid\u001b[0m\u001b[1;33m[\u001b[0m\u001b[1;36m0\u001b[0m\u001b[1;33m,\u001b[0m\u001b[1;36m1\u001b[0m\u001b[1;33m]\u001b[0m \u001b[1;33m=\u001b[0m \u001b[0mzoom_slider\u001b[0m\u001b[1;33m\u001b[0m\u001b[1;33m\u001b[0m\u001b[0m\n\u001b[0m",
      "\u001b[1;31mNameError\u001b[0m: name 'zoom_slider' is not defined"
     ]
    }
   ],
   "source": [
    "newgrid = GridspecLayout(10,2)\n",
    "\n",
    "newgrid[0,1] = zoom_slider\n"
   ]
  },
  {
   "cell_type": "code",
   "execution_count": null,
   "metadata": {},
   "outputs": [],
   "source": [
    "widgets.FileUpload(\n",
    "    accept='',  # Accepted file extension e.g. '.txt', '.pdf', 'image/*', 'image/*,.pdf'\n",
    "    multiple=False  # True to accept multiple files upload else False\n",
    ")"
   ]
  },
  {
   "cell_type": "code",
   "execution_count": null,
   "metadata": {},
   "outputs": [],
   "source": [
    "%%javascript\n",
    "require.undef('myselectmultiple');\n",
    "define('myselectmultiple', [\"@jupyter-widgets/base\"], function(widgets) {\n",
    "    class selectmultipleView extends widgets.SelectMultipleView {\n",
    "        render () {\n",
    "            super.render();\n",
    "            this.mycolor_changed();\n",
    "            this.model.on('change:mycolor', this.mycolor_changed, this);\n",
    "        }\n",
    "        mycolor_changed () {\n",
    "            var mycolor = this.model.get('mycolor')\n",
    "            this.el.childNodes[1].style.backgroundColor = mycolor;\n",
    "        }\n",
    "    }\n",
    "    return {\n",
    "        myselectmultipleview : selectmultipleView\n",
    "    };\n",
    "})"
   ]
  },
  {
   "cell_type": "code",
   "execution_count": null,
   "metadata": {},
   "outputs": [],
   "source": [
    "#Anzahl Vergleichsunternehmen\n",
    "n = 4\n",
    "\n",
    "\n",
    "\n",
    "\n",
    "data_input_style = \"<style>.data_input input { background-color:#3488B6 !important; }</style>\"\n",
    "#Html colorcode\n",
    "\n",
    "w = widgets.Text(value = '')\n",
    "w.add_class('data_input')\n",
    "widgets.HTML(data_input_style)"
   ]
  },
  {
   "cell_type": "code",
   "execution_count": null,
   "metadata": {},
   "outputs": [],
   "source": [
    "blue = \"<style>.blue_input input { background-color:#3488B6 !important; }</style>\"\n",
    "\n",
    "multi = GridspecLayout(n+2,6)\n",
    "head = ['Vergleichsunternehmen','EV in MEUR','EV/Umsatz','EV/EBIT','EV/EBITDA','KGV']\n",
    "for j in range(5):\n",
    "    multi[0,j] = widgets.Text(head[j], disabled = True)\n",
    "    multi[0,j].add_class('blue_input')\n",
    "    multi[1,j] = widgets.Text('')\n",
    "    for i in range(2,n+1):\n",
    "        multi[i,j] = widgets.FloatText()\n",
    "    \n",
    "multi[1,0].add_class('blue_input')\n",
    "children = [widgets.HTML(blue), multi]\n",
    "   \n",
    "multi"
   ]
  },
  {
   "cell_type": "code",
   "execution_count": null,
   "metadata": {},
   "outputs": [],
   "source": [
    "data_input_style = \"<style>.data_input input { background-color:#3488B6 !important; }</style>\"\n",
    "\n",
    "multi = GridspecLayout(n+2,6)\n",
    "head = ['Vergleichsunternehmen','EV in MEUR','EV/Umsatz','EV/EBIT','EV/EBITDA','KGV']\n",
    "for j in range(5):\n",
    "    multi[0,j] = widgets.Text(head[j], disabled = True)\n",
    "    multi[0,j].add_class('data_input')\n",
    "    multi[1,j] = widgets.Text('')\n",
    "    for i in range(2,n+1):\n",
    "        multi[i,j] = widgets.FloatText()\n",
    "    \n",
    "#multi[1,0].add_class('data_input')\n",
    "#children = [widgets.HTML(data_input_style), multi]\n",
    "   \n",
    "multi"
   ]
  },
  {
   "cell_type": "code",
   "execution_count": null,
   "metadata": {},
   "outputs": [],
   "source": [
    "print(multi[1,0])"
   ]
  },
  {
   "cell_type": "code",
   "execution_count": null,
   "metadata": {},
   "outputs": [],
   "source": [
    "\n",
    "items = [widgets.Text(str(i)) for i in range(0,n*6)]\n",
    "head = [widgets.Text('A')]\n",
    "#'B','C','D','E','F'\n",
    "#head.append(items)\n",
    "grid = widgets.GridBox(head, layout=widgets.Layout(grid_template_columns=\"repeat(6, 140px)\"))\n",
    "\n",
    "grid.append(')"
   ]
  },
  {
   "cell_type": "code",
   "execution_count": null,
   "metadata": {},
   "outputs": [],
   "source": [
    "\n",
    "\n",
    "c_base = int(\"1F534\",base=16)\n",
    "# widget 1\n",
    "options=['Apples']\n",
    "state = [False]\n",
    "colored_options = ['{} {}'.format(chr(c_base+s), o) for s,o in zip(state,options)]\n",
    "wdg = widgets.IntSlider(\n",
    "    options = colored_options,\n",
    "    disabled=False\n",
    ")\n",
    "\n",
    "display(wdg)"
   ]
  },
  {
   "cell_type": "code",
   "execution_count": null,
   "metadata": {},
   "outputs": [],
   "source": [
    "data_input_style = \"<style>.data_input input { background-color:#D0F0D0 !important; }</style>\"\n",
    "#Html colorcode\n",
    "\n",
    "w = widgets.Text(value = '')\n",
    "w.add_class('data_input')\n",
    "widgets.HTML(data_input_style)"
   ]
  },
  {
   "cell_type": "code",
   "execution_count": null,
   "metadata": {},
   "outputs": [],
   "source": [
    "w"
   ]
  },
  {
   "cell_type": "code",
   "execution_count": null,
   "metadata": {},
   "outputs": [],
   "source": [
    "%%html\n",
    "<style>\n",
    ".lbl_bg{\n",
    "    width:auto;\n",
    "    background-color:yellow;\n",
    "}\n",
    ".box_style{\n",
    "    width:40%;\n",
    "    border : 2px solid red;\n",
    "    height: auto;\n",
    "    background-color:black;\n",
    "}\n",
    "</style>"
   ]
  },
  {
   "cell_type": "code",
   "execution_count": 4,
   "metadata": {},
   "outputs": [],
   "source": [
    "blue_bg = \"<style>.blue input { background-color:#66B3E9 !important; }</style>\"\n",
    "light_blue_bg = \"<style>.light_blue input { background-color:#E1F3FF !important; }</style>\"\n",
    "light_grey_bg = \"<style>.light_grey input { background-color:#BBCBD7 !important; }</style>\""
   ]
  },
  {
   "cell_type": "code",
   "execution_count": 14,
   "metadata": {},
   "outputs": [],
   "source": [
    "test = GridspecLayout(8,4)\n",
    "\n",
    "head = ['Vergleichsunternehmen','EV in MEUR', 'Space1', 'Space2']\n",
    "row = ['Median', 'Mittelwert', 'Sektor Median']\n",
    "for j in range(4):\n",
    "    test[0,j] = widgets.Text(head[j], disabled = True)\n",
    "    test[0,j].add_class('blue')\n",
    "    \n",
    "    for i in range(1,8):\n",
    "        test[i,j] = widgets.FloatText()\n",
    "       \n",
    "        \n",
    "for i in range(1,5):\n",
    "    test[i,0] = widgets.Text('')\n",
    "    test[i,0].add_class('light_blue') \n",
    "\n",
    "for i in range(5,8):\n",
    "    test[i,0] = widgets.Text(row[i-5], disabled = True)\n",
    "    test[i,0].add_class('light_grey') \n",
    "\n",
    "\n",
    "\n",
    "#test[3,1] = widgets.Text('bla')"
   ]
  },
  {
   "cell_type": "code",
   "execution_count": null,
   "metadata": {},
   "outputs": [],
   "source": [
    "# test[5,2] = widgets.FloatText(numpy.median([test[i,2].value for i in range(1,3)]))\n",
    "# test[5,1] = widgets.FloatText(numpy.median([test[i,1].value for i in range(1,3)]))\n",
    "# test[6,2] = widgets.FloatText(numpy.mean([test[i,2].value for i in range(1,3)]))\n",
    "# test[6,1] = widgets.FloatText(numpy.mean([test[i,1].value for i in range(1,3)]))\n"
   ]
  },
  {
   "cell_type": "code",
   "execution_count": 15,
   "metadata": {},
   "outputs": [
    {
     "output_type": "display_data",
     "data": {
      "text/plain": "VBox(children=(HTML(value='<style>.blue input { background-color:#66B3E9 !important; }</style>'), HTML(value='…",
      "application/vnd.jupyter.widget-view+json": {
       "version_major": 2,
       "version_minor": 0,
       "model_id": "0c58515acdad41fcb4ca9667fb91d60c"
      }
     },
     "metadata": {}
    }
   ],
   "source": [
    "def update(change):\n",
    "    test[5,1] = widgets.FloatText(numpy.median([test[i,1].value for i in range(1,5)]))\n",
    "    test[6,1] = widgets.FloatText(numpy.mean([test[i,1].value for i in range(1,5)]))\n",
    "\n",
    "def update2(change):\n",
    "    test[7,1] = widgets.FloatText(((test[1,1].value + test[1,2].value)*0.5))\n",
    "\n",
    "test[1,1].observe(update, 'value')\n",
    "test[2,1].observe(update, 'value')\n",
    "test[1,1].observe(update2, 'value')\n",
    "test[2,1].observe(update2, 'value')\n",
    "test[3,1].observe(update, 'value')\n",
    "test[4,1].observe(update, 'value')\n",
    "\n",
    "grid1 = [widgets.HTML(blue_bg),widgets.HTML(light_blue_bg), widgets.HTML(light_grey_bg), test]\n",
    "widgets.VBox(grid1)"
   ]
  },
  {
   "cell_type": "code",
   "execution_count": 10,
   "metadata": {},
   "outputs": [],
   "source": [
    "test[7,1] = widgets.FloatText(((test[1,1].value + test[1,2].value)*0.5))\n",
    "\n"
   ]
  }
 ]
}