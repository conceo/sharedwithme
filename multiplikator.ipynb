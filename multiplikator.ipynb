{
 "metadata": {
  "language_info": {
   "codemirror_mode": {
    "name": "ipython",
    "version": 3
   },
   "file_extension": ".py",
   "mimetype": "text/x-python",
   "name": "python",
   "nbconvert_exporter": "python",
   "pygments_lexer": "ipython3",
   "version": "3.7.6-final"
  },
  "orig_nbformat": 2,
  "kernelspec": {
   "name": "python3",
   "display_name": "Python 3.7.6 64-bit ('49160': virtualenv)",
   "metadata": {
    "interpreter": {
     "hash": "7b1323920e4f51c58294b8fef35a4a8660dc4ed3fa896d476af9d73e9cae3e90"
    }
   }
  }
 },
 "nbformat": 4,
 "nbformat_minor": 2,
 "cells": [
  {
   "cell_type": "code",
   "execution_count": 53,
   "metadata": {},
   "outputs": [],
   "source": [
    "import pandas\n",
    "import numpy \n",
    "import ipywidgets as widgets\n",
    "from ipywidgets import Layout, GridspecLayout, AppLayout"
   ]
  },
  {
   "cell_type": "code",
   "execution_count": null,
   "metadata": {},
   "outputs": [],
   "source": [
    "newgrid = GridspecLayout(10,2)\n",
    "\n",
    "newgrid[0,1] = zoom_slider\n"
   ]
  },
  {
   "cell_type": "code",
   "execution_count": 54,
   "metadata": {},
   "outputs": [
    {
     "output_type": "display_data",
     "data": {
      "text/plain": "FileUpload(value={}, description='Upload')",
      "application/vnd.jupyter.widget-view+json": {
       "version_major": 2,
       "version_minor": 0,
       "model_id": "0659568b06a844e7b962e1c535ee66fa"
      }
     },
     "metadata": {}
    }
   ],
   "source": [
    "widgets.FileUpload(\n",
    "    accept='',  # Accepted file extension e.g. '.txt', '.pdf', 'image/*', 'image/*,.pdf'\n",
    "    multiple=False  # True to accept multiple files upload else False\n",
    ")"
   ]
  },
  {
   "cell_type": "code",
   "execution_count": 99,
   "metadata": {},
   "outputs": [
    {
     "output_type": "display_data",
     "data": {
      "text/plain": "<IPython.core.display.Javascript object>",
      "application/javascript": "require.undef('myselectmultiple');\ndefine('myselectmultiple', [\"@jupyter-widgets/base\"], function(widgets) {\n    class selectmultipleView extends widgets.SelectMultipleView {\n        render () {\n            super.render();\n            this.mycolor_changed();\n            this.model.on('change:mycolor', this.mycolor_changed, this);\n        }\n        mycolor_changed () {\n            var mycolor = this.model.get('mycolor')\n            this.el.childNodes[1].style.backgroundColor = mycolor;\n        }\n    }\n    return {\n        myselectmultipleview : selectmultipleView\n    };\n})\n"
     },
     "metadata": {}
    }
   ],
   "source": [
    "%%javascript\n",
    "require.undef('myselectmultiple');\n",
    "define('myselectmultiple', [\"@jupyter-widgets/base\"], function(widgets) {\n",
    "    class selectmultipleView extends widgets.SelectMultipleView {\n",
    "        render () {\n",
    "            super.render();\n",
    "            this.mycolor_changed();\n",
    "            this.model.on('change:mycolor', this.mycolor_changed, this);\n",
    "        }\n",
    "        mycolor_changed () {\n",
    "            var mycolor = this.model.get('mycolor')\n",
    "            this.el.childNodes[1].style.backgroundColor = mycolor;\n",
    "        }\n",
    "    }\n",
    "    return {\n",
    "        myselectmultipleview : selectmultipleView\n",
    "    };\n",
    "})"
   ]
  },
  {
   "cell_type": "code",
   "execution_count": 118,
   "metadata": {},
   "outputs": [
    {
     "output_type": "display_data",
     "data": {
      "text/plain": "HTML(value='<style>.data_input input { background-color:#D0F0D0 !important; }</style>')",
      "application/vnd.jupyter.widget-view+json": {
       "version_major": 2,
       "version_minor": 0,
       "model_id": "929321fca71742cd9fa06b81909c7060"
      }
     },
     "metadata": {}
    }
   ],
   "source": [
    "#Anzahl Vergleichsunternehmen\n",
    "n = 4\n",
    "\n",
    "\n",
    "\n",
    "\n",
    "data_input_style = \"<style>.data_input input { background-color:#D0F0D0 !important; }</style>\"\n",
    "#Html colorcode\n",
    "\n",
    "w = widgets.Text(value = '')\n",
    "w.add_class('data_input')\n",
    "widgets.HTML(data_input_style)"
   ]
  },
  {
   "cell_type": "code",
   "execution_count": 123,
   "metadata": {},
   "outputs": [
    {
     "output_type": "display_data",
     "data": {
      "text/plain": "GridspecLayout(children=(Text(value='A', layout=Layout(grid_area='widget001')), IntSlider(value=0, layout=Layo…",
      "application/vnd.jupyter.widget-view+json": {
       "version_major": 2,
       "version_minor": 0,
       "model_id": "45cf417e7f364fb7af47aa171f91f59e"
      }
     },
     "metadata": {}
    }
   ],
   "source": [
    "multi = GridspecLayout(2,6)\n",
    "head = ['A','B','C','D','E','F']\n",
    "for j in range(5):\n",
    "    multi[0,j] = widgets.Text(head[j], disabled = False)\n",
    "    \n",
    "    multi[1,j-1] = widgets.IntSlider()\n",
    "    \n",
    "multi[1,0].add_class('data_input')\n",
    "children = [widgets.HTML(data_input_style), multi]\n",
    "   \n",
    "multi"
   ]
  },
  {
   "cell_type": "code",
   "execution_count": 77,
   "metadata": {},
   "outputs": [
    {
     "output_type": "stream",
     "name": "stdout",
     "text": [
      "IntSlider(value=12, layout=Layout(grid_area='widget002'))\n"
     ]
    }
   ],
   "source": [
    "print(multi[1,0])"
   ]
  },
  {
   "cell_type": "code",
   "execution_count": 39,
   "metadata": {},
   "outputs": [
    {
     "output_type": "error",
     "ename": "AttributeError",
     "evalue": "'GridBox' object has no attribute 'append'",
     "traceback": [
      "\u001b[1;31m---------------------------------------------------------------------------\u001b[0m",
      "\u001b[1;31mAttributeError\u001b[0m                            Traceback (most recent call last)",
      "\u001b[1;32m<ipython-input-39-dd3bcaf5d5a6>\u001b[0m in \u001b[0;36m<module>\u001b[1;34m\u001b[0m\n\u001b[0;32m      5\u001b[0m \u001b[0mgrid\u001b[0m \u001b[1;33m=\u001b[0m \u001b[0mwidgets\u001b[0m\u001b[1;33m.\u001b[0m\u001b[0mGridBox\u001b[0m\u001b[1;33m(\u001b[0m\u001b[0mhead\u001b[0m\u001b[1;33m,\u001b[0m \u001b[0mlayout\u001b[0m\u001b[1;33m=\u001b[0m\u001b[0mwidgets\u001b[0m\u001b[1;33m.\u001b[0m\u001b[0mLayout\u001b[0m\u001b[1;33m(\u001b[0m\u001b[0mgrid_template_columns\u001b[0m\u001b[1;33m=\u001b[0m\u001b[1;34m\"repeat(6, 140px)\"\u001b[0m\u001b[1;33m)\u001b[0m\u001b[1;33m)\u001b[0m\u001b[1;33m\u001b[0m\u001b[1;33m\u001b[0m\u001b[0m\n\u001b[0;32m      6\u001b[0m \u001b[1;33m\u001b[0m\u001b[0m\n\u001b[1;32m----> 7\u001b[1;33m \u001b[0mgrid\u001b[0m\u001b[1;33m.\u001b[0m\u001b[0mappend\u001b[0m\u001b[1;33m(\u001b[0m\u001b[1;34m'B'\u001b[0m\u001b[1;33m)\u001b[0m\u001b[1;33m\u001b[0m\u001b[1;33m\u001b[0m\u001b[0m\n\u001b[0m",
      "\u001b[1;31mAttributeError\u001b[0m: 'GridBox' object has no attribute 'append'"
     ]
    }
   ],
   "source": [
    "\n",
    "items = [widgets.Text(str(i)) for i in range(0,n*6)]\n",
    "head = [widgets.Text('A')]\n",
    "#'B','C','D','E','F'\n",
    "#head.append(items)\n",
    "grid = widgets.GridBox(head, layout=widgets.Layout(grid_template_columns=\"repeat(6, 140px)\"))\n",
    "\n",
    "grid.append(')"
   ]
  },
  {
   "cell_type": "code",
   "execution_count": 107,
   "metadata": {},
   "outputs": [
    {
     "output_type": "display_data",
     "data": {
      "text/plain": "IntSlider(value=0)",
      "application/vnd.jupyter.widget-view+json": {
       "version_major": 2,
       "version_minor": 0,
       "model_id": "3b3b2816669746ce983a6595cd83ac6c"
      }
     },
     "metadata": {}
    }
   ],
   "source": [
    "\n",
    "\n",
    "c_base = int(\"1F534\",base=16)\n",
    "# widget 1\n",
    "options=['Apples']\n",
    "state = [False]\n",
    "colored_options = ['{} {}'.format(chr(c_base+s), o) for s,o in zip(state,options)]\n",
    "wdg = widgets.IntSlider(\n",
    "    options = colored_options,\n",
    "    disabled=False\n",
    ")\n",
    "\n",
    "display(wdg)"
   ]
  },
  {
   "cell_type": "code",
   "execution_count": 112,
   "metadata": {},
   "outputs": [
    {
     "output_type": "display_data",
     "data": {
      "text/plain": "HTML(value='<style>.data_input input { background-color:#D0F0D0 !important; }</style>')",
      "application/vnd.jupyter.widget-view+json": {
       "version_major": 2,
       "version_minor": 0,
       "model_id": "15f103ae763d44129909fc24b211d26c"
      }
     },
     "metadata": {}
    }
   ],
   "source": [
    "data_input_style = \"<style>.data_input input { background-color:#D0F0D0 !important; }</style>\"\n",
    "#Html colorcode\n",
    "\n",
    "w = widgets.Text(value = '')\n",
    "w.add_class('data_input')\n",
    "widgets.HTML(data_input_style)"
   ]
  },
  {
   "cell_type": "code",
   "execution_count": 113,
   "metadata": {},
   "outputs": [
    {
     "output_type": "display_data",
     "data": {
      "text/plain": "Text(value='', _dom_classes=('data_input',))",
      "application/vnd.jupyter.widget-view+json": {
       "version_major": 2,
       "version_minor": 0,
       "model_id": "c29a01138d4848b399d4e6f93b773ad0"
      }
     },
     "metadata": {}
    }
   ],
   "source": [
    "w"
   ]
  },
  {
   "cell_type": "code",
   "execution_count": 108,
   "metadata": {},
   "outputs": [
    {
     "output_type": "display_data",
     "data": {
      "text/plain": "<IPython.core.display.HTML object>",
      "text/html": "<style>\n.lbl_bg{\n    width:auto;\n    background-color:yellow;\n}\n.box_style{\n    width:40%;\n    border : 2px solid red;\n    height: auto;\n    background-color:black;\n}\n</style>\n"
     },
     "metadata": {}
    }
   ],
   "source": [
    "%%html\n",
    "<style>\n",
    ".lbl_bg{\n",
    "    width:auto;\n",
    "    background-color:yellow;\n",
    "}\n",
    ".box_style{\n",
    "    width:40%;\n",
    "    border : 2px solid red;\n",
    "    height: auto;\n",
    "    background-color:black;\n",
    "}\n",
    "</style>"
   ]
  }
 ]
}