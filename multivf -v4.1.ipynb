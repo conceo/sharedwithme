{
 "cells": [
  {
   "cell_type": "code",
   "execution_count": 20,
   "metadata": {
    "ExecuteTime": {
     "end_time": "2021-03-22T16:14:18.385811Z",
     "start_time": "2021-03-22T16:14:18.381632Z"
    }
   },
   "outputs": [],
   "source": [
    "import pandas as pd\n",
    "import numpy \n",
    "import ipywidgets as widgets\n",
    "from ipywidgets import Layout, GridspecLayout, AppLayout, HTML"
   ]
  },
  {
   "cell_type": "code",
   "execution_count": 21,
   "metadata": {
    "ExecuteTime": {
     "end_time": "2021-03-22T16:14:20.112212Z",
     "start_time": "2021-03-22T16:14:20.099069Z"
    },
    "hide_input": false
   },
   "outputs": [],
   "source": [
    "blue_bg = \"<style>.blue input { background-color:#66B3E9 !important; }</style>\"\n",
    "light_blue_bg = \"<style>.light_blue input { background-color:#E1F3FF !important; }</style>\"\n",
    "light_grey_bg = \"<style>.light_grey input { background-color:#BBCBD7 !important; }</style>\""
   ]
  },
  {
   "cell_type": "code",
   "execution_count": 22,
   "metadata": {
    "ExecuteTime": {
     "end_time": "2021-03-22T16:14:22.335388Z",
     "start_time": "2021-03-22T16:14:22.331617Z"
    }
   },
   "outputs": [],
   "source": [
    "# Anzahl Vergleichsunternehmen\n",
    "n = 4\n",
    "# Festlegung Bewertungsmaßstab Multiplikatorverfahren\n",
    "Bew = 0.15"
   ]
  },
  {
   "cell_type": "code",
   "execution_count": 23,
   "metadata": {
    "ExecuteTime": {
     "end_time": "2021-03-22T16:14:24.285781Z",
     "start_time": "2021-03-22T16:14:24.261554Z"
    }
   },
   "outputs": [
    {
     "data": {
      "application/vnd.jupyter.widget-view+json": {
       "model_id": "c90a5e0e1a394c1697ac4e1df6287920",
       "version_major": 2,
       "version_minor": 0
      },
      "text/plain": [
       "FileUpload(value={}, accept='.xlsx', description='Upload')"
      ]
     },
     "metadata": {},
     "output_type": "display_data"
    }
   ],
   "source": [
    "widgets.FileUpload(\n",
    "    accept='.xlsx',  # Accepted file extension e.g. '.txt', '.pdf', 'image/*', 'image/*,.pdf'\n",
    "    multiple=False  # True to accept multiple files upload else False\n",
    ")"
   ]
  },
  {
   "cell_type": "code",
   "execution_count": 25,
   "metadata": {
    "ExecuteTime": {
     "end_time": "2021-03-22T16:14:36.496008Z",
     "start_time": "2021-03-22T16:14:36.178523Z"
    }
   },
   "outputs": [],
   "source": [
    "\n",
    "ins = GridspecLayout(9,2,layout=widgets.Layout(width=\"290px\"))\n",
    "\n",
    "inshead = ['Inputs','Fiskaljahr','Umsatz','EBIT','EBITDA','Gewinn', 'Kasse & Liquide Mittel', 'Finanzverbindlichkeiten', 'Equity Bridge']\n",
    "inputvec = [2018, 70300000, 1800000, 3200000, 1260000, 1851000, 9358000, -7507000]\n",
    "\n",
    "ins[0,0] = widgets.Text(inshead[0], layout = widgets.Layout(width =\"180px\"))\n",
    "ins[0,0].add_class('blue')\n",
    "\n",
    "\n",
    "for i in range(1,9):\n",
    "    ins[i,0] = widgets.Text(inshead[i], layout = widgets.Layout(width =\"180px\"))\n",
    "    ins[i,1] = widgets.FloatText(inputvec[i-1], layout = widgets.Layout(width =\"90px\"))\n",
    "    ins[i,0].add_class('blue')\n",
    "\n",
    "grid0 = [widgets.HTML(blue_bg), widgets.HTML(light_grey_bg), ins]"
   ]
  },
  {
   "cell_type": "code",
   "execution_count": 26,
   "metadata": {
    "ExecuteTime": {
     "end_time": "2021-03-22T16:14:39.561722Z",
     "start_time": "2021-03-22T16:14:38.230508Z"
    }
   },
   "outputs": [],
   "source": [
    "## Eingabefeld\n",
    "def multifunc(added, a):  \n",
    "    \n",
    "    multinew = GridspecLayout((a+added+1),6, layout=widgets.Layout(width=\"660px\"))\n",
    "\n",
    "    head = ['Vergleichsunternehmen','EV in MEUR','EV/Umsatz','EV/EBIT','EV/EBITDA','KGV']\n",
    "    row = ['Median', 'Mittelwert', 'Sektor Median']\n",
    "\n",
    "    multinew[0,0] = widgets.Text(head[0], disabled = False,layout=widgets.Layout(width=\"180px\"))\n",
    "    multinew[0,0].add_class('blue')\n",
    "\n",
    "    for j in range(1,6):\n",
    "        multinew[0,j] = widgets.Text(head[j], disabled = True, layout=widgets.Layout(width=\"90px\"))\n",
    "        multinew[0,j].add_class('blue')\n",
    "\n",
    "        for i in range(1,n+1):\n",
    "            multinew[i,j] = widgets.FloatText(0,layout=widgets.Layout(width=\"90px\"))\n",
    "            multinew[i,0] = widgets.Text('',layout=widgets.Layout(width=\"180px\"))\n",
    "            multinew[i,0].add_class('light_blue')  \n",
    "            \n",
    "        if added != 0:\n",
    "            for i in range(0,a+1):\n",
    "    #             multinew[i,j] = widgets.FloatText(vec[i][j],layout=widgets.Layout(width=\"90px\"))\n",
    "    #             multinew[i,0] = widgets.Text(vec[0][0],layout=widgets.Layout(width=\"180px\"))\n",
    "    #             multinew[i,0].add_class('light_blue') \n",
    "                multinew[i,j] = multi[i,j]\n",
    "    \n",
    "            for i in range(added+1):\n",
    "                multinew[a+i,j] = widgets.FloatText(0,layout=widgets.Layout(width=\"90px\"))\n",
    "                multinew[a+i,0] = widgets.Text('',layout=widgets.Layout(width=\"180px\"))\n",
    "                multinew[a+i,0].add_class('light_blue') \n",
    "            \n",
    "            \n",
    "    return(multinew)\n",
    "\n",
    "# multi = GridspecLayout(n+1,6, layout=widgets.Layout(width=\"660px\"))\n",
    "\n",
    "\n",
    "# head = ['Vergleichsunternehmen','EV in MEUR','EV/Umsatz','EV/EBIT','EV/EBITDA','KGV']\n",
    "# row = ['Median', 'Mittelwert', 'Sektor Median']\n",
    "\n",
    "# multi[0,0] = widgets.Text(head[0], disabled = False,layout=widgets.Layout(width=\"180px\"))\n",
    "# multi[0,0].add_class('blue')\n",
    "\n",
    "# for j in range(1,6):\n",
    "#     multi[0,j] = widgets.Text(head[j], disabled = True, layout=widgets.Layout(width=\"90px\"))\n",
    "#     multi[0,j].add_class('blue')\n",
    "    \n",
    "#     for i in range(1,n+1):\n",
    "#         multi[i,j] = widgets.FloatText(0,layout=widgets.Layout(width=\"90px\"))\n",
    "#         multi[i,0] = widgets.Text('',layout=widgets.Layout(width=\"180px\"))\n",
    "#         multi[i,0].add_class('light_blue') \n",
    "\n",
    "        \n",
    "        \n",
    "## Medianberechnung\n",
    "medi = GridspecLayout(4,200, layout=widgets.Layout(width=\"660px\"))\n",
    "row = ['Median', 'Mittelwert', 'Sektor Median']\n",
    "for i in range(3):\n",
    "    medi[i,0] = widgets.Text(row[i], disabled = True, layout=widgets.Layout(width=\"180px\"))\n",
    "    medi[i,0].add_class('light_grey') \n",
    "    for j in range(1,6):\n",
    "        medi[i,j] = widgets.FloatText(0, disabled = True, layout=widgets.Layout(width=\"91px\"))\n",
    "        medi[2,j] = widgets.FloatText(0, disabled = False, layout=widgets.Layout(width=\"90px\"))\n",
    "        \n",
    "\n",
    "multi = multifunc(0,n)\n",
    "grid00 = widgets.VBox([widgets.HTML(blue_bg),widgets.HTML(light_blue_bg), multi])\n",
    "grid01 = widgets.VBox([widgets.HTML(light_grey_bg), medi])\n",
    "\n",
    "#Grid00 = widgets.VBox([grid00, grid01])"
   ]
  },
  {
   "cell_type": "code",
   "execution_count": 27,
   "metadata": {
    "ExecuteTime": {
     "end_time": "2021-03-22T16:14:42.024824Z",
     "start_time": "2021-03-22T16:14:41.994000Z"
    }
   },
   "outputs": [],
   "source": [
    "def multimed(a):\n",
    "    x = numpy.median([multi[i,a].value for i in range(1,n+1)])\n",
    "    return(x)\n",
    "\n",
    "def ev(change):\n",
    "    medi[0,1] = widgets.FloatText(multimed(1), disabled = True, layout=widgets.Layout(width=\"91px\"))\n",
    "    medi[1,1] = widgets.FloatText(numpy.mean([multi[i,1].value for i in range(1,n+1)]), disabled = True,layout=widgets.Layout(width=\"90px\"))\n",
    "\n",
    "def evzuu(change):\n",
    "    medi[0,2] = widgets.FloatText(multimed(2),  disabled = True,layout=widgets.Layout(width=\"91px\"))\n",
    "    medi[1,2] = widgets.FloatText(numpy.mean([multi[i,2].value for i in range(1,n+1)]), disabled = True,layout=widgets.Layout(width=\"90px\"))\n",
    "\n",
    "def evzuebit(change):\n",
    "    medi[0,3] = widgets.FloatText(multimed(3), disabled = True, layout=widgets.Layout(width=\"91px\"))\n",
    "    medi[1,3] = widgets.FloatText(numpy.mean([multi[i,3].value for i in range(1,n+1)]), disabled = True,layout=widgets.Layout(width=\"90px\"))\n",
    "\n",
    "def evzuebitda(change):\n",
    "    medi[0,4] = widgets.FloatText(multimed(4), disabled = True, layout=widgets.Layout(width=\"91px\"))\n",
    "    medi[1,4] = widgets.FloatText(numpy.mean([multi[i,4].value for i in range(1,n+1)]), disabled = True,layout=widgets.Layout(width=\"90px\"))\n",
    "\n",
    "def kgv(change):\n",
    "    medi[0,5] = widgets.FloatText(multimed(5), disabled = True, layout=widgets.Layout(width=\"91px\"))\n",
    "    medi[1,5] = widgets.FloatText(numpy.mean([multi[i,5].value for i in range(1,n+1)]), disabled = True,layout=widgets.Layout(width=\"90px\"))"
   ]
  },
  {
   "cell_type": "code",
   "execution_count": 28,
   "metadata": {
    "ExecuteTime": {
     "end_time": "2021-03-22T16:14:43.779705Z",
     "start_time": "2021-03-22T16:14:43.765497Z"
    }
   },
   "outputs": [],
   "source": [
    "# OBSERVE \n",
    "for i in range(1,n+1):\n",
    "    multi[i,1].observe(ev, 'value')\n",
    "for i in range(1,n+1):\n",
    "    multi[i,2].observe(evzuu, 'value')\n",
    "\n",
    "for i in range(1,n+1):\n",
    "    multi[i,3].observe(evzuebit, 'value')\n",
    "\n",
    "for i in range(1,n+1):\n",
    "    multi[i,4].observe(evzuebitda, 'value')\n",
    "\n",
    "for i in range(1,n+1):\n",
    "    multi[i,5].observe(kgv, 'value')\n"
   ]
  },
  {
   "cell_type": "code",
   "execution_count": 29,
   "metadata": {
    "ExecuteTime": {
     "end_time": "2021-03-22T16:14:46.636227Z",
     "start_time": "2021-03-22T16:14:45.663745Z"
    }
   },
   "outputs": [],
   "source": [
    "\n",
    "# KALIBRIERUNGEN\n",
    "outs = GridspecLayout(7,5, layout=widgets.Layout(width=\"630px\"))\n",
    "\n",
    "outhead = ['Umsatz','EBIT','EBITDA','Gewinn']\n",
    "outrow = ['Zielunternehmen', 'Enterprise Value (Median)', 'Enterprise Value (Sektor)', 'Equity Bridge', 'Equity Value (Median)', 'Equity Value (Sektor)']\n",
    "\n",
    "for j in range(4):\n",
    "    outs[0,j+1] = widgets.Text(outhead[j], disabled = False, layout=widgets.Layout(width=\"90px\"))\n",
    "    outs[0,j+1].add_class('blue')\n",
    "\n",
    "\n",
    "# Zielunternehmen -- Erste Zeile\n",
    "outs[1,1] = widgets.FloatText(ins[2,1].value, disabled = True, layout=widgets.Layout(width=\"90px\"))\n",
    "outs[1,2] = widgets.FloatText(ins[3,1].value, disabled = True, layout=widgets.Layout(width=\"90px\"))\n",
    "outs[1,3] = widgets.FloatText(ins[4,1].value, disabled = True, layout=widgets.Layout(width=\"90px\"))\n",
    "outs[1,4] = widgets.FloatText(ins[5,1].value, disabled = True, layout=widgets.Layout(width=\"90px\"))\n",
    "\n",
    "\n",
    "for j in range(4):\n",
    "     for i in range(2,7):\n",
    "        outs[i,j] = widgets.FloatText(0, disabled = True, layout=widgets.Layout(width=\"90px\"))\n",
    "        \n",
    "# Equity Bridge -- Vierte Zeile\n",
    "outs[4,1] = widgets.FloatText(ins[8,1].value, disabled = True, layout=widgets.Layout(width=\"90px\"))\n",
    "outs[4,2] = widgets.FloatText(ins[8,1].value, disabled = True, layout=widgets.Layout(width=\"90px\"))\n",
    "outs[4,3] = widgets.FloatText(ins[8,1].value, disabled = True, layout=widgets.Layout(width=\"90px\"))  \n",
    "                   \n",
    "for i in range(1,7):\n",
    "    outs[i,0] = widgets.Text(outrow[i-1], disabled = True, layout=widgets.Layout(width=\"240px\"))\n",
    "    outs[i,0].add_class('light_grey') \n",
    "\n",
    "outs[1,4] = widgets.FloatText(ins[5,1].value, disabled = True, layout=widgets.Layout(width=\"90px\"))\n",
    "outs[5,4] = widgets.FloatText(0, disabled = True, layout=widgets.Layout(width=\"90px\"))\n",
    "outs[6,4] = widgets.FloatText(0, disabled = True, layout=widgets.Layout(width=\"90px\"))\n",
    "\n",
    "\n",
    "\n",
    "\n",
    "# Equity Value -- Results Table\n",
    "equityval = GridspecLayout(9,2, layout = widgets.Layout(width =\"350px\"))\n",
    "equhead = ['Equity Value (Marktwert des Eigenkapitals)','Umsatz Sektor','Umsatz Peer','EBIT Sektor','EBIT Peer','EBITDA Sektor','EBITDA Peer', 'KGV Sektor', 'KGV Peer']\n",
    "\n",
    "\n",
    "## ÜBERSCHRIFT??\n",
    "# equityval[0,0] = widgets.Text(equhead[0], layout = widgets.Layout(width =\"230px\"))\n",
    "# equityval[0,0].add_class('blue')\n",
    "\n",
    "\n",
    "for i in range(1,9):\n",
    "    equityval[i,0] = widgets.Text(equhead[i], disabled = False, layout = widgets.Layout(width =\"180px\"))\n",
    "    equityval[i,1] = widgets.FloatText(0,disabled = True, layout = widgets.Layout(width =\"100px\"))\n",
    "    equityval[i,0].add_class('blue')\n",
    "\n",
    "\n",
    "\n"
   ]
  },
  {
   "cell_type": "code",
   "execution_count": 30,
   "metadata": {
    "ExecuteTime": {
     "end_time": "2021-03-22T16:14:48.558547Z",
     "start_time": "2021-03-22T16:14:48.439011Z"
    }
   },
   "outputs": [],
   "source": [
    "\n",
    "## UPDATE FUNKTIONEN\n",
    "def inschanges(change):\n",
    "    # Zielunternehmen\n",
    "    outs[1,1] = widgets.FloatText(ins[2,1].value, disabled = True, layout=widgets.Layout(width=\"90px\"))\n",
    "    outs[1,2] = widgets.FloatText(ins[3,1].value, disabled = True, layout=widgets.Layout(width=\"90px\"))\n",
    "    outs[1,3] = widgets.FloatText(ins[4,1].value, disabled = True, layout=widgets.Layout(width=\"90px\"))\n",
    "    outs[1,4] = widgets.FloatText(ins[5,1].value, disabled = True, layout=widgets.Layout(width=\"90px\"))\n",
    "\n",
    "    # Equity Bridge\n",
    "    outs[4,1] = widgets.FloatText(ins[8,1].value, disabled = True, layout=widgets.Layout(width=\"90px\"))\n",
    "    outs[4,2] = widgets.FloatText(ins[8,1].value, disabled = True, layout=widgets.Layout(width=\"90px\"))\n",
    "    outs[4,3] = widgets.FloatText(ins[8,1].value, disabled = True, layout=widgets.Layout(width=\"90px\"))\n",
    "\n",
    "\n",
    "ins[2,1].observe(inschanges, 'value')\n",
    "ins[3,1].observe(inschanges, 'value')\n",
    "ins[4,1].observe(inschanges, 'value')\n",
    "ins[5,1].observe(inschanges, 'value')\n",
    "ins[8,1].observe(inschanges, 'value')\n",
    "\n",
    "\n",
    "def medenterprise(change):\n",
    "    # Enterprise Value (Median) \n",
    "    # - Umsatz \n",
    "    outs[2,1] = widgets.FloatText(ins[2,1].value*multimed(2), disabled = True,layout=widgets.Layout(width=\"90px\"))\n",
    "    # - EBIT  \n",
    "    outs[2,2] = widgets.FloatText(ins[3,1].value*multimed(3), disabled = True, layout=widgets.Layout(width=\"90px\"))\n",
    "    # - EBITDA\n",
    "    outs[2,3] = widgets.FloatText(ins[4,1].value*multimed(4), disabled = True, layout=widgets.Layout(width=\"90px\"))\n",
    "    \n",
    "    equityval[2,1] = widgets.FloatText(((ins[2,1].value*multimed(2)) + ins[8,1].value)*(1-Bew), disabled = True, layout=widgets.Layout(width=\"100px\"))\n",
    "    equityval[4,1] = widgets.FloatText(((ins[3,1].value*multimed(3)) + ins[8,1].value)*(1-Bew), disabled = True, layout=widgets.Layout(width=\"100px\"))\n",
    "    equityval[6,1] = widgets.FloatText(((ins[4,1].value*multimed(4)) + ins[8,1].value)*(1-Bew), disabled = True, layout=widgets.Layout(width=\"100px\"))\n",
    "    equityval[8,1] = widgets.FloatText((ins[5,1].value)*(multimed(5))*(1-Bew), disabled = True, layout=widgets.Layout(width=\"100px\"))\n",
    "    \n",
    "for j in range(2,6):\n",
    "    for i in range(n):\n",
    "        multi[i,j].observe(medenterprise, 'value')\n",
    "\n",
    "    \n",
    "ins[2,1].observe(medenterprise, 'value')\n",
    "ins[3,1].observe(medenterprise, 'value')\n",
    "ins[4,1].observe(medenterprise, 'value')\n",
    "\n",
    "def sekenterprise(change):\n",
    "    # Enterprise Value (Sektor)\n",
    "    #  - Umsatz\n",
    "    outs[3,1] = widgets.FloatText(ins[2,1].value*medi[2,2].value, disabled = True, layout=widgets.Layout(width=\"90px\"))\n",
    "    # - EBIT  \n",
    "    outs[3,2] = widgets.FloatText(ins[3,1].value*medi[2,3].value, disabled = True, layout=widgets.Layout(width=\"90px\"))\n",
    "    # - EBITDA\n",
    "    outs[3,3] = widgets.FloatText(ins[4,1].value*medi[2,4].value, disabled = True,layout=widgets.Layout(width=\"90px\"))\n",
    "\n",
    "\n",
    "medi[2,2].observe(sekenterprise, 'value')\n",
    "medi[2,3].observe(sekenterprise, 'value')\n",
    "medi[2,4].observe(sekenterprise, 'value')\n",
    "ins[4,1].observe(sekenterprise, 'value')\n",
    "ins[2,1].observe(sekenterprise, 'value')\n",
    "ins[3,1].observe(sekenterprise, 'value')\n",
    "\n",
    "\n",
    "def medequity(change):\n",
    "    # Equity Value (Median)\n",
    "    #  - Umsatz\n",
    "    outs[5,1] = widgets.FloatText(((ins[2,1].value*multimed(2)) + ins[8,1].value)*(1-Bew), disabled = True, layout=widgets.Layout(width=\"90px\"))\n",
    "    # - EBIT  \n",
    "    outs[5,2] = widgets.FloatText(((ins[3,1].value*multimed(3)) + ins[8,1].value)*(1-Bew), disabled = True, layout=widgets.Layout(width=\"90px\"))\n",
    "    # - EBITDA\n",
    "    outs[5,3] = widgets.FloatText(((ins[4,1].value*multimed(4)) + ins[8,1].value)*(1-Bew), disabled = True, layout=widgets.Layout(width=\"90px\"))\n",
    "    # - Gewinn\n",
    "    outs[5,4] = widgets.FloatText((ins[5,1].value)*(multimed(5))*(1-Bew), disabled = True, layout=widgets.Layout(width=\"90px\"))\n",
    "\n",
    "\n",
    "for j in range(2,6):\n",
    "    for i in range(n):\n",
    "        multi[i,j].observe(medequity, 'value')\n",
    "        \n",
    "ins[2,1].observe(medequity, 'value')\n",
    "ins[3,1].observe(medequity, 'value')\n",
    "ins[4,1].observe(medequity, 'value')\n",
    "ins[5,1].observe(medequity, 'value')\n",
    "ins[8,1].observe(medequity, 'value')\n",
    "\n",
    "\n",
    "def sekequity(change):\n",
    "    # Equity Value (Sektor)\n",
    "    #  - Umsatz\n",
    "    outs[6,1] = widgets.FloatText(((ins[2,1].value*medi[2,2].value) + ins[8,1].value)*(1-Bew), disabled = True, layout=widgets.Layout(width=\"90px\"))\n",
    "    # - EBIT  \n",
    "    outs[6,2] = widgets.FloatText(((ins[3,1].value*medi[2,3].value) + ins[8,1].value)*(1-Bew), disabled = True, layout=widgets.Layout(width=\"90px\"))\n",
    "    # - EBITDA\n",
    "    outs[6,3] = widgets.FloatText((((ins[4,1].value*medi[2,4].value) + ins[8,1].value)*(1-Bew)), disabled = True, layout=widgets.Layout(width=\"90px\"))\n",
    "    # - Gewinn\n",
    "    outs[6,4] = widgets.FloatText((ins[5,1].value)*(medi[2,5].value)*(1-Bew), disabled = True, layout=widgets.Layout(width=\"90px\"))\n",
    "    \n",
    "    equityval[1,1] = widgets.FloatText(((ins[2,1].value*medi[2,2].value) + ins[8,1].value)*(1-Bew), disabled = True, layout=widgets.Layout(width=\"100px\"))\n",
    "    equityval[3,1] = widgets.FloatText(((ins[3,1].value*medi[2,3].value) + ins[8,1].value)*(1-Bew), disabled = True, layout=widgets.Layout(width=\"100px\"))\n",
    "    equityval[5,1] =  widgets.FloatText((((ins[4,1].value*medi[2,4].value) + ins[8,1].value)*(1-Bew)), disabled = True, layout=widgets.Layout(width=\"100px\"))\n",
    "    equityval[7,1] = widgets.FloatText((ins[5,1].value)*(medi[2,5].value)*(1-Bew), disabled = True, layout=widgets.Layout(width=\"100px\"))\n",
    "\n",
    "medi[2,5].observe(sekequity, 'value')\n",
    "medi[2,4].observe(sekequity, 'value')\n",
    "medi[2,2].observe(sekequity, 'value')\n",
    "medi[2,3].observe(sekequity, 'value')\n",
    "ins[8,1].observe(sekequity, 'value')\n",
    "ins[4,1].observe(sekequity, 'value')\n",
    "ins[2,1].observe(sekequity, 'value')\n",
    "ins[3,1].observe(sekequity, 'value')\n",
    "\n",
    "\n",
    "\n",
    "#grid1 = [widgets.HTML(blue_bg),widgets.HTML(light_blue_bg), widgets.HTML(light_grey_bg), multifunc(0,n)]\n",
    "grid2 = [widgets.HTML(blue_bg), widgets.HTML(light_grey_bg), outs]\n",
    "grid3 = [widgets.HTML(blue_bg), widgets.HTML(light_grey_bg), equityval]   "
   ]
  },
  {
   "cell_type": "code",
   "execution_count": 44,
   "metadata": {
    "ExecuteTime": {
     "end_time": "2021-03-22T16:17:56.989457Z",
     "start_time": "2021-03-22T16:17:56.964433Z"
    }
   },
   "outputs": [],
   "source": [
    "def multifunc(added, n):  \n",
    "    \n",
    "    multinew = GridspecLayout((added+n+1),6, layout=widgets.Layout(width=\"660px\"))\n",
    "\n",
    "    head = ['Vergleichsunternehmen','EV in MEUR','EV/Umsatz','EV/EBIT','EV/EBITDA','KGV']\n",
    "    row = ['Median', 'Mittelwert', 'Sektor Median']\n",
    "\n",
    "    multinew[0,0] = widgets.Text(head[0], disabled = False,layout=widgets.Layout(width=\"180px\"))\n",
    "    multinew[0,0].add_class('blue')\n",
    "\n",
    "    for j in range(0,6):\n",
    "        multinew[0,j] = widgets.Text(head[j], disabled = True, layout=widgets.Layout(width=\"90px\"))\n",
    "        multinew[0,j].add_class('blue')\n",
    "\n",
    "        for i in range(0,n+1):\n",
    "#             multinew[i,j] = widgets.FloatText(vec[i][j],layout=widgets.Layout(width=\"90px\"))\n",
    "#             multinew[i,0] = widgets.Text(vec[0][0],layout=widgets.Layout(width=\"180px\"))\n",
    "#             multinew[i,0].add_class('light_blue') \n",
    "            multinew[i,j] = multi[i,j]\n",
    "            \n",
    "        for i in range(added):\n",
    "            multinew[n+i,j] = widgets.FloatText(0,layout=widgets.Layout(width=\"90px\"))\n",
    "            multinew[n+i,0] = widgets.Text('',layout=widgets.Layout(width=\"180px\"))\n",
    "            multinew[n+i,0].add_class('light_blue') \n",
    "\n",
    "            \n",
    "    return(widgets.VBox([widgets.HTML(blue_bg),widgets.HTML(light_blue_bg), multinew]))\n",
    "\n",
    "#multifunc(1, 4, list1)\n",
    "#multi[2,2]"
   ]
  },
  {
   "cell_type": "code",
   "execution_count": 45,
   "metadata": {
    "ExecuteTime": {
     "end_time": "2021-03-22T16:18:00.566498Z",
     "start_time": "2021-03-22T16:18:00.522872Z"
    }
   },
   "outputs": [],
   "source": [
    "button1 = widgets.Button(\n",
    "    description='  add row',\n",
    "    disabled=False,\n",
    "    button_style='', # 'success', 'info', 'warning', 'danger' or ''\n",
    "    tooltip='Click me',\n",
    "    icon='plus-circle' # (FontAwesome names without the `fa-` prefix)\n",
    ")\n",
    "\n",
    "rowstoadd = widgets.IntText(0, description = 'Anzahl', layout=widgets.Layout(width=\"150px\")\n",
    ")\n",
    "#display(button1)\n",
    "\n",
    "button2 = widgets.Button(\n",
    "    description='',\n",
    "    disabled=False,\n",
    "    button_style='', # 'success', 'info', 'warning', 'danger' or ''\n",
    "    tooltip='Click me',\n",
    "    icon='plus-circle', # (FontAwesome names without the `fa-` prefix)\n",
    "    layout=widgets.Layout(width=\"40px\")\n",
    ")\n",
    "\n",
    "def addrow1(a):\n",
    "    display(widgets.HBox([rowstoadd, button2]))\n",
    "\n",
    "    \n",
    "def addrow2(a):\n",
    "    x = rowstoadd.value\n",
    "#     list1 = []\n",
    "#     for i in range(1,n+1):\n",
    "#         helplist = [] \n",
    "#         for j in range(6):\n",
    "#             helplist.append(multi[i,j].value)\n",
    "#         list1.append(helplist)    \n",
    "\n",
    "        \n",
    "    display(multifunc(x, n))\n",
    "    \n",
    "button1.on_click(addrow1)   \n",
    "button2.on_click(addrow2)\n",
    "\n",
    "#list1[0][0]"
   ]
  },
  {
   "cell_type": "code",
   "execution_count": 38,
   "metadata": {
    "ExecuteTime": {
     "end_time": "2021-03-22T16:15:56.506940Z",
     "start_time": "2021-03-22T16:15:56.398073Z"
    }
   },
   "outputs": [
    {
     "data": {
      "application/vnd.jupyter.widget-view+json": {
       "model_id": "fc3f3f1fd4424371b76dee9bc9a78144",
       "version_major": 2,
       "version_minor": 0
      },
      "text/plain": [
       "Button(description=' Export', icon='file-excel-o', style=ButtonStyle(), tooltip='Click me')"
      ]
     },
     "metadata": {},
     "output_type": "display_data"
    }
   ],
   "source": [
    "buttonexcel = widgets.Button(\n",
    "    description=' Export',\n",
    "    disabled=False,\n",
    "    button_style='', # 'success', 'info', 'warning', 'danger' or ''\n",
    "    tooltip='Click me',\n",
    "    icon='file-excel-o' # (FontAwesome names without the `fa-` prefix)\n",
    ")\n",
    "\n",
    "def export(a):\n",
    "    list2 = []\n",
    "\n",
    "    for i in range(n+1):\n",
    "        helplist = [] \n",
    "        for j in range(6):\n",
    "            helplist.append(multi[i,j].value)\n",
    "        list2.append(helplist)    \n",
    "\n",
    "    for i in range(3):\n",
    "        helplist = [] \n",
    "        for j in range(6):\n",
    "            helplist.append(medi[i,j].value)\n",
    "        list2.append(helplist)    \n",
    "\n",
    "    for i in range(1,7):\n",
    "        helplist = [] \n",
    "        if(i == 1 or i == 5 or i == 6):\n",
    "            for j in range(5):\n",
    "                helplist.append(outs[i,j].value)\n",
    "        else:\n",
    "            for j in range(4):\n",
    "                helplist.append(outs[i,j].value)\n",
    "        list2.append(helplist)  \n",
    "    df = pd.DataFrame(data = list2)\n",
    "    df.to_excel(sheetname.value, sheet_name= 'Multi')\n",
    "\n",
    "sheetname = widgets.Text('-', description = 'Name', layout=widgets.Layout(width=\"150px\"))\n",
    "\n",
    "def nameit(a):\n",
    "    display(widgets.HBox([sheetname, check]))\n",
    "                            \n",
    "check = widgets.Button(\n",
    "    description='',\n",
    "    disabled=False,\n",
    "    button_style='', # 'success', 'info', 'warning', 'danger' or ''\n",
    "    tooltip='Click me',\n",
    "    icon='check-circle', # (FontAwesome names without the `fa-` prefix)\n",
    "    layout=widgets.Layout(width=\"40px\")    \n",
    ")\n",
    "\n",
    "buttonexcel.on_click(nameit)\n",
    "check.on_click(export)\n",
    "buttonexcel"
   ]
  },
  {
   "cell_type": "code",
   "execution_count": 46,
   "metadata": {
    "ExecuteTime": {
     "end_time": "2021-03-22T16:18:05.034666Z",
     "start_time": "2021-03-22T16:18:04.958204Z"
    }
   },
   "outputs": [],
   "source": [
    "\n",
    "box0 = widgets.VBox(grid0)\n",
    "box01 = widgets.HBox([grid01, button1])\n",
    "box1 = widgets.VBox([grid00, box01])\n",
    "box2 = widgets.VBox(grid2)\n",
    "box3 = widgets.VBox(grid3)\n",
    "\n",
    "\n",
    "box4 = widgets.HBox([box0, box3])\n",
    "box5 = widgets.VBox([box1, box2])\n",
    "box6 = widgets.VBox([box1, box2])\n",
    "mybox = widgets.VBox([box4, box5])\n"
   ]
  },
  {
   "cell_type": "code",
   "execution_count": 47,
   "metadata": {
    "ExecuteTime": {
     "end_time": "2021-03-22T16:18:06.954021Z",
     "start_time": "2021-03-22T16:18:06.745266Z"
    },
    "scrolled": false
   },
   "outputs": [
    {
     "data": {
      "application/vnd.jupyter.widget-view+json": {
       "model_id": "87ed46e737b84e4d858ed4d041e7cef8",
       "version_major": 2,
       "version_minor": 0
      },
      "text/plain": [
       "VBox(children=(HBox(children=(VBox(children=(HTML(value='<style>.blue input { background-color:#66B3E9 !import…"
      ]
     },
     "metadata": {},
     "output_type": "display_data"
    },
    {
     "data": {
      "application/vnd.jupyter.widget-view+json": {
       "model_id": "c4de8264f6b44598b3bc3c2a536ee199",
       "version_major": 2,
       "version_minor": 0
      },
      "text/plain": [
       "HBox(children=(IntText(value=0, description='Anzahl', layout=Layout(width='150px')), Button(icon='plus-circle'…"
      ]
     },
     "metadata": {},
     "output_type": "display_data"
    },
    {
     "data": {
      "application/vnd.jupyter.widget-view+json": {
       "model_id": "2605ea44024e4e21ad186243ad2e1437",
       "version_major": 2,
       "version_minor": 0
      },
      "text/plain": [
       "VBox(children=(HTML(value='<style>.blue input { background-color:#66B3E9 !important; }</style>'), HTML(value='…"
      ]
     },
     "metadata": {},
     "output_type": "display_data"
    },
    {
     "data": {
      "application/vnd.jupyter.widget-view+json": {
       "model_id": "8418738b91e04f778b076b15d3eddef0",
       "version_major": 2,
       "version_minor": 0
      },
      "text/plain": [
       "VBox(children=(HTML(value='<style>.blue input { background-color:#66B3E9 !important; }</style>'), HTML(value='…"
      ]
     },
     "metadata": {},
     "output_type": "display_data"
    },
    {
     "data": {
      "application/vnd.jupyter.widget-view+json": {
       "model_id": "4ed76079a6934ce9aaf6781ed278b4b9",
       "version_major": 2,
       "version_minor": 0
      },
      "text/plain": [
       "VBox(children=(HTML(value='<style>.blue input { background-color:#66B3E9 !important; }</style>'), HTML(value='…"
      ]
     },
     "metadata": {},
     "output_type": "display_data"
    },
    {
     "data": {
      "application/vnd.jupyter.widget-view+json": {
       "model_id": "f8128663d0204ac5b81d653e517c7944",
       "version_major": 2,
       "version_minor": 0
      },
      "text/plain": [
       "VBox(children=(HTML(value='<style>.blue input { background-color:#66B3E9 !important; }</style>'), HTML(value='…"
      ]
     },
     "metadata": {},
     "output_type": "display_data"
    }
   ],
   "source": [
    "mybox"
   ]
  },
  {
   "cell_type": "code",
   "execution_count": 16,
   "metadata": {
    "ExecuteTime": {
     "end_time": "2021-03-22T16:14:15.540300Z",
     "start_time": "2021-03-22T16:14:15.520058Z"
    }
   },
   "outputs": [
    {
     "data": {
      "text/plain": [
       "0.0"
      ]
     },
     "execution_count": 16,
     "metadata": {},
     "output_type": "execute_result"
    }
   ],
   "source": [
    "multi[2,2].value"
   ]
  },
  {
   "cell_type": "code",
   "execution_count": null,
   "metadata": {
    "ExecuteTime": {
     "end_time": "2021-03-19T17:00:00.612332Z",
     "start_time": "2021-03-19T16:59:58.634Z"
    }
   },
   "outputs": [],
   "source": []
  },
  {
   "cell_type": "code",
   "execution_count": 17,
   "metadata": {
    "ExecuteTime": {
     "end_time": "2021-03-22T16:14:15.608640Z",
     "start_time": "2021-03-22T16:14:15.544427Z"
    }
   },
   "outputs": [
    {
     "data": {
      "application/vnd.jupyter.widget-view+json": {
       "model_id": "c1b75b1fd47a4b3d9077a3b331a4f6d8",
       "version_major": 2,
       "version_minor": 0
      },
      "text/plain": [
       "Button(description='  add row', icon='plus-circle', style=ButtonStyle(), tooltip='Click me')"
      ]
     },
     "metadata": {},
     "output_type": "display_data"
    }
   ],
   "source": [
    "button1 = widgets.Button(\n",
    "    description='  add row',\n",
    "    disabled=False,\n",
    "    button_style='', # 'success', 'info', 'warning', 'danger' or ''\n",
    "    tooltip='Click me',\n",
    "    icon='plus-circle' # (FontAwesome names without the `fa-` prefix)\n",
    ")\n",
    "\n",
    "rowstoadd = widgets.IntText(0, description = 'Anzahl', layout=widgets.Layout(width=\"150px\")\n",
    ")\n",
    "display(button1)\n",
    "\n",
    "button2 = widgets.Button(\n",
    "    description='',\n",
    "    disabled=False,\n",
    "    button_style='', # 'success', 'info', 'warning', 'danger' or ''\n",
    "    tooltip='Click me',\n",
    "    icon='plus-circle', # (FontAwesome names without the `fa-` prefix)\n",
    "    layout=widgets.Layout(width=\"40px\")\n",
    ")\n",
    "\n",
    "def addrow1(a):\n",
    "    display(widgets.HBox([rowstoadd, button2]))\n",
    "\n",
    "    \n",
    "def addrow2(a):\n",
    "    x = rowstoadd.value\n",
    "    list1 = []\n",
    "\n",
    "    for i in range(1,n+1):\n",
    "        helplist = [] \n",
    "        for j in range(6):\n",
    "            helplist.append(multi[i,j].value)\n",
    "        list1.append(helplist)    \n",
    "\n",
    "        \n",
    "    multifunc(x, n, list1)\n",
    "    \n",
    "button1.on_click(addrow1)   \n",
    "button2.on_click(addrow2)\n"
   ]
  },
  {
   "cell_type": "code",
   "execution_count": 18,
   "metadata": {
    "ExecuteTime": {
     "end_time": "2021-03-22T16:14:15.642551Z",
     "start_time": "2021-03-22T16:14:15.612709Z"
    }
   },
   "outputs": [
    {
     "data": {
      "text/plain": [
       "[['', 0.0, 0.0, 0.0, 0.0, 0.0],\n",
       " ['', 0.0, 0.0, 0.0, 0.0, 0.0],\n",
       " ['', 0.0, 0.0, 0.0, 0.0, 0.0],\n",
       " ['', 0.0, 0.0, 0.0, 0.0, 0.0]]"
      ]
     },
     "execution_count": 18,
     "metadata": {},
     "output_type": "execute_result"
    }
   ],
   "source": [
    "## Add Unternehmen\n",
    "\n",
    "list1 = []\n",
    "\n",
    "for i in range(1,n+1):\n",
    "    helplist = [] \n",
    "    for j in range(6):\n",
    "        helplist.append(multi[i,j].value)\n",
    "    list1.append(helplist)    \n",
    "\n",
    "        \n",
    "#n = nnew   \n",
    "list2 = []\n",
    "\n",
    "for i in range(3):\n",
    "    helplist = [] \n",
    "    for j in range(1,6):\n",
    "        helplist.append(medi[i,j].value)\n",
    "    list2.append(helplist)    \n",
    "\n",
    "    \n",
    "list3 = []\n",
    "\n",
    "for i in range(1,7):\n",
    "    helplist = [] \n",
    "    if(i == 1 or i == 5 or i == 6):\n",
    "        for j in range(1,5):\n",
    "            helplist.append(outs[i,j].value)\n",
    "        #print(outs[i,j].value)\n",
    "    else:\n",
    "        for j in range(1,4):\n",
    "            helplist.append(outs[i,j].value)\n",
    "    list3.append(helplist)  \n",
    "    \n",
    "list1 "
   ]
  },
  {
   "cell_type": "code",
   "execution_count": 19,
   "metadata": {
    "ExecuteTime": {
     "end_time": "2021-03-22T16:14:15.875631Z",
     "start_time": "2021-03-22T16:14:15.646529Z"
    }
   },
   "outputs": [
    {
     "ename": "TypeError",
     "evalue": "multifunc() takes 2 positional arguments but 3 were given",
     "output_type": "error",
     "traceback": [
      "\u001b[1;31m---------------------------------------------------------------------------\u001b[0m",
      "\u001b[1;31mTypeError\u001b[0m                                 Traceback (most recent call last)",
      "\u001b[1;32m<ipython-input-19-4f9139241084>\u001b[0m in \u001b[0;36m<module>\u001b[1;34m\u001b[0m\n\u001b[0;32m      1\u001b[0m \u001b[0mbox0\u001b[0m \u001b[1;33m=\u001b[0m \u001b[0mwidgets\u001b[0m\u001b[1;33m.\u001b[0m\u001b[0mVBox\u001b[0m\u001b[1;33m(\u001b[0m\u001b[0mgrid0\u001b[0m\u001b[1;33m)\u001b[0m\u001b[1;33m\u001b[0m\u001b[1;33m\u001b[0m\u001b[0m\n\u001b[1;32m----> 2\u001b[1;33m \u001b[0mbox1\u001b[0m \u001b[1;33m=\u001b[0m \u001b[0mwidgets\u001b[0m\u001b[1;33m.\u001b[0m\u001b[0mVBox\u001b[0m\u001b[1;33m(\u001b[0m\u001b[1;33m[\u001b[0m\u001b[0mmultifunc\u001b[0m\u001b[1;33m(\u001b[0m\u001b[1;36m1\u001b[0m\u001b[1;33m,\u001b[0m\u001b[1;36m4\u001b[0m\u001b[1;33m,\u001b[0m \u001b[0mlist1\u001b[0m\u001b[1;33m)\u001b[0m  \u001b[1;33m,\u001b[0m \u001b[0mgrid01\u001b[0m\u001b[1;33m]\u001b[0m\u001b[1;33m)\u001b[0m\u001b[1;33m\u001b[0m\u001b[1;33m\u001b[0m\u001b[0m\n\u001b[0m\u001b[0;32m      3\u001b[0m \u001b[0mbox2\u001b[0m \u001b[1;33m=\u001b[0m \u001b[0mwidgets\u001b[0m\u001b[1;33m.\u001b[0m\u001b[0mVBox\u001b[0m\u001b[1;33m(\u001b[0m\u001b[0mgrid2\u001b[0m\u001b[1;33m)\u001b[0m\u001b[1;33m\u001b[0m\u001b[1;33m\u001b[0m\u001b[0m\n\u001b[0;32m      4\u001b[0m \u001b[0mbox3\u001b[0m \u001b[1;33m=\u001b[0m \u001b[0mwidgets\u001b[0m\u001b[1;33m.\u001b[0m\u001b[0mVBox\u001b[0m\u001b[1;33m(\u001b[0m\u001b[0mgrid3\u001b[0m\u001b[1;33m)\u001b[0m\u001b[1;33m\u001b[0m\u001b[1;33m\u001b[0m\u001b[0m\n\u001b[0;32m      5\u001b[0m \u001b[1;33m\u001b[0m\u001b[0m\n",
      "\u001b[1;31mTypeError\u001b[0m: multifunc() takes 2 positional arguments but 3 were given"
     ]
    }
   ],
   "source": [
    "\n",
    "box0 = widgets.VBox(grid0)\n",
    "box1 = widgets.VBox([multifunc(1,4, list1)  , grid01])\n",
    "box2 = widgets.VBox(grid2)\n",
    "box3 = widgets.VBox(grid3)\n",
    "\n",
    "\n",
    "box4 = widgets.HBox([box0, box3])\n",
    "box5 = widgets.VBox([box1, box2])\n",
    "mybox = widgets.VBox([box4, box5])\n",
    "mybox"
   ]
  },
  {
   "cell_type": "code",
   "execution_count": null,
   "metadata": {
    "ExecuteTime": {
     "end_time": "2021-03-22T16:14:15.880368Z",
     "start_time": "2021-03-22T16:14:11.658Z"
    }
   },
   "outputs": [],
   "source": [
    "list2 = []\n",
    "\n",
    "for i in range(n+1):\n",
    "    helplist = [] \n",
    "    for j in range(6):\n",
    "        helplist.append(multi[i,j].value)\n",
    "    list2.append(helplist)    \n",
    "\n",
    "for i in range(3):\n",
    "    helplist = [] \n",
    "    for j in range(6):\n",
    "        helplist.append(medi[i,j].value)\n",
    "    list2.append(helplist)    \n",
    "\n",
    "for i in range(1,7):\n",
    "    helplist = [] \n",
    "    if(i == 1 or i == 5 or i == 6):\n",
    "        for j in range(5):\n",
    "            helplist.append(outs[i,j].value)\n",
    "    else:\n",
    "        for j in range(4):\n",
    "            helplist.append(outs[i,j].value)\n",
    "    list2.append(helplist)  "
   ]
  },
  {
   "cell_type": "code",
   "execution_count": null,
   "metadata": {
    "ExecuteTime": {
     "end_time": "2021-03-22T16:14:15.882652Z",
     "start_time": "2021-03-22T16:14:11.660Z"
    }
   },
   "outputs": [],
   "source": [
    "button = widgets.Button(\n",
    "    description=' Export',\n",
    "    disabled=False,\n",
    "    button_style='', # 'success', 'info', 'warning', 'danger' or ''\n",
    "    tooltip='Click me',\n",
    "    icon='file-excel-o' # (FontAwesome names without the `fa-` prefix)\n",
    ")\n",
    "\n",
    "button"
   ]
  },
  {
   "cell_type": "code",
   "execution_count": null,
   "metadata": {
    "ExecuteTime": {
     "end_time": "2021-03-22T16:14:15.884649Z",
     "start_time": "2021-03-22T16:14:11.663Z"
    }
   },
   "outputs": [],
   "source": [
    "df = pd.DataFrame(data = list2)\n",
    "display(df)\n",
    "#df.to_excel(excel_writer = \\Documents\\RivaconFrankfurtLife, sheet_name= 'Multi.xlsx')\n",
    "df.to_excel(\"Multi.xlsx\", sheet_name= 'Multi')"
   ]
  },
  {
   "cell_type": "code",
   "execution_count": null,
   "metadata": {
    "ExecuteTime": {
     "end_time": "2021-03-22T16:14:15.887480Z",
     "start_time": "2021-03-22T16:14:11.667Z"
    }
   },
   "outputs": [],
   "source": [
    "## Zucken bei Kalibrierungen\n",
    "## Grid Updated sich auch an jeder Stelle wenn nicht umdefiniert\n",
    "## Cleverer for-Schleifen für Berechnungen?\n",
    "\n",
    "## Observe for schleifen? Da ja alle Zellen eines Columns für den Median betrachtet werden müssen, aber die Anzahl dieser\n",
    "## abhängig von der Wahl von n sind\n",
    "## Tausender Punkte -- FloatText keine Punkte"
   ]
  },
  {
   "cell_type": "code",
   "execution_count": null,
   "metadata": {
    "ExecuteTime": {
     "end_time": "2021-03-22T16:14:15.889755Z",
     "start_time": "2021-03-22T16:14:11.669Z"
    }
   },
   "outputs": [],
   "source": [
    "## Plotly express für bar diagramm\n"
   ]
  }
 ],
 "metadata": {
  "kernelspec": {
   "display_name": "Python 3",
   "language": "python",
   "name": "python3"
  },
  "language_info": {
   "codemirror_mode": {
    "name": "ipython",
    "version": 3
   },
   "file_extension": ".py",
   "mimetype": "text/x-python",
   "name": "python",
   "nbconvert_exporter": "python",
   "pygments_lexer": "ipython3",
   "version": "3.7.6"
  },
  "latex_envs": {
   "LaTeX_envs_menu_present": true,
   "autoclose": true,
   "autocomplete": true,
   "bibliofile": "biblio.bib",
   "cite_by": "apalike",
   "current_citInitial": 1,
   "eqLabelWithNumbers": true,
   "eqNumInitial": 1,
   "hotkeys": {
    "equation": "Ctrl-E",
    "itemize": "Ctrl-I"
   },
   "labels_anchors": false,
   "latex_user_defs": false,
   "report_style_numbering": false,
   "user_envs_cfg": false
  },
  "toc": {
   "base_numbering": 1,
   "nav_menu": {},
   "number_sections": true,
   "sideBar": true,
   "skip_h1_title": false,
   "title_cell": "Table of Contents",
   "title_sidebar": "Contents",
   "toc_cell": false,
   "toc_position": {},
   "toc_section_display": true,
   "toc_window_display": false
  },
  "varInspector": {
   "cols": {
    "lenName": 16,
    "lenType": 16,
    "lenVar": 40
   },
   "kernels_config": {
    "python": {
     "delete_cmd_postfix": "",
     "delete_cmd_prefix": "del ",
     "library": "var_list.py",
     "varRefreshCmd": "print(var_dic_list())"
    },
    "r": {
     "delete_cmd_postfix": ") ",
     "delete_cmd_prefix": "rm(",
     "library": "var_list.r",
     "varRefreshCmd": "cat(var_dic_list()) "
    }
   },
   "types_to_exclude": [
    "module",
    "function",
    "builtin_function_or_method",
    "instance",
    "_Feature"
   ],
   "window_display": false
  }
 },
 "nbformat": 4,
 "nbformat_minor": 2
}
