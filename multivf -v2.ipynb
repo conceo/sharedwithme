{
 "cells": [
  {
   "cell_type": "code",
   "execution_count": 1,
   "metadata": {
    "ExecuteTime": {
     "end_time": "2021-03-19T14:23:01.200348Z",
     "start_time": "2021-03-19T14:23:00.793621Z"
    }
   },
   "outputs": [],
   "source": [
    "import pandas\n",
    "import numpy \n",
    "import ipywidgets as widgets\n",
    "from ipywidgets import Layout, GridspecLayout, AppLayout, HTML"
   ]
  },
  {
   "cell_type": "code",
   "execution_count": 2,
   "metadata": {
    "ExecuteTime": {
     "end_time": "2021-03-19T14:23:01.207571Z",
     "start_time": "2021-03-19T14:23:01.202379Z"
    },
    "hide_input": false
   },
   "outputs": [],
   "source": [
    "blue_bg = \"<style>.blue input { background-color:#66B3E9 !important; }</style>\"\n",
    "light_blue_bg = \"<style>.light_blue input { background-color:#E1F3FF !important; }</style>\"\n",
    "light_grey_bg = \"<style>.light_grey input { background-color:#BBCBD7 !important; }</style>\""
   ]
  },
  {
   "cell_type": "code",
   "execution_count": 3,
   "metadata": {
    "ExecuteTime": {
     "end_time": "2021-03-19T14:23:01.217570Z",
     "start_time": "2021-03-19T14:23:01.210564Z"
    }
   },
   "outputs": [],
   "source": [
    "# Anzahl Vergleichsunternehmen\n",
    "n = 5\n",
    "# Festlegung Bewertungsmaßstab Multiplikatorverfahren\n",
    "Bew = 0.15"
   ]
  },
  {
   "cell_type": "code",
   "execution_count": 4,
   "metadata": {
    "ExecuteTime": {
     "end_time": "2021-03-19T14:23:01.332236Z",
     "start_time": "2021-03-19T14:23:01.220536Z"
    }
   },
   "outputs": [],
   "source": [
    "\n",
    "ins = GridspecLayout(9,2,layout=widgets.Layout(width=\"290px\"))\n",
    "\n",
    "inshead = ['Inputs','Fiskaljahr','Umsatz','EBIT','EBITDA','Gewinn', 'Kasse & Liquide Mittel', 'Finanzverbindlichkeiten', 'Equity Bridge']\n",
    "inputvec = [2018, 70300000, 1800000, 3200000, 1260000, 1851000, 9358000, -7507000]\n",
    "\n",
    "ins[0,0] = widgets.Text(inshead[0], layout = widgets.Layout(width =\"180px\"))\n",
    "ins[0,0].add_class('blue')\n",
    "\n",
    "\n",
    "for i in range(1,9):\n",
    "    ins[i,0] = widgets.Text(inshead[i], layout = widgets.Layout(width =\"180px\"))\n",
    "    ins[i,1] = widgets.FloatText(inputvec[i-1], layout = widgets.Layout(width =\"90px\"))\n",
    "    ins[i,0].add_class('blue')\n",
    "\n",
    "grid0 = [widgets.HTML(blue_bg), widgets.HTML(light_grey_bg), ins]"
   ]
  },
  {
   "cell_type": "code",
   "execution_count": 5,
   "metadata": {
    "ExecuteTime": {
     "end_time": "2021-03-19T14:23:01.850475Z",
     "start_time": "2021-03-19T14:23:01.335230Z"
    }
   },
   "outputs": [],
   "source": [
    "## Eingabefeld\n",
    "multi = GridspecLayout(n+1,6, layout=widgets.Layout(width=\"660px\"))\n",
    "\n",
    "\n",
    "head = ['Vergleichsunternehmen','EV in MEUR','EV/Umsatz','EV/EBIT','EV/EBITDA','KGV']\n",
    "row = ['Median', 'Mittelwert', 'Sektor Median']\n",
    "\n",
    "multi[0,0] = widgets.Text(head[0], disabled = False,layout=widgets.Layout(width=\"180px\"))\n",
    "multi[0,0].add_class('blue')\n",
    "\n",
    "for j in range(1,6):\n",
    "    multi[0,j] = widgets.Text(head[j], disabled = True, layout=widgets.Layout(width=\"90px\"))\n",
    "    multi[0,j].add_class('blue')\n",
    "    \n",
    "    for i in range(1,n+1):\n",
    "        multi[i,j] = widgets.FloatText(0,layout=widgets.Layout(width=\"90px\"))\n",
    "        multi[i,0] = widgets.Text('',layout=widgets.Layout(width=\"180px\"))\n",
    "        multi[i,0].add_class('light_blue') \n",
    "\n",
    "        \n",
    "        \n",
    "## Medianberechnung\n",
    "medi = GridspecLayout(4,200, layout=widgets.Layout(width=\"660px\"))\n",
    "    \n",
    "for i in range(3):\n",
    "    medi[i,0] = widgets.Text(row[i], disabled = True, layout=widgets.Layout(width=\"180px\"))\n",
    "    medi[i,0].add_class('light_grey') \n",
    "    for j in range(1,6):\n",
    "        medi[i,j] = widgets.FloatText(0, disabled = True, layout=widgets.Layout(width=\"91px\"))\n",
    "        medi[2,j] = widgets.FloatText(0, disabled = False, layout=widgets.Layout(width=\"90px\"))\n",
    "        \n",
    "\n",
    "grid00 = widgets.VBox([widgets.HTML(blue_bg),widgets.HTML(light_blue_bg), multi])\n",
    "grid01 = widgets.VBox([widgets.HTML(light_grey_bg), medi])\n",
    "\n",
    "Grid00 = widgets.VBox([grid00, grid01])"
   ]
  },
  {
   "cell_type": "code",
   "execution_count": 6,
   "metadata": {
    "ExecuteTime": {
     "end_time": "2021-03-19T14:23:01.873792Z",
     "start_time": "2021-03-19T14:23:01.852470Z"
    }
   },
   "outputs": [],
   "source": [
    "def multimed(a):\n",
    "    x = numpy.median([multi[i,a].value for i in range(1,n+1)])\n",
    "    return(x)\n",
    "\n",
    "def ev(change):\n",
    "    medi[0,1] = widgets.FloatText(multimed(1), disabled = True, layout=widgets.Layout(width=\"91px\"))\n",
    "    medi[1,1] = widgets.FloatText(numpy.mean([multi[i,1].value for i in range(1,n+1)]), disabled = True,layout=widgets.Layout(width=\"90px\"))\n",
    "\n",
    "def evzuu(change):\n",
    "    medi[0,2] = widgets.FloatText(multimed(2),  disabled = True,layout=widgets.Layout(width=\"91px\"))\n",
    "    medi[1,2] = widgets.FloatText(numpy.mean([multi[i,2].value for i in range(1,n+1)]), disabled = True,layout=widgets.Layout(width=\"90px\"))\n",
    "\n",
    "def evzuebit(change):\n",
    "    medi[0,3] = widgets.FloatText(multimed(3), disabled = True, layout=widgets.Layout(width=\"91px\"))\n",
    "    medi[1,3] = widgets.FloatText(numpy.mean([multi[i,3].value for i in range(1,n+1)]), disabled = True,layout=widgets.Layout(width=\"90px\"))\n",
    "\n",
    "def evzuebitda(change):\n",
    "    medi[0,4] = widgets.FloatText(multimed(4), disabled = True, layout=widgets.Layout(width=\"91px\"))\n",
    "    medi[1,4] = widgets.FloatText(numpy.mean([multi[i,4].value for i in range(1,n+1)]), disabled = True,layout=widgets.Layout(width=\"90px\"))\n",
    "\n",
    "def kgv(change):\n",
    "    medi[0,5] = widgets.FloatText(multimed(5), disabled = True, layout=widgets.Layout(width=\"91px\"))\n",
    "    medi[1,5] = widgets.FloatText(numpy.mean([multi[i,5].value for i in range(1,n+1)]), disabled = True,layout=widgets.Layout(width=\"90px\"))"
   ]
  },
  {
   "cell_type": "code",
   "execution_count": 7,
   "metadata": {
    "ExecuteTime": {
     "end_time": "2021-03-19T14:23:01.889746Z",
     "start_time": "2021-03-19T14:23:01.879781Z"
    }
   },
   "outputs": [],
   "source": [
    "# OBSERVE ---- stattdessen for loop\n",
    "for i in range(1,n+1):\n",
    "    multi[i,1].observe(ev, 'value')\n",
    "for i in range(1,n+1):\n",
    "    multi[i,2].observe(evzuu, 'value')\n",
    "\n",
    "for i in range(1,n+1):\n",
    "    multi[i,3].observe(evzuebit, 'value')\n",
    "\n",
    "for i in range(1,n+1):\n",
    "    multi[i,4].observe(evzuebitda, 'value')\n",
    "\n",
    "for i in range(1,n+1):\n",
    "    multi[i,5].observe(kgv, 'value')\n"
   ]
  },
  {
   "cell_type": "code",
   "execution_count": 8,
   "metadata": {
    "ExecuteTime": {
     "end_time": "2021-03-19T14:23:02.324590Z",
     "start_time": "2021-03-19T14:23:01.894733Z"
    }
   },
   "outputs": [],
   "source": [
    "\n",
    "# KALIBRIERUNGEN\n",
    "outs = GridspecLayout(7,5, layout=widgets.Layout(width=\"630px\"))\n",
    "\n",
    "outhead = ['Umsatz','EBIT','EBITDA','Gewinn']\n",
    "outrow = ['Zielunternehmen', 'Enterprise Value (Median)', 'Enterprise Value (Sektor)', 'Equity Bridge', 'Equity Value (Median)', 'Equity Value (Sektor)']\n",
    "\n",
    "for j in range(4):\n",
    "    outs[0,j+1] = widgets.Text(outhead[j], disabled = False, layout=widgets.Layout(width=\"90px\"))\n",
    "    outs[0,j+1].add_class('blue')\n",
    "\n",
    "\n",
    "# Zielunternehmen -- Erste Zeile\n",
    "outs[1,1] = widgets.FloatText(ins[2,1].value, disabled = True, layout=widgets.Layout(width=\"90px\"))\n",
    "outs[1,2] = widgets.FloatText(ins[3,1].value, disabled = True, layout=widgets.Layout(width=\"90px\"))\n",
    "outs[1,3] = widgets.FloatText(ins[4,1].value, disabled = True, layout=widgets.Layout(width=\"90px\"))\n",
    "outs[1,4] = widgets.FloatText(ins[5,1].value, disabled = True, layout=widgets.Layout(width=\"90px\"))\n",
    "\n",
    "\n",
    "for j in range(4):\n",
    "     for i in range(2,7):\n",
    "        outs[i,j] = widgets.FloatText(0, disabled = True, layout=widgets.Layout(width=\"90px\"))\n",
    "        \n",
    "# Equity Bridge -- Vierte Zeile\n",
    "outs[4,1] = widgets.FloatText(ins[8,1].value, disabled = True, layout=widgets.Layout(width=\"90px\"))\n",
    "outs[4,2] = widgets.FloatText(ins[8,1].value, disabled = True, layout=widgets.Layout(width=\"90px\"))\n",
    "outs[4,3] = widgets.FloatText(ins[8,1].value, disabled = True, layout=widgets.Layout(width=\"90px\"))  \n",
    "                   \n",
    "for i in range(1,7):\n",
    "    outs[i,0] = widgets.Text(outrow[i-1], disabled = True, layout=widgets.Layout(width=\"240px\"))\n",
    "    outs[i,0].add_class('light_grey') \n",
    "\n",
    "outs[1,4] = widgets.FloatText(ins[5,1].value, disabled = True, layout=widgets.Layout(width=\"90px\"))\n",
    "outs[5,4] = widgets.FloatText(0, disabled = True, layout=widgets.Layout(width=\"90px\"))\n",
    "outs[6,4] = widgets.FloatText(0, disabled = True, layout=widgets.Layout(width=\"90px\"))\n",
    "\n",
    "\n",
    "\n",
    "\n",
    "# Equity Value -- Results Table\n",
    "equityval = GridspecLayout(9,2, layout = widgets.Layout(width =\"350px\"))\n",
    "equhead = ['Equity Value (Marktwert des Eigenkapitals)','Umsatz Sektor','Umsatz Peer','EBIT Sektor','EBIT Peer','EBITDA Sektor','EBITDA Peer', 'KGV Sektor', 'KGV Peer']\n",
    "\n",
    "\n",
    "## ÜBERSCHRIFT??\n",
    "# equityval[0,0] = widgets.Text(equhead[0], layout = widgets.Layout(width =\"230px\"))\n",
    "# equityval[0,0].add_class('blue')\n",
    "\n",
    "\n",
    "for i in range(1,9):\n",
    "    equityval[i,0] = widgets.Text(equhead[i], disabled = False, layout = widgets.Layout(width =\"180px\"))\n",
    "    equityval[i,1] = widgets.FloatText(0,disabled = True, layout = widgets.Layout(width =\"100px\"))\n",
    "    equityval[i,0].add_class('blue')\n",
    "\n",
    "\n",
    "\n"
   ]
  },
  {
   "cell_type": "code",
   "execution_count": 20,
   "metadata": {
    "ExecuteTime": {
     "end_time": "2021-03-19T14:26:39.049787Z",
     "start_time": "2021-03-19T14:26:38.977969Z"
    }
   },
   "outputs": [],
   "source": [
    "\n",
    "## UPDATE FUNKTIONEN\n",
    "def inschanges(change):\n",
    "    # Zielunternehmen\n",
    "    outs[1,1] = widgets.FloatText(ins[2,1].value, disabled = True, layout=widgets.Layout(width=\"90px\"))\n",
    "    outs[1,2] = widgets.FloatText(ins[3,1].value, disabled = True, layout=widgets.Layout(width=\"90px\"))\n",
    "    outs[1,3] = widgets.FloatText(ins[4,1].value, disabled = True, layout=widgets.Layout(width=\"90px\"))\n",
    "    outs[1,4] = widgets.FloatText(ins[5,1].value, disabled = True, layout=widgets.Layout(width=\"90px\"))\n",
    "\n",
    "    # Equity Bridge\n",
    "    outs[4,1] = widgets.FloatText(ins[8,1].value, disabled = True, layout=widgets.Layout(width=\"90px\"))\n",
    "    outs[4,2] = widgets.FloatText(ins[8,1].value, disabled = True, layout=widgets.Layout(width=\"90px\"))\n",
    "    outs[4,3] = widgets.FloatText(ins[8,1].value, disabled = True, layout=widgets.Layout(width=\"90px\"))\n",
    "\n",
    "\n",
    "ins[2,1].observe(inschanges, 'value')\n",
    "ins[3,1].observe(inschanges, 'value')\n",
    "ins[4,1].observe(inschanges, 'value')\n",
    "ins[5,1].observe(inschanges, 'value')\n",
    "ins[8,1].observe(inschanges, 'value')\n",
    "\n",
    "\n",
    "def medenterprise(change):\n",
    "    # Enterprise Value (Median) \n",
    "    # - Umsatz \n",
    "    outs[2,1] = widgets.FloatText(ins[2,1].value*multimed(2), disabled = True,layout=widgets.Layout(width=\"90px\"))\n",
    "    # - EBIT  \n",
    "    outs[2,2] = widgets.FloatText(ins[3,1].value*multimed(3), disabled = True, layout=widgets.Layout(width=\"90px\"))\n",
    "    # - EBITDA\n",
    "    outs[2,3] = widgets.FloatText(ins[4,1].value*multimed(4), disabled = True, layout=widgets.Layout(width=\"90px\"))\n",
    "    \n",
    "    equityval[2,1] = widgets.FloatText(((ins[2,1].value*multimed(2)) + ins[8,1].value)*(1-Bew), disabled = True, layout=widgets.Layout(width=\"100px\"))\n",
    "    equityval[4,1] = widgets.FloatText(((ins[3,1].value*multimed(3)) + ins[8,1].value)*(1-Bew), disabled = True, layout=widgets.Layout(width=\"100px\"))\n",
    "    equityval[6,1] = widgets.FloatText(((ins[4,1].value*multimed(4)) + ins[8,1].value)*(1-Bew), disabled = True, layout=widgets.Layout(width=\"100px\"))\n",
    "    equityval[8,1] = widgets.FloatText((ins[5,1].value)*(multimed(5))*(1-Bew), disabled = True, layout=widgets.Layout(width=\"100px\"))\n",
    "    \n",
    "for j in range(2,6):\n",
    "    for i in range(n):\n",
    "        multi[i,j].observe(medenterprise, 'value')\n",
    "\n",
    "    \n",
    "ins[2,1].observe(medenterprise, 'value')\n",
    "ins[3,1].observe(medenterprise, 'value')\n",
    "ins[4,1].observe(medenterprise, 'value')\n",
    "\n",
    "def sekenterprise(change):\n",
    "    # Enterprise Value (Sektor)\n",
    "    #  - Umsatz\n",
    "    outs[3,1] = widgets.FloatText(ins[2,1].value*medi[2,2].value, disabled = True, layout=widgets.Layout(width=\"90px\"))\n",
    "    # - EBIT  \n",
    "    outs[3,2] = widgets.FloatText(ins[3,1].value*medi[2,3].value, disabled = True, layout=widgets.Layout(width=\"90px\"))\n",
    "    # - EBITDA\n",
    "    outs[3,3] = widgets.FloatText(ins[4,1].value*medi[2,4].value, disabled = True,layout=widgets.Layout(width=\"90px\"))\n",
    "\n",
    "\n",
    "medi[2,2].observe(sekenterprise, 'value')\n",
    "medi[2,3].observe(sekenterprise, 'value')\n",
    "medi[2,4].observe(sekenterprise, 'value')\n",
    "ins[4,1].observe(sekenterprise, 'value')\n",
    "ins[2,1].observe(sekenterprise, 'value')\n",
    "ins[3,1].observe(sekenterprise, 'value')\n",
    "\n",
    "\n",
    "def medequity(change):\n",
    "    # Equity Value (Median)\n",
    "    #  - Umsatz\n",
    "    outs[5,1] = widgets.FloatText(((ins[2,1].value*multimed(2)) + ins[8,1].value)*(1-Bew), disabled = True, layout=widgets.Layout(width=\"90px\"))\n",
    "    # - EBIT  \n",
    "    outs[5,2] = widgets.FloatText(((ins[3,1].value*multimed(3)) + ins[8,1].value)*(1-Bew), disabled = True, layout=widgets.Layout(width=\"90px\"))\n",
    "    # - EBITDA\n",
    "    outs[5,3] = widgets.FloatText(((ins[4,1].value*multimed(4)) + ins[8,1].value)*(1-Bew), disabled = True, layout=widgets.Layout(width=\"90px\"))\n",
    "    # - Gewinn\n",
    "    outs[5,4] = widgets.FloatText((ins[5,1].value)*(multimed(5))*(1-Bew), disabled = True, layout=widgets.Layout(width=\"90px\"))\n",
    "\n",
    "\n",
    "for j in range(2,6):\n",
    "    for i in range(n):\n",
    "        multi[i,j].observe(medequity, 'value')\n",
    "        \n",
    "ins[2,1].observe(medequity, 'value')\n",
    "ins[3,1].observe(medequity, 'value')\n",
    "ins[4,1].observe(medequity, 'value')\n",
    "ins[5,1].observe(medequity, 'value')\n",
    "ins[8,1].observe(medequity, 'value')\n",
    "\n",
    "\n",
    "def sekequity(change):\n",
    "    # Equity Value (Sektor)\n",
    "    #  - Umsatz\n",
    "    outs[6,1] = widgets.FloatText(((ins[2,1].value*medi[2,2].value) + ins[8,1].value)*(1-Bew), disabled = True, layout=widgets.Layout(width=\"90px\"))\n",
    "    # - EBIT  \n",
    "    outs[6,2] = widgets.FloatText(((ins[3,1].value*medi[2,3].value) + ins[8,1].value)*(1-Bew), disabled = True, layout=widgets.Layout(width=\"90px\"))\n",
    "    # - EBITDA\n",
    "    outs[6,3] = widgets.FloatText((((ins[4,1].value*medi[2,4].value) + ins[8,1].value)*(1-Bew)), disabled = True, layout=widgets.Layout(width=\"90px\"))\n",
    "    # - Gewinn\n",
    "    outs[6,4] = widgets.FloatText((ins[5,1].value)*(medi[2,5].value)*(1-Bew), disabled = True, layout=widgets.Layout(width=\"90px\"))\n",
    "    \n",
    "    equityval[1,1] = widgets.FloatText(((ins[2,1].value*medi[2,2].value) + ins[8,1].value)*(1-Bew), disabled = True, layout=widgets.Layout(width=\"100px\"))\n",
    "    equityval[3,1] = widgets.FloatText(((ins[3,1].value*medi[2,3].value) + ins[8,1].value)*(1-Bew), disabled = True, layout=widgets.Layout(width=\"100px\"))\n",
    "    equityval[5,1] =  widgets.FloatText((((ins[4,1].value*medi[2,4].value) + ins[8,1].value)*(1-Bew)), disabled = True, layout=widgets.Layout(width=\"100px\"))\n",
    "    equityval[7,1] = widgets.FloatText((ins[5,1].value)*(medi[2,5].value)*(1-Bew), disabled = True, layout=widgets.Layout(width=\"100px\"))\n",
    "\n",
    "medi[2,5].observe(sekequity, 'value')\n",
    "medi[2,4].observe(sekequity, 'value')\n",
    "medi[2,2].observe(sekequity, 'value')\n",
    "medi[2,3].observe(sekequity, 'value')\n",
    "ins[8,1].observe(sekequity, 'value')\n",
    "ins[4,1].observe(sekequity, 'value')\n",
    "ins[2,1].observe(sekequity, 'value')\n",
    "ins[3,1].observe(sekequity, 'value')\n",
    "\n",
    "\n",
    "\n",
    "grid1 = [widgets.HTML(blue_bg),widgets.HTML(light_blue_bg), widgets.HTML(light_grey_bg), multi]\n",
    "grid2 = [widgets.HTML(blue_bg), widgets.HTML(light_grey_bg), outs]\n",
    "grid3 = [widgets.HTML(blue_bg), widgets.HTML(light_grey_bg), equityval]   "
   ]
  },
  {
   "cell_type": "code",
   "execution_count": 21,
   "metadata": {
    "ExecuteTime": {
     "end_time": "2021-03-19T14:26:40.793272Z",
     "start_time": "2021-03-19T14:26:40.768355Z"
    }
   },
   "outputs": [],
   "source": [
    "\n",
    "box0 = widgets.VBox(grid0)\n",
    "#box1 = widgets.VBox(Grid00)\n",
    "box2 = widgets.VBox(grid2)\n",
    "box3 = widgets.VBox(grid3)\n",
    "\n",
    "\n",
    "box4 = widgets.HBox([box0, box3])\n",
    "box5 = widgets.VBox([Grid00, box2])\n",
    "mybox = widgets.VBox([box4, box5])\n"
   ]
  },
  {
   "cell_type": "code",
   "execution_count": 22,
   "metadata": {
    "ExecuteTime": {
     "end_time": "2021-03-19T14:26:43.970138Z",
     "start_time": "2021-03-19T14:26:43.889387Z"
    },
    "scrolled": false
   },
   "outputs": [
    {
     "data": {
      "application/vnd.jupyter.widget-view+json": {
       "model_id": "1737cb1e798e4057825e6daf21cc644f",
       "version_major": 2,
       "version_minor": 0
      },
      "text/plain": [
       "VBox(children=(HBox(children=(VBox(children=(HTML(value='<style>.blue input { background-color:#66B3E9 !import…"
      ]
     },
     "metadata": {},
     "output_type": "display_data"
    }
   ],
   "source": [
    "mybox"
   ]
  },
  {
   "cell_type": "code",
   "execution_count": 12,
   "metadata": {
    "ExecuteTime": {
     "end_time": "2021-03-19T14:23:02.589874Z",
     "start_time": "2021-03-19T14:23:02.585884Z"
    }
   },
   "outputs": [],
   "source": [
    "## Zucken bei Kalibrierungen\n",
    "## Grid Updated sich auch an jeder Stelle wenn nicht umdefiniert\n",
    "## Cleverer for-Schleifen für Berechnungen?\n",
    "\n",
    "## Observe for schleifen? Da ja alle Zellen eines Columns für den Median betrachtet werden müssen, aber die Anzahl dieser\n",
    "## abhängig von der Wahl von n sind\n",
    "## Tausender Punkte -- FloatText keine Punkte"
   ]
  },
  {
   "cell_type": "code",
   "execution_count": 13,
   "metadata": {
    "ExecuteTime": {
     "end_time": "2021-03-19T14:23:02.597853Z",
     "start_time": "2021-03-19T14:23:02.592866Z"
    }
   },
   "outputs": [],
   "source": [
    "## Plotly express für bar diagramm\n"
   ]
  }
 ],
 "metadata": {
  "kernelspec": {
   "display_name": "Python 3",
   "language": "python",
   "name": "python3"
  },
  "language_info": {
   "codemirror_mode": {
    "name": "ipython",
    "version": 3
   },
   "file_extension": ".py",
   "mimetype": "text/x-python",
   "name": "python",
   "nbconvert_exporter": "python",
   "pygments_lexer": "ipython3",
   "version": "3.7.6"
  },
  "latex_envs": {
   "LaTeX_envs_menu_present": true,
   "autoclose": true,
   "autocomplete": true,
   "bibliofile": "biblio.bib",
   "cite_by": "apalike",
   "current_citInitial": 1,
   "eqLabelWithNumbers": true,
   "eqNumInitial": 1,
   "hotkeys": {
    "equation": "Ctrl-E",
    "itemize": "Ctrl-I"
   },
   "labels_anchors": false,
   "latex_user_defs": false,
   "report_style_numbering": false,
   "user_envs_cfg": false
  },
  "toc": {
   "base_numbering": 1,
   "nav_menu": {},
   "number_sections": true,
   "sideBar": true,
   "skip_h1_title": false,
   "title_cell": "Table of Contents",
   "title_sidebar": "Contents",
   "toc_cell": false,
   "toc_position": {},
   "toc_section_display": true,
   "toc_window_display": false
  },
  "varInspector": {
   "cols": {
    "lenName": 16,
    "lenType": 16,
    "lenVar": 40
   },
   "kernels_config": {
    "python": {
     "delete_cmd_postfix": "",
     "delete_cmd_prefix": "del ",
     "library": "var_list.py",
     "varRefreshCmd": "print(var_dic_list())"
    },
    "r": {
     "delete_cmd_postfix": ") ",
     "delete_cmd_prefix": "rm(",
     "library": "var_list.r",
     "varRefreshCmd": "cat(var_dic_list()) "
    }
   },
   "types_to_exclude": [
    "module",
    "function",
    "builtin_function_or_method",
    "instance",
    "_Feature"
   ],
   "window_display": false
  }
 },
 "nbformat": 4,
 "nbformat_minor": 2
}
