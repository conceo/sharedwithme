{
 "cells": [
  {
   "cell_type": "code",
   "execution_count": 2,
   "metadata": {
    "ExecuteTime": {
     "end_time": "2021-03-26T14:38:20.705568Z",
     "start_time": "2021-03-26T14:38:20.694583Z"
    }
   },
   "outputs": [],
   "source": [
    "import pandas as pd\n",
    "import numpy \n",
    "import ipywidgets as widgets\n",
    "from ipywidgets import Layout, GridspecLayout, AppLayout, HTML\n",
    "import io\n",
    "import tkinter\n",
    "from tkinter import *\n",
    "from tkinter.filedialog import askopenfile\n",
    "from openpyxl import load_workbook"
   ]
  },
  {
   "cell_type": "code",
   "execution_count": 3,
   "metadata": {
    "ExecuteTime": {
     "end_time": "2021-03-26T14:38:21.881410Z",
     "start_time": "2021-03-26T14:38:21.875427Z"
    }
   },
   "outputs": [],
   "source": [
    "blue_bg = \"<style>.blue input { background-color:#66B3E9 !important; }</style>\"\n",
    "light_blue_bg = \"<style>.light_blue input { background-color:#E1F3FF !important; }</style>\"\n",
    "light_grey_bg = \"<style>.light_grey input { background-color:#BBCBD7 !important; }</style>\""
   ]
  },
  {
   "cell_type": "code",
   "execution_count": 4,
   "metadata": {
    "ExecuteTime": {
     "end_time": "2021-03-26T14:38:22.919213Z",
     "start_time": "2021-03-26T14:38:22.904253Z"
    },
    "code_folding": []
   },
   "outputs": [],
   "source": [
    "def open_file(obj):\n",
    "    global insvec\n",
    "    \n",
    "    root = tkinter.Tk()\n",
    "    file = askopenfile(mode ='r', filetypes =[('Excel Files', '*.xlsx *.xlsm *.sxc *.ods *.csv *.tsv')])\n",
    "    df = pd.read_excel(file.name)\n",
    "    root.destroy()\n",
    "    \n",
    "    dfa = df[4:13].rename(df.iloc[3], axis = 1)\n",
    "    df1=dfa.dropna(axis=1, how = 'all')\n",
    "    df2=df1.dropna(axis=0, how = 'all')\n",
    "    df3 = df2.fillna(0, inplace=True)\n",
    "    Paravec = (df2['Wert'].to_numpy())\n",
    "\n",
    "    dfa = df[19:34].rename(df.iloc[18], axis = 1)\n",
    "    df1=dfa.dropna(axis=1, how = 'all')\n",
    "    df2=df1.dropna(axis=0, how = 'all')\n",
    "    df2.fillna(0, inplace=True)\n",
    "    Gewinnvec = (df2[2018].to_numpy())\n",
    "\n",
    "    dfa = df[40:69].rename(df.iloc[39], axis = 1)\n",
    "    df1=dfa.dropna(axis=1, how = 'all')\n",
    "    df2=df1.dropna(axis=0, how = 'all')\n",
    "    df2.fillna(0, inplace=True)\n",
    "    BilAkt = (df2[2018].to_numpy())\n",
    "\n",
    "    dfa = df[70:103].rename(df.iloc[69], axis = 1)\n",
    "    df1=dfa.dropna(axis=1, how = 'all')\n",
    "    df2=df1.dropna(axis=0, how = 'all')\n",
    "    df2.fillna(0, inplace=True)\n",
    "    BilPas=(df2[2018].to_numpy())\n",
    "\n",
    "    dfa = df[109:115].rename(df.iloc[69], axis = 1)\n",
    "    df1=dfa.dropna(axis=1, how = 'all')\n",
    "    df2=df1.dropna(axis=0, how = 'all')\n",
    "    df2.fillna(0, inplace=True)\n",
    "    Kapitalvec=(df2[2018].to_numpy())\n",
    "    \n",
    "    insvec = []\n",
    "    insvec.append(int(Paravec[0]))\n",
    "    insvec.append(0)\n",
    "    insvec.append(0)\n",
    "    insvec.append(0)\n",
    "    insvec.append(0)\n",
    "    insvec.append(BilAkt[15]+BilAkt[16])\n",
    "    insvec.append(BilPas[25])\n",
    "    insvec.append(BilAkt[15]+BilAkt[16]-BilPas[25]+BilAkt[4]+BilPas[4])\n",
    "\n",
    "\n",
    "btn = widgets.Button(description = 'import')\n",
    "\n",
    "btn.on_click(open_file)\n"
   ]
  },
  {
   "cell_type": "code",
   "execution_count": 5,
   "metadata": {
    "ExecuteTime": {
     "end_time": "2021-03-26T14:38:23.929143Z",
     "start_time": "2021-03-26T14:38:23.890247Z"
    },
    "code_folding": [
     0
    ]
   },
   "outputs": [],
   "source": [
    "#Festlegung der Anzahl und des Bewertungsmaßstabs\n",
    "bestima = GridspecLayout(2, 2, layout=widgets.Layout(width=\"360px\"))\n",
    "\n",
    "bhead = ['Anzahl der Vergleichsunternehmen', 'Bewertungsmaßstab']\n",
    "for i in range(2):\n",
    "    bestima[i, 0] = widgets.Text(\n",
    "        bhead[i], layout=widgets.Layout(width=\"260px\"), disabled=True)\n",
    "    bestima[i, 1] = widgets.FloatText(0, layout=widgets.Layout(width=\"90px\"))\n",
    "    bestima[i, 0].add_class('blue')\n",
    "\n",
    "bestbox = widgets.VBox([widgets.HTML(blue_bg), bestima])"
   ]
  },
  {
   "cell_type": "code",
   "execution_count": 6,
   "metadata": {
    "ExecuteTime": {
     "end_time": "2021-03-26T14:38:24.808881Z",
     "start_time": "2021-03-26T14:38:24.772967Z"
    }
   },
   "outputs": [
    {
     "data": {
      "application/vnd.jupyter.widget-view+json": {
       "model_id": "370ecaea778e494ebae4ad91968f48a3",
       "version_major": 2,
       "version_minor": 0
      },
      "text/plain": [
       "Button(description=' Export', icon='file-excel-o', style=ButtonStyle(), tooltip='Click me')"
      ]
     },
     "metadata": {},
     "output_type": "display_data"
    }
   ],
   "source": [
    "buttonexcel = widgets.Button(\n",
    "    description=' Export',\n",
    "    disabled=False,\n",
    "    button_style='', # 'success', 'info', 'warning', 'danger' or ''\n",
    "    tooltip='Click me',\n",
    "    icon='file-excel-o' # (FontAwesome names without the `fa-` prefix)\n",
    ")\n",
    "def export(a):\n",
    "    print(sheetname.value)\n",
    "    list2 = []\n",
    "   \n",
    "    \n",
    "    for j in range(2):\n",
    "        helplist = []\n",
    "        helplist.append(ins[1,j].value)\n",
    "        helplist.append(ins[2,j].value)\n",
    "        helplist.append(ins[3,j].value)\n",
    "        helplist.append(ins[4,j].value)\n",
    "        helplist.append(ins[5,j].value)\n",
    "        helplist.append(ins[6,j].value)\n",
    "        helplist.append(ins[7,j].value)\n",
    "        helplist.append(ins[8,j].value)\n",
    "        list2.append(helplist) \n",
    "\n",
    "    for i in range(n+1):\n",
    "        helplist = [] \n",
    "        for j in range(6):\n",
    "            helplist.append(multi[i,j].value)\n",
    "        list2.append(helplist)    \n",
    "\n",
    "    for i in range(3):\n",
    "        helplist = [] \n",
    "        for j in range(6):\n",
    "            helplist.append(medi[i,j].value)\n",
    "        list2.append(helplist)    \n",
    "\n",
    "    for i in range(1,7):\n",
    "        helplist = [] \n",
    "        if(i == 1 or i == 5 or i == 6):\n",
    "            for j in range(5):\n",
    "                helplist.append(outs[i,j].value)\n",
    "        else:\n",
    "            for j in range(4):\n",
    "                helplist.append(outs[i,j].value)\n",
    "        list2.append(helplist)  \n",
    "#     root = tkinter.Tk()\n",
    "#     save_path = filedialog.askdirectory()\n",
    "#     root.destroy()\n",
    "#     os.chdir(save_path)\n",
    "#     plotly.offline.plot(fig_tmp, filename=txt_save_name.value,auto_open=False)\n",
    "\n",
    "\n",
    "    df = pd.DataFrame(data = list2)\n",
    "    df.to_excel(str(sheetname.value)+'.xlsx')\n",
    "    \n",
    "#     writer = pd.ExcelWriter('Sheeet.xlsx')\n",
    "#     df.to_excel(writer, sheet_name='Sheet1', startrow=1)\n",
    "#     df.to_excel(excel_writer = openpyxl, sheet_name = sheetname.value)\n",
    "#     sheet1 = writer.sheets['Sheet1']\n",
    "#     sheet1.write('A1')\n",
    "sheetname = widgets.Text('-', description = 'Name', layout=widgets.Layout(width=\"150px\"))\n",
    "#     writer.save()\n",
    "    \n",
    "def nameit(a):\n",
    "    display(widgets.HBox([sheetname, check]))\n",
    "                            \n",
    "check = widgets.Button(\n",
    "    description='',\n",
    "    disabled=False,\n",
    "    button_style='', # 'success', 'info', 'warning', 'danger' or ''\n",
    "    tooltip='Click me',\n",
    "    icon='check-circle', # (FontAwesome names without the `fa-` prefix)\n",
    "    layout=widgets.Layout(width=\"40px\")    \n",
    ")\n",
    "\n",
    "buttonexcel.on_click(nameit)\n",
    "check.on_click(export)\n",
    "buttonexcel"
   ]
  },
  {
   "cell_type": "code",
   "execution_count": 7,
   "metadata": {
    "ExecuteTime": {
     "end_time": "2021-03-26T14:38:25.811817Z",
     "start_time": "2021-03-26T14:38:25.776868Z"
    },
    "code_folding": [
     0
    ],
    "scrolled": false
   },
   "outputs": [],
   "source": [
    "buttongo = widgets.Button(\n",
    "    button_style='',\n",
    "    tooltip='Click me',\n",
    "    icon='check-circle',\n",
    "    layout=widgets.Layout(width='40px')\n",
    ")\n",
    "\n",
    "def showgo(x):\n",
    "    \n",
    "    global multi\n",
    "    global medi\n",
    "    global outs\n",
    "    global equityval\n",
    "    global n \n",
    "    global Bew\n",
    "    \n",
    "    n = int(bestima[0,1].value)\n",
    "    Bew = bestima[1,1].value\n",
    "    multi = multiverf(n)\n",
    "    medi = mediverf(n)\n",
    "    \n",
    "    grid00 = widgets.VBox([widgets.HTML(blue_bg),widgets.HTML(light_blue_bg), multi])\n",
    "    grid01 = widgets.VBox([widgets.HTML(light_grey_bg), medi])\n",
    "    box01 = widgets.VBox([grid00, grid01])\n",
    "\n",
    "    # KALIBRIERUNGEN\n",
    "    outs = GridspecLayout(7,5, layout=widgets.Layout(width=\"630px\"))\n",
    "\n",
    "    outhead = ['Umsatz','EBIT','EBITDA','Gewinn']\n",
    "    outrow = ['Zielunternehmen', 'Enterprise Value (Median)', 'Enterprise Value (Sektor)', 'Equity Bridge', 'Equity Value (Median)', 'Equity Value (Sektor)']\n",
    "\n",
    "    for j in range(4):\n",
    "        outs[0,j+1] = widgets.Text(outhead[j], disabled = False, layout=widgets.Layout(width=\"90px\"))\n",
    "        outs[0,j+1].add_class('blue')\n",
    "\n",
    "\n",
    "    # Zielunternehmen -- Erste Zeile\n",
    "    outs[1,1] = widgets.FloatText(ins[2,1].value, disabled = True, layout=widgets.Layout(width=\"90px\"))\n",
    "    outs[1,2] = widgets.FloatText(ins[3,1].value, disabled = True, layout=widgets.Layout(width=\"90px\"))\n",
    "    outs[1,3] = widgets.FloatText(ins[4,1].value, disabled = True, layout=widgets.Layout(width=\"90px\"))\n",
    "    outs[1,4] = widgets.FloatText(ins[5,1].value, disabled = True, layout=widgets.Layout(width=\"90px\"))\n",
    "\n",
    "\n",
    "    for j in range(4):\n",
    "         for i in range(2,7):\n",
    "            outs[i,j] = widgets.FloatText(0, disabled = True, layout=widgets.Layout(width=\"90px\"))\n",
    "\n",
    "    # Equity Bridge -- Vierte Zeile\n",
    "    outs[4,1] = widgets.FloatText(ins[8,1].value, disabled = True, layout=widgets.Layout(width=\"90px\"))\n",
    "    outs[4,2] = widgets.FloatText(ins[8,1].value, disabled = True, layout=widgets.Layout(width=\"90px\"))\n",
    "    outs[4,3] = widgets.FloatText(ins[8,1].value, disabled = True, layout=widgets.Layout(width=\"90px\"))  \n",
    "\n",
    "    for i in range(1,7):\n",
    "        outs[i,0] = widgets.Text(outrow[i-1], disabled = True, layout=widgets.Layout(width=\"240px\"))\n",
    "        outs[i,0].add_class('light_grey') \n",
    "\n",
    "    outs[1,4] = widgets.FloatText(ins[5,1].value, disabled = True, layout=widgets.Layout(width=\"90px\"))\n",
    "    outs[5,4] = widgets.FloatText(0, disabled = True, layout=widgets.Layout(width=\"90px\"))\n",
    "    outs[6,4] = widgets.FloatText(0, disabled = True, layout=widgets.Layout(width=\"90px\"))\n",
    "\n",
    "\n",
    "\n",
    "\n",
    "    # Equity Value -- Results Table\n",
    "    equityval = GridspecLayout(9,2, layout = widgets.Layout(width =\"350px\"))\n",
    "    equhead = ['Equity Value (Marktwert des Eigenkapitals)','Umsatz Sektor','Umsatz Peer','EBIT Sektor','EBIT Peer','EBITDA Sektor','EBITDA Peer', 'KGV Sektor', 'KGV Peer']\n",
    "\n",
    "\n",
    "    for i in range(1,9):\n",
    "        equityval[i,0] = widgets.Text(equhead[i], disabled = False, layout = widgets.Layout(width =\"180px\"))\n",
    "        equityval[i,1] = widgets.FloatText(0,disabled = True, layout = widgets.Layout(width =\"100px\"))\n",
    "        equityval[i,0].add_class('blue')\n",
    "\n",
    "        \n",
    "     # OBSERVE \n",
    "    for i in range(1,n+1):\n",
    "        multi[i,1].observe(ev, 'value')\n",
    "    for i in range(1,n+1):\n",
    "        multi[i,2].observe(evzuu, 'value')\n",
    "\n",
    "    for i in range(1,n+1):\n",
    "        multi[i,3].observe(evzuebit, 'value')\n",
    "\n",
    "    for i in range(1,n+1):\n",
    "        multi[i,4].observe(evzuebitda, 'value')\n",
    "\n",
    "    for i in range(1,n+1):\n",
    "        multi[i,5].observe(kgv, 'value')\n",
    "  \n",
    "\n",
    "    ins[2,1].observe(inschanges, 'value')\n",
    "    ins[3,1].observe(inschanges, 'value')\n",
    "    ins[4,1].observe(inschanges, 'value')\n",
    "    ins[5,1].observe(inschanges, 'value')\n",
    "    ins[8,1].observe(inschanges, 'value')\n",
    "\n",
    "\n",
    "    for j in range(2,6):\n",
    "        for i in range(n):\n",
    "            multi[i,j].observe(medenterprise, 'value')\n",
    "\n",
    "\n",
    "    ins[2,1].observe(medenterprise, 'value')\n",
    "    ins[3,1].observe(medenterprise, 'value')\n",
    "    ins[4,1].observe(medenterprise, 'value')\n",
    "\n",
    "\n",
    "\n",
    "    medi[2,2].observe(sekenterprise, 'value')\n",
    "    medi[2,3].observe(sekenterprise, 'value')\n",
    "    medi[2,4].observe(sekenterprise, 'value')\n",
    "    ins[4,1].observe(sekenterprise, 'value')\n",
    "    ins[2,1].observe(sekenterprise, 'value')\n",
    "    ins[3,1].observe(sekenterprise, 'value')\n",
    "\n",
    "\n",
    "\n",
    "    for j in range(2,6):\n",
    "        for i in range(n):\n",
    "            multi[i,j].observe(medequity, 'value')\n",
    "\n",
    "    ins[2,1].observe(medequity, 'value')\n",
    "    ins[3,1].observe(medequity, 'value')\n",
    "    ins[4,1].observe(medequity, 'value')\n",
    "    ins[5,1].observe(medequity, 'value')\n",
    "    ins[8,1].observe(medequity, 'value')\n",
    "\n",
    "\n",
    "\n",
    "    medi[2,5].observe(sekequity, 'value')\n",
    "    medi[2,4].observe(sekequity, 'value')\n",
    "    medi[2,2].observe(sekequity, 'value')\n",
    "    medi[2,3].observe(sekequity, 'value')\n",
    "    ins[8,1].observe(sekequity, 'value')\n",
    "    ins[4,1].observe(sekequity, 'value')\n",
    "    ins[2,1].observe(sekequity, 'value')\n",
    "    ins[3,1].observe(sekequity, 'value')\n",
    "\n",
    "\n",
    "    grid2 = [widgets.HTML(blue_bg), widgets.HTML(light_grey_bg), outs]\n",
    "    grid3 = [widgets.HTML(blue_bg), widgets.HTML(light_grey_bg), equityval]   \n",
    "    box2 = widgets.HBox(grid2)\n",
    "    box3 = widgets.HBox(grid3)\n",
    "    box4 = widgets.VBox([box01, box2])\n",
    "    box5 = widgets.VBox([box3, buttonexcel])\n",
    "    box6 = widgets.VBox([box4, box5])\n",
    "    #mybox = widgets.VBox([box4, box5])\n",
    "    \n",
    "    display(box6)\n",
    "buttongo.on_click(showgo)\n"
   ]
  },
  {
   "cell_type": "code",
   "execution_count": 13,
   "metadata": {
    "ExecuteTime": {
     "end_time": "2021-03-26T14:39:08.950757Z",
     "start_time": "2021-03-26T14:39:08.916328Z"
    },
    "code_folding": []
   },
   "outputs": [],
   "source": [
    "buttonup = widgets.Button(\n",
    "    button_style='',\n",
    "    tooltip='Click me',\n",
    "    icon='check-circle',\n",
    "    layout=widgets.Layout(width='40px')\n",
    ")\n",
    "\n",
    "def showup(x):\n",
    "\n",
    "    global multi\n",
    "    global medi\n",
    "    global outs\n",
    "    global equityval\n",
    "    global n \n",
    "    global Bew\n",
    "    global ins\n",
    "    \n",
    "    n = int(bestima[0,1].value)\n",
    "    Bew = bestima[1,1].value\n",
    "    multi = multiverf(n)\n",
    "    medi = mediverf(n)\n",
    "    \n",
    "    ins = GridspecLayout(9, 2, layout=widgets.Layout(width=\"290px\"))\n",
    "\n",
    "    inshead = ['Inputs', 'Fiskaljahr', 'Umsatz', 'EBIT', 'EBITDA', 'Gewinn',\n",
    "               'Kasse & Liquide Mittel', 'Finanzverbindlichkeiten', 'Equity Bridge']\n",
    "  \n",
    "    ins[0, 0] = widgets.Text(inshead[0], layout=widgets.Layout(width=\"180px\"))\n",
    "    ins[0, 0].add_class('blue')\n",
    "\n",
    "\n",
    "    for i in range(1, 9):\n",
    "        ins[i, 0] = widgets.Text(\n",
    "            inshead[i], layout=widgets.Layout(width=\"180px\"), disabled=True)\n",
    "        ins[i, 1] = widgets.FloatText(insvec[i-1], layout=widgets.Layout(width=\"90px\"))\n",
    "        ins[i, 0].add_class('blue')\n",
    "\n",
    "   \n",
    "\n",
    "     # OBSERVE \n",
    "    for i in range(1,n+1):\n",
    "        multi[i,1].observe(ev, 'value')\n",
    "    for i in range(1,n+1):\n",
    "        multi[i,2].observe(evzuu, 'value')\n",
    "\n",
    "    for i in range(1,n+1):\n",
    "        multi[i,3].observe(evzuebit, 'value')\n",
    "\n",
    "    for i in range(1,n+1):\n",
    "        multi[i,4].observe(evzuebitda, 'value')\n",
    "\n",
    "    for i in range(1,n+1):\n",
    "        multi[i,5].observe(kgv, 'value')\n",
    "    grid00 = widgets.VBox([widgets.HTML(blue_bg),widgets.HTML(light_blue_bg), multi])\n",
    "    grid01 = widgets.VBox([widgets.HTML(light_grey_bg), medi])\n",
    "    box01 = widgets.VBox([grid00, grid01])\n",
    "\n",
    "    # KALIBRIERUNGEN\n",
    "    outs = GridspecLayout(7,5, layout=widgets.Layout(width=\"630px\"))\n",
    "\n",
    "    outhead = ['Umsatz','EBIT','EBITDA','Gewinn']\n",
    "    outrow = ['Zielunternehmen', 'Enterprise Value (Median)', 'Enterprise Value (Sektor)', 'Equity Bridge', 'Equity Value (Median)', 'Equity Value (Sektor)']\n",
    "\n",
    "    for j in range(4):\n",
    "        outs[0,j+1] = widgets.Text(outhead[j], disabled = False, layout=widgets.Layout(width=\"90px\"))\n",
    "        outs[0,j+1].add_class('blue')\n",
    "\n",
    "\n",
    "    # Zielunternehmen -- Erste Zeile\n",
    "    outs[1,1] = widgets.FloatText(ins[2,1].value, disabled = True, layout=widgets.Layout(width=\"90px\"))\n",
    "    outs[1,2] = widgets.FloatText(ins[3,1].value, disabled = True, layout=widgets.Layout(width=\"90px\"))\n",
    "    outs[1,3] = widgets.FloatText(ins[4,1].value, disabled = True, layout=widgets.Layout(width=\"90px\"))\n",
    "    outs[1,4] = widgets.FloatText(ins[5,1].value, disabled = True, layout=widgets.Layout(width=\"90px\"))\n",
    "\n",
    "\n",
    "    for j in range(4):\n",
    "         for i in range(2,7):\n",
    "            outs[i,j] = widgets.FloatText(0, disabled = True, layout=widgets.Layout(width=\"90px\"))\n",
    "\n",
    "    # Equity Bridge -- Vierte Zeile\n",
    "    outs[4,1] = widgets.FloatText(ins[8,1].value, disabled = True, layout=widgets.Layout(width=\"90px\"))\n",
    "    outs[4,2] = widgets.FloatText(ins[8,1].value, disabled = True, layout=widgets.Layout(width=\"90px\"))\n",
    "    outs[4,3] = widgets.FloatText(ins[8,1].value, disabled = True, layout=widgets.Layout(width=\"90px\"))  \n",
    "\n",
    "    for i in range(1,7):\n",
    "        outs[i,0] = widgets.Text(outrow[i-1], disabled = True, layout=widgets.Layout(width=\"240px\"))\n",
    "        outs[i,0].add_class('light_grey') \n",
    "\n",
    "    outs[1,4] = widgets.FloatText(ins[5,1].value, disabled = True, layout=widgets.Layout(width=\"90px\"))\n",
    "    outs[5,4] = widgets.FloatText(0, disabled = True, layout=widgets.Layout(width=\"90px\"))\n",
    "    outs[6,4] = widgets.FloatText(0, disabled = True, layout=widgets.Layout(width=\"90px\"))\n",
    "\n",
    "\n",
    "\n",
    "\n",
    "    # Equity Value -- Results Table\n",
    "    equityval = GridspecLayout(9,2, layout = widgets.Layout(width =\"350px\"))\n",
    "    equhead = ['Equity Value (Marktwert des Eigenkapitals)','Umsatz Sektor','Umsatz Peer','EBIT Sektor','EBIT Peer','EBITDA Sektor','EBITDA Peer', 'KGV Sektor', 'KGV Peer']\n",
    "\n",
    "\n",
    "    for i in range(1,9):\n",
    "        equityval[i,0] = widgets.Text(equhead[i], disabled = False, layout = widgets.Layout(width =\"180px\"))\n",
    "        equityval[i,1] = widgets.FloatText(0,disabled = True, layout = widgets.Layout(width =\"100px\"))\n",
    "        equityval[i,0].add_class('blue')\n",
    "\n",
    "\n",
    "    ins[2,1].observe(inschanges, 'value')\n",
    "    ins[3,1].observe(inschanges, 'value')\n",
    "    ins[4,1].observe(inschanges, 'value')\n",
    "    ins[5,1].observe(inschanges, 'value')\n",
    "    ins[8,1].observe(inschanges, 'value')\n",
    "\n",
    "\n",
    "    for j in range(2,6):\n",
    "        for i in range(n):\n",
    "            multi[i,j].observe(medenterprise, 'value')\n",
    "\n",
    "\n",
    "    ins[2,1].observe(medenterprise, 'value')\n",
    "    ins[3,1].observe(medenterprise, 'value')\n",
    "    ins[4,1].observe(medenterprise, 'value')\n",
    "\n",
    "\n",
    "\n",
    "    medi[2,2].observe(sekenterprise, 'value')\n",
    "    medi[2,3].observe(sekenterprise, 'value')\n",
    "    medi[2,4].observe(sekenterprise, 'value')\n",
    "    ins[4,1].observe(sekenterprise, 'value')\n",
    "    ins[2,1].observe(sekenterprise, 'value')\n",
    "    ins[3,1].observe(sekenterprise, 'value')\n",
    "\n",
    "\n",
    "\n",
    "    for j in range(2,6):\n",
    "        for i in range(n):\n",
    "            multi[i,j].observe(medequity, 'value')\n",
    "\n",
    "    ins[2,1].observe(medequity, 'value')\n",
    "    ins[3,1].observe(medequity, 'value')\n",
    "    ins[4,1].observe(medequity, 'value')\n",
    "    ins[5,1].observe(medequity, 'value')\n",
    "    ins[8,1].observe(medequity, 'value')\n",
    "\n",
    "\n",
    "\n",
    "    medi[2,5].observe(sekequity, 'value')\n",
    "    medi[2,4].observe(sekequity, 'value')\n",
    "    medi[2,2].observe(sekequity, 'value')\n",
    "    medi[2,3].observe(sekequity, 'value')\n",
    "    ins[8,1].observe(sekequity, 'value')\n",
    "    ins[4,1].observe(sekequity, 'value')\n",
    "    ins[2,1].observe(sekequity, 'value')\n",
    "    ins[3,1].observe(sekequity, 'value')\n",
    "\n",
    "    insbox = widgets.VBox([widgets.HTML(blue_bg), widgets.HTML(light_grey_bg), ins])\n",
    "    grid2 = [widgets.HTML(blue_bg), widgets.HTML(light_grey_bg), outs]\n",
    "    grid3 = [widgets.HTML(blue_bg), widgets.HTML(light_grey_bg), equityval]   \n",
    "    box2 = widgets.HBox(grid2)\n",
    "    box3 = widgets.HBox(grid3)\n",
    "    box4 = widgets.VBox([box01, box2])\n",
    "    box5 = widgets.HBox([insbox, box3])\n",
    "    box6 = widgets.VBox([box4, buttonexcel])\n",
    "    box7 = widgets.VBox([box5, box6])\n",
    "    #mybox = widgets.VBox([box4, box5])\n",
    "    \n",
    "    display(box7)\n",
    "buttonup.on_click(showup)"
   ]
  },
  {
   "cell_type": "code",
   "execution_count": 9,
   "metadata": {
    "ExecuteTime": {
     "end_time": "2021-03-26T14:38:27.808590Z",
     "start_time": "2021-03-26T14:38:27.795612Z"
    },
    "code_folding": [
     0,
     6
    ]
   },
   "outputs": [],
   "source": [
    "def multimed(a,n):\n",
    "    \n",
    "    global multi\n",
    "    x = numpy.median([multi[i,a].value for i in range(1,n+1)])\n",
    "    return(x)\n",
    "\n",
    "def multimean(a,n):\n",
    "    \n",
    "    global multi\n",
    "    x = numpy.mean([multi[i,a].value for i in range(1,n+1)])\n",
    "    return(x)"
   ]
  },
  {
   "cell_type": "code",
   "execution_count": 10,
   "metadata": {
    "ExecuteTime": {
     "end_time": "2021-03-26T14:38:28.639195Z",
     "start_time": "2021-03-26T14:38:28.604288Z"
    },
    "code_folding": [
     0
    ]
   },
   "outputs": [],
   "source": [
    "## Updatefunktionen\n",
    "def ev(change):\n",
    "    global medi\n",
    "    global multi\n",
    "    medi[0,1] = widgets.FloatText(multimed(1,n), disabled = True, layout=widgets.Layout(width=\"91px\"))\n",
    "    medi[1,1] = widgets.FloatText(numpy.mean([multi[i,1].value for i in range(1,n+1)]), disabled = True,layout=widgets.Layout(width=\"90px\"))\n",
    "\n",
    "def evzuu(change):\n",
    "    global medi\n",
    "    global mutli\n",
    "    medi[0,2] = widgets.FloatText(multimed(2,n),  disabled = True,layout=widgets.Layout(width=\"91px\"))\n",
    "    medi[1,2] = widgets.FloatText(numpy.mean([multi[i,2].value for i in range(1,n+1)]), disabled = True,layout=widgets.Layout(width=\"90px\"))\n",
    "\n",
    "def evzuebit(change):\n",
    "    global medi\n",
    "    global multi\n",
    "    medi[0,3] = widgets.FloatText(multimed(3,n), disabled = True, layout=widgets.Layout(width=\"91px\"))\n",
    "    medi[1,3] = widgets.FloatText(numpy.mean([multi[i,3].value for i in range(1,n+1)]), disabled = True,layout=widgets.Layout(width=\"90px\"))\n",
    "\n",
    "def evzuebitda(change):\n",
    "    global medi\n",
    "    global multi\n",
    "    medi[0,4] = widgets.FloatText(multimed(4,n), disabled = True, layout=widgets.Layout(width=\"91px\"))\n",
    "    medi[1,4] = widgets.FloatText(numpy.mean([multi[i,4].value for i in range(1,n+1)]), disabled = True,layout=widgets.Layout(width=\"90px\"))\n",
    "\n",
    "def kgv(change):\n",
    "    global medi\n",
    "    global multi\n",
    "    medi[0,5] = widgets.FloatText(multimed(5,n), disabled = True, layout=widgets.Layout(width=\"91px\"))\n",
    "    medi[1,5] = widgets.FloatText(numpy.mean([multi[i,5].value for i in range(1,n+1)]), disabled = True,layout=widgets.Layout(width=\"90px\"))\n",
    "\n",
    "\n",
    "## UPDATE FUNKTIONEN\n",
    "def inschanges(change):\n",
    "    global outs\n",
    "    # Zielunternehmen\n",
    "    outs[1,1] = widgets.FloatText(ins[2,1].value, disabled = True, layout=widgets.Layout(width=\"90px\"))\n",
    "    outs[1,2] = widgets.FloatText(ins[3,1].value, disabled = True, layout=widgets.Layout(width=\"90px\"))\n",
    "    outs[1,3] = widgets.FloatText(ins[4,1].value, disabled = True, layout=widgets.Layout(width=\"90px\"))\n",
    "    outs[1,4] = widgets.FloatText(ins[5,1].value, disabled = True, layout=widgets.Layout(width=\"90px\"))\n",
    "\n",
    "    # Equity Bridge\n",
    "    outs[4,1] = widgets.FloatText(ins[8,1].value, disabled = True, layout=widgets.Layout(width=\"90px\"))\n",
    "    outs[4,2] = widgets.FloatText(ins[8,1].value, disabled = True, layout=widgets.Layout(width=\"90px\"))\n",
    "    outs[4,3] = widgets.FloatText(ins[8,1].value, disabled = True, layout=widgets.Layout(width=\"90px\"))\n",
    "\n",
    "def medenterprise(change):\n",
    "    # Enterprise Value (Median) \n",
    "    # - Umsatz \n",
    "    outs[2,1] = widgets.FloatText(ins[2,1].value*multimed(2,n), disabled = True,layout=widgets.Layout(width=\"90px\"))\n",
    "    # - EBIT  \n",
    "    outs[2,2] = widgets.FloatText(ins[3,1].value*multimed(3,n), disabled = True, layout=widgets.Layout(width=\"90px\"))\n",
    "    # - EBITDA\n",
    "    outs[2,3] = widgets.FloatText(ins[4,1].value*multimed(4,n), disabled = True, layout=widgets.Layout(width=\"90px\"))\n",
    "    \n",
    "    equityval[2,1] = widgets.FloatText(((ins[2,1].value*multimed(2,n)) + ins[8,1].value)*(1-Bew), disabled = True, layout=widgets.Layout(width=\"100px\"))\n",
    "    equityval[4,1] = widgets.FloatText(((ins[3,1].value*multimed(3,n)) + ins[8,1].value)*(1-Bew), disabled = True, layout=widgets.Layout(width=\"100px\"))\n",
    "    equityval[6,1] = widgets.FloatText(((ins[4,1].value*multimed(4,n)) + ins[8,1].value)*(1-Bew), disabled = True, layout=widgets.Layout(width=\"100px\"))\n",
    "    equityval[8,1] = widgets.FloatText((ins[5,1].value)*(multimed(5,n))*(1-Bew), disabled = True, layout=widgets.Layout(width=\"100px\"))\n",
    "    \n",
    "def sekenterprise(change):\n",
    "    # Enterprise Value (Sektor)\n",
    "    #  - Umsatz\n",
    "    outs[3,1] = widgets.FloatText(ins[2,1].value*medi[2,2].value, disabled = True, layout=widgets.Layout(width=\"90px\"))\n",
    "    # - EBIT  \n",
    "    outs[3,2] = widgets.FloatText(ins[3,1].value*medi[2,3].value, disabled = True, layout=widgets.Layout(width=\"90px\"))\n",
    "    # - EBITDA\n",
    "    outs[3,3] = widgets.FloatText(ins[4,1].value*medi[2,4].value, disabled = True,layout=widgets.Layout(width=\"90px\"))\n",
    "\n",
    "def medequity(change):\n",
    "    # Equity Value (Median)\n",
    "    #  - Umsatz\n",
    "    outs[5,1] = widgets.FloatText(((ins[2,1].value*multimed(2,n)) + ins[8,1].value)*(1-Bew), disabled = True, layout=widgets.Layout(width=\"90px\"))\n",
    "    # - EBIT  \n",
    "    outs[5,2] = widgets.FloatText(((ins[3,1].value*multimed(3,n)) + ins[8,1].value)*(1-Bew), disabled = True, layout=widgets.Layout(width=\"90px\"))\n",
    "    # - EBITDA\n",
    "    outs[5,3] = widgets.FloatText(((ins[4,1].value*multimed(4,n)) + ins[8,1].value)*(1-Bew), disabled = True, layout=widgets.Layout(width=\"90px\"))\n",
    "    # - Gewinn\n",
    "    outs[5,4] = widgets.FloatText((ins[5,1].value)*(multimed(5,n))*(1-Bew), disabled = True, layout=widgets.Layout(width=\"90px\"))\n",
    "\n",
    "\n",
    "def sekequity(change):\n",
    "    # Equity Value (Sektor)\n",
    "    #  - Umsatz\n",
    "    outs[6,1] = widgets.FloatText(((ins[2,1].value*medi[2,2].value) + ins[8,1].value)*(1-Bew), disabled = True, layout=widgets.Layout(width=\"90px\"))\n",
    "    # - EBIT  \n",
    "    outs[6,2] = widgets.FloatText(((ins[3,1].value*medi[2,3].value) + ins[8,1].value)*(1-Bew), disabled = True, layout=widgets.Layout(width=\"90px\"))\n",
    "    # - EBITDA\n",
    "    outs[6,3] = widgets.FloatText((((ins[4,1].value*medi[2,4].value) + ins[8,1].value)*(1-Bew)), disabled = True, layout=widgets.Layout(width=\"90px\"))\n",
    "    # - Gewinn\n",
    "    outs[6,4] = widgets.FloatText((ins[5,1].value)*(medi[2,5].value)*(1-Bew), disabled = True, layout=widgets.Layout(width=\"90px\"))\n",
    "    \n",
    "    equityval[1,1] = widgets.FloatText(((ins[2,1].value*medi[2,2].value) + ins[8,1].value)*(1-Bew), disabled = True, layout=widgets.Layout(width=\"100px\"))\n",
    "    equityval[3,1] = widgets.FloatText(((ins[3,1].value*medi[2,3].value) + ins[8,1].value)*(1-Bew), disabled = True, layout=widgets.Layout(width=\"100px\"))\n",
    "    equityval[5,1] =  widgets.FloatText((((ins[4,1].value*medi[2,4].value) + ins[8,1].value)*(1-Bew)), disabled = True, layout=widgets.Layout(width=\"100px\"))\n",
    "    equityval[7,1] = widgets.FloatText((ins[5,1].value)*(medi[2,5].value)*(1-Bew), disabled = True, layout=widgets.Layout(width=\"100px\"))\n",
    "  "
   ]
  },
  {
   "cell_type": "code",
   "execution_count": 11,
   "metadata": {
    "ExecuteTime": {
     "end_time": "2021-03-26T14:38:29.393580Z",
     "start_time": "2021-03-26T14:38:29.381072Z"
    },
    "code_folding": [
     0
    ]
   },
   "outputs": [],
   "source": [
    "## Erzeugen Neues Grid\n",
    "def multiverf(n):\n",
    "    #global multi\n",
    "    multi = GridspecLayout(n+1,6, layout=widgets.Layout(width=\"660px\"))\n",
    "\n",
    "\n",
    "    head = ['Vergleichsunternehmen','EV in MEUR','EV/Umsatz','EV/EBIT','EV/EBITDA','KGV']\n",
    "    \n",
    "\n",
    "    multi[0,0] = widgets.Text(head[0], disabled = False,layout=widgets.Layout(width=\"180px\"))\n",
    "    multi[0,0].add_class('blue')\n",
    "\n",
    "    for j in range(1,6):\n",
    "        multi[0,j] = widgets.Text(head[j], disabled = True, layout=widgets.Layout(width=\"90px\"))\n",
    "        multi[0,j].add_class('blue')\n",
    "\n",
    "        for i in range(1,n+1):\n",
    "            multi[i,j] = widgets.FloatText(0,layout=widgets.Layout(width=\"90px\"))\n",
    "            multi[i,0] = widgets.Text('',layout=widgets.Layout(width=\"180px\"))\n",
    "            multi[i,0].add_class('light_blue') \n",
    "\n",
    "    return multi\n",
    "\n",
    "def mediverf(n):\n",
    "    ## Medianberechnung\n",
    "    medi = GridspecLayout(4,6, layout=widgets.Layout(width=\"660px\"))\n",
    "    row = ['Median', 'Mittelwert', 'Sektor Median']\n",
    "    for i in range(3):\n",
    "        medi[i,0] = widgets.Text(row[i], disabled = True, layout=widgets.Layout(width=\"180px\"))\n",
    "        medi[i,0].add_class('light_grey') \n",
    "        for j in range(1,6):\n",
    "            medi[i,j] = widgets.FloatText(0, disabled = True, layout=widgets.Layout(width=\"91px\"))\n",
    "            medi[2,j] = widgets.FloatText(0, disabled = False, layout=widgets.Layout(width=\"90px\"))\n",
    "\n",
    "\n",
    "    return medi"
   ]
  },
  {
   "cell_type": "code",
   "execution_count": 14,
   "metadata": {
    "ExecuteTime": {
     "end_time": "2021-03-26T14:39:14.195575Z",
     "start_time": "2021-03-26T14:39:14.049490Z"
    },
    "code_folding": [],
    "scrolled": false
   },
   "outputs": [
    {
     "data": {
      "application/vnd.jupyter.widget-view+json": {
       "model_id": "7d272b9d68f84133978e5eda8ead65f4",
       "version_major": 2,
       "version_minor": 0
      },
      "text/plain": [
       "Accordion(children=(GridBox(children=(HBox(children=(Button(description='import', style=ButtonStyle()), Button…"
      ]
     },
     "metadata": {},
     "output_type": "display_data"
    },
    {
     "data": {
      "application/vnd.jupyter.widget-view+json": {
       "model_id": "3aa65ace2e8e421f8d6155e2094b78d7",
       "version_major": 2,
       "version_minor": 0
      },
      "text/plain": [
       "VBox(children=(HBox(children=(VBox(children=(HTML(value='<style>.blue input { background-color:#66B3E9 !import…"
      ]
     },
     "metadata": {},
     "output_type": "display_data"
    },
    {
     "data": {
      "application/vnd.jupyter.widget-view+json": {
       "model_id": "55f805a810f44193a11e77ddd83fe092",
       "version_major": 2,
       "version_minor": 0
      },
      "text/plain": [
       "HBox(children=(Text(value='-', description='Name', layout=Layout(width='150px')), Button(icon='check-circle', …"
      ]
     },
     "metadata": {},
     "output_type": "display_data"
    },
    {
     "data": {
      "application/vnd.jupyter.widget-view+json": {
       "model_id": "da52f04f86bc4c35984485ea7db66b09",
       "version_major": 2,
       "version_minor": 0
      },
      "text/plain": [
       "HBox(children=(Text(value='-', description='Name', layout=Layout(width='150px')), Button(icon='check-circle', …"
      ]
     },
     "metadata": {},
     "output_type": "display_data"
    }
   ],
   "source": [
    "# Eingabe Inputdaten\n",
    "\n",
    "# Eingabe\n",
    "ins = GridspecLayout(9, 2, layout=widgets.Layout(width=\"290px\"))\n",
    "\n",
    "inshead = ['Inputs', 'Fiskaljahr', 'Umsatz', 'EBIT', 'EBITDA', 'Gewinn',\n",
    "           'Kasse & Liquide Mittel', 'Finanzverbindlichkeiten', 'Equity Bridge']\n",
    "inputvec = [2018, 70300000, 1800000, 3200000,\n",
    "            1260000, 1851000, 9358000, -7507000]\n",
    "\n",
    "ins[0, 0] = widgets.Text(inshead[0], layout=widgets.Layout(width=\"180px\"))\n",
    "ins[0, 0].add_class('blue')\n",
    "\n",
    "\n",
    "for i in range(1, 9):\n",
    "    ins[i, 0] = widgets.Text(\n",
    "        inshead[i], layout=widgets.Layout(width=\"180px\"), disabled=True)\n",
    "    ins[i, 1] = widgets.FloatText(\n",
    "        placeholder='-', layout=widgets.Layout(width=\"90px\"))\n",
    "    ins[i, 0].add_class('blue')\n",
    "\n",
    "insbox = widgets.VBox(\n",
    "    [widgets.HTML(blue_bg), widgets.HTML(light_grey_bg), ins])\n",
    "\n",
    "gobox = widgets.VBox([bestbox,buttongo])\n",
    "box001 = widgets.GridBox([insbox, gobox], layout=widgets.Layout(\n",
    "    grid_template_columns=\"repeat(2,400px)\"))\n",
    "upbox = widgets.HBox([btn, buttonup])\n",
    "box002 = widgets.GridBox([upbox, bestbox ], layout=widgets.Layout(\n",
    "    grid_template_columns=\"repeat(2, 400px)\"))\n",
    "# Import\n",
    "inputacc = widgets.Accordion(\n",
    "    children=[box002, box001]\n",
    ")\n",
    "inputacc.set_title(0, 'Daten importieren')\n",
    "inputacc.set_title(1, 'Manuelle Eingabe der Inputdaten')\n",
    "\n",
    "display(inputacc)\n",
    "### Auch mit tabs anzeigen"
   ]
  },
  {
   "cell_type": "code",
   "execution_count": null,
   "metadata": {},
   "outputs": [],
   "source": [
    "root = tkinter.Tk()\n",
    "    save_path = filedialog.askdirectory()\n",
    "    root.destroy()\n",
    "    os.chdir(save_path)\n",
    "    plotly.offline.plot(fig_tmp, filename=txt_save_name.value,auto_open=False)\n",
    "\n",
    "\n",
    "\n",
    "    with output_widget:\n",
    "        print(\"Figure {} saved to {}\".format(txt_save_name.value,save_path)) "
   ]
  },
  {
   "cell_type": "code",
   "execution_count": null,
   "metadata": {
    "ExecuteTime": {
     "end_time": "2021-03-26T14:05:11.573210Z",
     "start_time": "2021-03-26T14:05:11.551213Z"
    }
   },
   "outputs": [],
   "source": [
    "\n",
    "list2 = []\n",
    "for j in range(2):\n",
    "    helplist = []\n",
    "    helplist.append(ins[1,j].value)\n",
    "    helplist.append(ins[2,j].value)\n",
    "    helplist.append(ins[3,j].value)\n",
    "    helplist.append(ins[4,j].value)\n",
    "    helplist.append(ins[5,j].value)\n",
    "    helplist.append(ins[6,j].value)\n",
    "    helplist.append(ins[7,j].value)\n",
    "    helplist.append(ins[8,j].value)\n",
    "    list2.append(helplist) \n",
    "    \n",
    "# for i in range(9):\n",
    "#     a = ins[i,1].value\n",
    "#     list2.append(a)\n",
    "list2"
   ]
  },
  {
   "cell_type": "code",
   "execution_count": null,
   "metadata": {
    "ExecuteTime": {
     "end_time": "2021-03-26T14:23:11.504827Z",
     "start_time": "2021-03-26T14:23:11.488863Z"
    }
   },
   "outputs": [],
   "source": [
    "writer = pd.ExcelWriter('Summary Data Request 8 weeks.xlsx')\n",
    "ins.to_excel(writer, sheet_name='Sheet1', startrow=1)\n",
    "multi.to_excel(writer, sheet_name='Sheet1', startcol=7)\n",
    "outs.to_excel(writer, sheet_name='Sheet1', startrow=11)\n",
    "\n",
    "# Get sheet1\n",
    "sheet1 = writer.sheets['Sheet1']\n",
    "sheet1.write('A1', 'Retail Kelontong')\n",
    "sheet1.write('G1', 'Pulsa')\n",
    "sheet1.write('A11', 'Minimarket')\n",
    "sheet1.write('G11', 'Retail dengan barcode')\n",
    "sheet1.write('A21', 'Retail dengan barcode 2')\n",
    "sheet1.write('G21', 'Food and Beverage')\n",
    "writer.save()"
   ]
  },
  {
   "cell_type": "code",
   "execution_count": null,
   "metadata": {
    "ExecuteTime": {
     "end_time": "2021-03-26T13:45:08.781710Z",
     "start_time": "2021-03-26T13:45:08.762762Z"
    }
   },
   "outputs": [],
   "source": [
    "sheetname.value"
   ]
  },
  {
   "cell_type": "code",
   "execution_count": null,
   "metadata": {
    "ExecuteTime": {
     "end_time": "2021-03-25T16:40:27.193892Z",
     "start_time": "2021-03-25T16:40:27.074549Z"
    },
    "code_folding": [
     0
    ]
   },
   "outputs": [],
   "source": [
    "## Vorführinputs\n",
    "ins = GridspecLayout(9,2,layout=widgets.Layout(width=\"290px\"))\n",
    "\n",
    "inshead = ['Inputs','Fiskaljahr','Umsatz','EBIT','EBITDA','Gewinn', 'Kasse & Liquide Mittel', 'Finanzverbindlichkeiten', 'Equity Bridge']\n",
    "inputvec = [2018, 70300000, 1800000, 3200000, 1260000, 1851000, 9358000, -7507000]\n",
    "\n",
    "ins[0,0] = widgets.Text(inshead[0], layout = widgets.Layout(width =\"180px\"))\n",
    "ins[0,0].add_class('blue')\n",
    "\n",
    "\n",
    "for i in range(1,9):\n",
    "    ins[i,0] = widgets.Text(inshead[i], layout = widgets.Layout(width =\"180px\"))\n",
    "    ins[i,1] = widgets.FloatText(inputvec[i-1], layout = widgets.Layout(width =\"90px\"))\n",
    "    ins[i,0].add_class('blue')\n",
    "\n",
    "grid0 = [widgets.HTML(blue_bg), widgets.HTML(light_grey_bg), ins]"
   ]
  },
  {
   "cell_type": "code",
   "execution_count": null,
   "metadata": {
    "ExecuteTime": {
     "end_time": "2021-03-25T15:46:14.911310Z",
     "start_time": "2021-03-25T15:46:14.896577Z"
    }
   },
   "outputs": [],
   "source": []
  },
  {
   "cell_type": "code",
   "execution_count": null,
   "metadata": {
    "ExecuteTime": {
     "end_time": "2021-03-25T15:48:18.042352Z",
     "start_time": "2021-03-25T15:48:17.975389Z"
    }
   },
   "outputs": [],
   "source": []
  },
  {
   "cell_type": "code",
   "execution_count": null,
   "metadata": {
    "ExecuteTime": {
     "end_time": "2021-03-25T15:39:24.335581Z",
     "start_time": "2021-03-25T15:39:24.309152Z"
    }
   },
   "outputs": [],
   "source": []
  },
  {
   "cell_type": "code",
   "execution_count": null,
   "metadata": {
    "ExecuteTime": {
     "end_time": "2021-03-25T15:07:35.399194Z",
     "start_time": "2021-03-25T15:07:34.643Z"
    }
   },
   "outputs": [],
   "source": [
    "upl_file = upload.value\n",
    "c = upl_file[\"csvtest.csv\"][\"content\"]\n",
    "type(c)\n",
    "d =str(c, \"windows-1252\")\n",
    "#df = pd.read_csv(r\"C:\\Users\\49160\\Documents\\Rivacon\\realcsv.csv\", sep=';')\n",
    "#df = pd.read_csv(d)\n",
    "import io\n",
    "df = pd.read_csv(io.BytesIO(bytes(str(c,'windows-1252'), encoding = \"utf-8\")), sep =\";\")\n",
    "#df = pd.read_csv(d, sep = ';')\n",
    "dfnum = df.apply (pd.to_numeric, errors='coerce')\n",
    "\n",
    "print (df)\n",
    "df[15:25]"
   ]
  },
  {
   "cell_type": "code",
   "execution_count": null,
   "metadata": {
    "ExecuteTime": {
     "end_time": "2021-03-25T15:07:35.400191Z",
     "start_time": "2021-03-25T15:07:34.644Z"
    }
   },
   "outputs": [],
   "source": []
  },
  {
   "cell_type": "code",
   "execution_count": null,
   "metadata": {
    "ExecuteTime": {
     "end_time": "2021-03-25T15:07:35.401189Z",
     "start_time": "2021-03-25T15:07:34.645Z"
    }
   },
   "outputs": [],
   "source": []
  },
  {
   "cell_type": "code",
   "execution_count": null,
   "metadata": {
    "ExecuteTime": {
     "end_time": "2021-03-25T15:07:35.401189Z",
     "start_time": "2021-03-25T15:07:34.646Z"
    }
   },
   "outputs": [],
   "source": [
    "import codecs\n",
    "codecs.decode(upload.content, encoding = 'utf-8')"
   ]
  },
  {
   "cell_type": "code",
   "execution_count": null,
   "metadata": {
    "ExecuteTime": {
     "end_time": "2021-03-25T15:07:35.402186Z",
     "start_time": "2021-03-25T15:07:34.647Z"
    }
   },
   "outputs": [],
   "source": [
    "# Import der Inputdaten\n",
    "\n",
    "# Eingabe\n",
    "ins = GridspecLayout(9, 2, layout=widgets.Layout(width=\"290px\"))\n",
    "\n",
    "inshead = ['Inputs', 'Fiskaljahr', 'Umsatz', 'EBIT', 'EBITDA', 'Gewinn',\n",
    "           'Kasse & Liquide Mittel', 'Finanzverbindlichkeiten', 'Equity Bridge']\n",
    "inputvec = [2018, 70300000, 1800000, 3200000,\n",
    "            1260000, 1851000, 9358000, -7507000]\n",
    "\n",
    "ins[0, 0] = widgets.Text(inshead[0], layout=widgets.Layout(width=\"180px\"))\n",
    "ins[0, 0].add_class('blue')\n",
    "\n",
    "\n",
    "for i in range(1, 9):\n",
    "    ins[i, 0] = widgets.Text(\n",
    "        inshead[i], layout=widgets.Layout(width=\"180px\"), disabled=True)\n",
    "    ins[i, 1] = widgets.FloatText(\n",
    "        placeholder='-', layout=widgets.Layout(width=\"90px\"))\n",
    "    ins[i, 0].add_class('blue')\n",
    "\n",
    "insbox = widgets.VBox(\n",
    "    [widgets.HTML(blue_bg), widgets.HTML(light_grey_bg), ins])\n",
    "\n",
    "box001 = widgets.GridBox([insbox, bestbox], layout=widgets.Layout(\n",
    "    grid_template_columns=\"repeat(2,400px)\"))\n",
    "box002 = widgets.GridBox([upload, bestbox], layout=widgets.Layout(\n",
    "    grid_template_columns=\"repeat(2,400px)\"))\n",
    "# Import\n",
    "inputacc = widgets.Accordion(\n",
    "    children=[box001, box002]\n",
    ")\n",
    "inputacc.set_title(0, 'Eingabe der Inputdaten')\n",
    "inputacc.set_title(1, 'Daten importieren')\n",
    "\n",
    "inputacc\n",
    "### Auch mit tabs anzeigen"
   ]
  },
  {
   "cell_type": "code",
   "execution_count": null,
   "metadata": {},
   "outputs": [],
   "source": []
  },
  {
   "cell_type": "code",
   "execution_count": null,
   "metadata": {
    "ExecuteTime": {
     "end_time": "2021-03-25T15:07:35.406176Z",
     "start_time": "2021-03-25T15:07:34.656Z"
    }
   },
   "outputs": [],
   "source": []
  },
  {
   "cell_type": "code",
   "execution_count": null,
   "metadata": {
    "ExecuteTime": {
     "end_time": "2021-03-25T15:29:57.158384Z",
     "start_time": "2021-03-25T15:29:57.133456Z"
    }
   },
   "outputs": [],
   "source": [
    "\n"
   ]
  },
  {
   "cell_type": "code",
   "execution_count": null,
   "metadata": {
    "ExecuteTime": {
     "end_time": "2021-03-25T15:29:59.586936Z",
     "start_time": "2021-03-25T15:29:59.575457Z"
    }
   },
   "outputs": [],
   "source": [
    "\n"
   ]
  },
  {
   "cell_type": "code",
   "execution_count": null,
   "metadata": {
    "ExecuteTime": {
     "end_time": "2021-03-25T15:07:35.408170Z",
     "start_time": "2021-03-25T15:07:34.661Z"
    }
   },
   "outputs": [],
   "source": []
  }
 ],
 "metadata": {
  "kernelspec": {
   "display_name": "Python 3",
   "language": "python",
   "name": "python3"
  },
  "language_info": {
   "codemirror_mode": {
    "name": "ipython",
    "version": 3
   },
   "file_extension": ".py",
   "mimetype": "text/x-python",
   "name": "python",
   "nbconvert_exporter": "python",
   "pygments_lexer": "ipython3",
   "version": "3.7.6"
  },
  "latex_envs": {
   "LaTeX_envs_menu_present": true,
   "autoclose": true,
   "autocomplete": true,
   "bibliofile": "biblio.bib",
   "cite_by": "apalike",
   "current_citInitial": 1,
   "eqLabelWithNumbers": true,
   "eqNumInitial": 1,
   "hotkeys": {
    "equation": "Ctrl-E",
    "itemize": "Ctrl-I"
   },
   "labels_anchors": false,
   "latex_user_defs": false,
   "report_style_numbering": true,
   "user_envs_cfg": true
  },
  "toc": {
   "base_numbering": 1,
   "nav_menu": {},
   "number_sections": true,
   "sideBar": true,
   "skip_h1_title": false,
   "title_cell": "Table of Contents",
   "title_sidebar": "Contents",
   "toc_cell": false,
   "toc_position": {},
   "toc_section_display": true,
   "toc_window_display": false
  },
  "varInspector": {
   "cols": {
    "lenName": 16,
    "lenType": 16,
    "lenVar": 40
   },
   "kernels_config": {
    "python": {
     "delete_cmd_postfix": "",
     "delete_cmd_prefix": "del ",
     "library": "var_list.py",
     "varRefreshCmd": "print(var_dic_list())"
    },
    "r": {
     "delete_cmd_postfix": ") ",
     "delete_cmd_prefix": "rm(",
     "library": "var_list.r",
     "varRefreshCmd": "cat(var_dic_list()) "
    }
   },
   "types_to_exclude": [
    "module",
    "function",
    "builtin_function_or_method",
    "instance",
    "_Feature"
   ],
   "window_display": false
  }
 },
 "nbformat": 4,
 "nbformat_minor": 4
}
