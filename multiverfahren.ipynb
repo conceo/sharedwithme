{
 "cells": [
  {
   "cell_type": "code",
   "execution_count": 119,
   "metadata": {
    "ExecuteTime": {
     "end_time": "2021-03-17T14:37:47.989491Z",
     "start_time": "2021-03-17T14:37:47.973093Z"
    }
   },
   "outputs": [],
   "source": [
    "import pandas\n",
    "import numpy \n",
    "import ipywidgets as widgets\n",
    "from ipywidgets import Layout, GridspecLayout, AppLayout, HTML"
   ]
  },
  {
   "cell_type": "code",
   "execution_count": 131,
   "metadata": {
    "ExecuteTime": {
     "end_time": "2021-03-17T14:44:17.516145Z",
     "start_time": "2021-03-17T14:44:17.506664Z"
    },
    "hide_input": false
   },
   "outputs": [],
   "source": [
    "blue_bg = \"<style>.blue input { background-color:#66B3E9 !important; }</style>\"\n",
    "light_blue_bg = \"<style>.light_blue input { background-color:#E1F3FF !important; }</style>\"\n",
    "light_grey_bg = \"<style>.light_grey input { background-color:#BBCBD7 !important; }</style>\""
   ]
  },
  {
   "cell_type": "code",
   "execution_count": 128,
   "metadata": {
    "ExecuteTime": {
     "end_time": "2021-03-17T14:44:05.950621Z",
     "start_time": "2021-03-17T14:44:05.929374Z"
    },
    "hide_input": false
   },
   "outputs": [
    {
     "data": {
      "application/vnd.jupyter.widget-view+json": {
       "model_id": "bbac9da7cbe049039f307f3e6ba5ec17",
       "version_major": 2,
       "version_minor": 0
      },
      "text/plain": [
       "HTML(value='<script>\\ncode_show=true; \\nfunction code_toggle() {\\n if (code_show){\\n $(\\'div.input\\').hide();\\…"
      ]
     },
     "metadata": {},
     "output_type": "display_data"
    }
   ],
   "source": [
    "HTML('''<script>\n",
    "code_show=true; \n",
    "function code_toggle() {\n",
    " if (code_show){\n",
    " $('div.input').hide();\n",
    " } else {\n",
    " $('div.input').show();\n",
    " }\n",
    " code_show = !code_show\n",
    "} \n",
    "$( document ).ready(code_toggle);\n",
    "</script>\n",
    "The raw code for this Jupyter notebook is by default hidden for easier reading.\n",
    "To toggle on/off the raw code, click <a href=\"javascript:code_toggle()\">here</a>.''')\n"
   ]
  },
  {
   "cell_type": "code",
   "execution_count": 129,
   "metadata": {
    "ExecuteTime": {
     "end_time": "2021-03-17T14:44:08.074186Z",
     "start_time": "2021-03-17T14:44:08.054778Z"
    }
   },
   "outputs": [],
   "source": [
    "lay1 = Layout(\n",
    ")"
   ]
  },
  {
   "cell_type": "code",
   "execution_count": 230,
   "metadata": {
    "ExecuteTime": {
     "end_time": "2021-03-17T17:05:57.288251Z",
     "start_time": "2021-03-17T17:05:57.168826Z"
    }
   },
   "outputs": [],
   "source": [
    "\n",
    "ins = GridspecLayout(9,2,layout=widgets.Layout(width=\"290px\"))\n",
    "\n",
    "inshead = ['Inputs','Fiskaljahr','Umsatz','EBIT','EBITDA','Gewinn', 'Kasse & Liquide Mittel', 'Finanzverbindlichkeiten', 'Equity Bridge']\n",
    "inputvec = [2018, 70300000, 1800000, 3200000, 1260000, 1851000, 9358000, -7507000]\n",
    "\n",
    "ins[0,0] = widgets.Text(inshead[0], layout = widgets.Layout(width =\"180px\"))\n",
    "ins[0,0].add_class('blue')\n",
    "\n",
    "\n",
    "for i in range(1,9):\n",
    "    ins[i,0] = widgets.Text(inshead[i], disabled = True, layout = widgets.Layout(width =\"180px\"))\n",
    "    ins[i,1] = widgets.FloatText(inputvec[i-1], layout = widgets.Layout(width =\"90px\"))\n",
    "    ins[i,0].add_class('blue')\n",
    "   \n",
    "grid0 = [widgets.HTML(blue_bg), widgets.HTML(light_grey_bg), ins]"
   ]
  },
  {
   "cell_type": "code",
   "execution_count": null,
   "metadata": {
    "ExecuteTime": {
     "end_time": "2021-03-17T09:37:01.253263Z",
     "start_time": "2021-03-17T09:37:01.231873Z"
    }
   },
   "outputs": [],
   "source": [
    "ins[8,1]"
   ]
  },
  {
   "cell_type": "code",
   "execution_count": 4,
   "metadata": {
    "ExecuteTime": {
     "end_time": "2021-03-17T13:27:04.848716Z",
     "start_time": "2021-03-17T13:27:04.842220Z"
    }
   },
   "outputs": [],
   "source": [
    "# Anzahl Vergleichsunternehmen\n",
    "n = 4\n",
    "\n",
    "# Festlegung Bewertungsmaßstab Multiplikatorverfahren\n",
    "Bew = 0.15"
   ]
  },
  {
   "cell_type": "code",
   "execution_count": 205,
   "metadata": {
    "ExecuteTime": {
     "end_time": "2021-03-17T16:52:08.831705Z",
     "start_time": "2021-03-17T16:52:08.562937Z"
    }
   },
   "outputs": [],
   "source": [
    "# Eingabefeld\n",
    "multi = GridspecLayout(n+4,200, layout=widgets.Layout(width=\"660px\"))\n",
    "\n",
    "\n",
    "head = ['Vergleichsunternehmen','EV in MEUR','EV/Umsatz','EV/EBIT','EV/EBITDA','KGV']\n",
    "row = ['Median', 'Mittelwert', 'Sektor Median']\n",
    "\n",
    "multi[0,0] = widgets.Text(head[0], disabled = False,layout=widgets.Layout(width=\"180px\"))\n",
    "multi[0,0].add_class('blue')\n",
    "\n",
    "\n",
    "for j in range(1,6):\n",
    "    multi[0,j] = widgets.Text(head[j], disabled = False, layout=widgets.Layout(width=\"90px\"))\n",
    "    multi[0,j].add_class('blue')\n",
    "    \n",
    "    for i in range(1,n+4):\n",
    "        multi[i,j] = widgets.FloatText(None,layout=widgets.Layout(width=\"90px\"))\n",
    "       \n",
    "    \n",
    "        \n",
    "for i in range(1,n+1):\n",
    "    multi[i,0] = widgets.Text('',layout=widgets.Layout(width=\"180px\"))\n",
    "    multi[i,0].add_class('light_blue') \n",
    "\n",
    "for i in range(n+1,n+4):\n",
    "    multi[i,0] = widgets.Text(row[i-(n+1)], disabled = True, layout=widgets.Layout(width=\"180px\"))\n",
    "    multi[i,0].add_class('light_grey') \n",
    "\n",
    "\n",
    "def ev(change):\n",
    "    multi[n+1,1] = widgets.FloatText(numpy.median([multi[i,1].value for i in range(1,n+1)]),layout=widgets.Layout(width=\"90px\"))\n",
    "    multi[n+2,1] = widgets.FloatText(numpy.mean([multi[i,1].value for i in range(1,n+1)]),layout=widgets.Layout(width=\"90px\"))\n",
    "\n",
    "def evzuu(change):\n",
    "    multi[n+1,2] = widgets.FloatText(numpy.median([multi[i,2].value for i in range(1,n+1)]),layout=widgets.Layout(width=\"90px\"))\n",
    "    multi[n+2,2] = widgets.FloatText(numpy.mean([multi[i,2].value for i in range(1,n+1)]),layout=widgets.Layout(width=\"90px\"))\n",
    "\n",
    "def evzuebit(change):\n",
    "    multi[n+1,3] = widgets.FloatText(numpy.median([multi[i,3].value for i in range(1,n+1)]),layout=widgets.Layout(width=\"90px\"))\n",
    "    multi[n+2,3] = widgets.FloatText(numpy.mean([multi[i,3].value for i in range(1,n+1)]),layout=widgets.Layout(width=\"90px\"))\n",
    "\n",
    "def evzuebitda(change):\n",
    "    multi[n+1,4] = widgets.FloatText(numpy.median([multi[i,4].value for i in range(1,n+1)]),layout=widgets.Layout(width=\"90px\"))\n",
    "    multi[n+2,4] = widgets.FloatText(numpy.mean([multi[i,4].value for i in range(1,n+1)]),layout=widgets.Layout(width=\"90px\"))\n",
    "\n",
    "def kgv(change):\n",
    "    multi[n+1,5] = widgets.FloatText(numpy.median([multi[i,5].value for i in range(1,n+1)]),layout=widgets.Layout(width=\"90px\"))\n",
    "    multi[n+2,5] = widgets.FloatText(numpy.mean([multi[i,5].value for i in range(1,n+1)]),layout=widgets.Layout(width=\"90px\"))\n",
    "\n",
    "\n",
    "\n",
    "# OBSERVE\n",
    "multi[1,1].observe(ev, 'value')\n",
    "multi[2,1].observe(ev, 'value')\n",
    "multi[3,1].observe(ev, 'value')\n",
    "multi[4,1].observe(ev, 'value')\n",
    "\n",
    "multi[1,2].observe(evzuu, 'value')\n",
    "multi[2,2].observe(evzuu, 'value')\n",
    "multi[3,2].observe(evzuu, 'value')\n",
    "multi[4,2].observe(evzuu, 'value')\n",
    "\n",
    "multi[1,3].observe(evzuebit, 'value')\n",
    "multi[2,3].observe(evzuebit, 'value')\n",
    "multi[3,3].observe(evzuebit, 'value')\n",
    "multi[4,3].observe(evzuebit, 'value')\n",
    "\n",
    "multi[1,4].observe(evzuebitda, 'value')\n",
    "multi[2,4].observe(evzuebitda, 'value')\n",
    "multi[3,4].observe(evzuebitda, 'value')\n",
    "multi[4,4].observe(evzuebitda, 'value')\n",
    "\n",
    "multi[1,5].observe(kgv, 'value')\n",
    "multi[2,5].observe(kgv, 'value')\n",
    "multi[3,5].observe(kgv, 'value')\n",
    "multi[4,5].observe(kgv, 'value')\n",
    "\n",
    "# Bei Wahl von n - Wie geschickt erzeugen ohne for-Schleife??\n",
    "\n",
    "\n",
    "grid1 = [widgets.HTML(blue_bg),widgets.HTML(light_blue_bg), widgets.HTML(light_grey_bg), multi]"
   ]
  },
  {
   "cell_type": "code",
   "execution_count": 221,
   "metadata": {
    "ExecuteTime": {
     "end_time": "2021-03-17T17:01:06.502967Z",
     "start_time": "2021-03-17T17:01:06.261531Z"
    }
   },
   "outputs": [],
   "source": [
    "# KALIBRIERUNGEN\n",
    "outs = GridspecLayout(7,5, layout=widgets.Layout(width=\"630px\"))\n",
    "\n",
    "outhead = ['Umsatz','EBIT','EBITDA','KGV']\n",
    "outrow = ['Zielunternehmen', 'Enterprise Value (Median)', 'Enterprise Value (Sektor)', 'Equity Bridge', 'Equity Value (Median)', 'Equity Value (Sektor)']\n",
    "\n",
    "for j in range(4):\n",
    "    outs[0,j+1] = widgets.Text(outhead[j], disabled = False, layout=widgets.Layout(width=\"90px\"))\n",
    "    outs[0,j+1].add_class('blue')\n",
    "\n",
    "\n",
    "for j in range(5):\n",
    "    for i in range(1,7):\n",
    "        outs[i,j] = widgets.FloatText(None, layout=widgets.Layout(width=\"90px\"))\n",
    "        \n",
    "        \n",
    "for i in range(1,7):\n",
    "    outs[i,0] = widgets.Text(outrow[i-1], disabled = True, layout=widgets.Layout(width=\"240px\"))\n",
    "    outs[i,0].add_class('light_grey') \n",
    "\n",
    "\n",
    "# # Zielunternehmen\n",
    "\n",
    "# outs[1,1] = widgets.FloatText(ins[2,1].value, disabled = True)\n",
    "# outs[1,2] = widgets.FloatText(ins[3,1].value, disabled = True)\n",
    "# outs[1,3] = widgets.FloatText(ins[4,1].value, disabled = True)\n",
    "# outs[1,4] = widgets.FloatText(ins[5,1].value, disabled = True)\n",
    "\n",
    "# # Equity Bridge\n",
    "# outs[4,1] = widgets.FloatText(ins[8,1].value, disabled = True)\n",
    "# outs[4,2] = widgets.FloatText(ins[8,1].value, disabled = True)\n",
    "# outs[4,3] = widgets.FloatText(ins[8,1].value, disabled = True)\n",
    "\n",
    "def inschanges(change):\n",
    "    # Zielunternehmen\n",
    "    outs[1,1] = widgets.FloatText(ins[2,1].value, disabled = True, layout=widgets.Layout(width=\"90px\"))\n",
    "    outs[1,2] = widgets.FloatText(ins[3,1].value, disabled = True, layout=widgets.Layout(width=\"90px\"))\n",
    "    outs[1,3] = widgets.FloatText(ins[4,1].value, disabled = True, layout=widgets.Layout(width=\"90px\"))\n",
    "    outs[1,4] = widgets.FloatText(ins[5,1].value, disabled = True, layout=widgets.Layout(width=\"90px\"))\n",
    "\n",
    "    # Equity Bridge\n",
    "    outs[4,1] = widgets.FloatText(ins[8,1].value, disabled = True, layout=widgets.Layout(width=\"90px\"))\n",
    "    outs[4,2] = widgets.FloatText(ins[8,1].value, disabled = True, layout=widgets.Layout(width=\"90px\"))\n",
    "    outs[4,3] = widgets.FloatText(ins[8,1].value, disabled = True, layout=widgets.Layout(width=\"90px\"))\n",
    "\n",
    "\n",
    "ins[2,1].observe(inschanges, 'value')\n",
    "ins[3,1].observe(inschanges, 'value')\n",
    "ins[4,1].observe(inschanges, 'value')\n",
    "ins[5,1].observe(inschanges, 'value')\n",
    "ins[8,1].observe(inschanges, 'value')\n",
    "\n",
    "# # Enterprise Value (Median) \n",
    "# # - Umsatz \n",
    "# outs[2,1] = widgets.FloatText(ins[2,1].value*multi[n+1,2].value)\n",
    "# # - EBIT  \n",
    "# outs[2,2] = widgets.FloatText(ins[3,1].value*multi[n+1,3].value)\n",
    "# # - EBITDA\n",
    "# outs[2,3] = widgets.FloatText(ins[4,1].value*multi[n+1,4].value)\n",
    "\n",
    "\n",
    "def medenterprise(change):\n",
    "    # Enterprise Value (Median) \n",
    "    # - Umsatz \n",
    "    outs[2,1] = widgets.FloatText(ins[2,1].value*multi[n+1,2].value, layout=widgets.Layout(width=\"90px\"))\n",
    "    # - EBIT  \n",
    "    outs[2,2] = widgets.FloatText(ins[3,1].value*multi[n+1,3].value, layout=widgets.Layout(width=\"90px\"))\n",
    "    # - EBITDA\n",
    "    outs[2,3] = widgets.FloatText(ins[4,1].value*multi[n+1,4].value, layout=widgets.Layout(width=\"90px\"))\n",
    "\n",
    "multi[n+1,2].observe(medenterprise, 'value')\n",
    "multi[n+1,3].observe(medenterprise, 'value')\n",
    "multi[n+1,4].observe(medenterprise, 'value')\n",
    "ins[2,1].observe(medenterprise, 'value')\n",
    "ins[3,1].observe(medenterprise, 'value')\n",
    "ins[4,1].observe(medenterprise, 'value')\n",
    "\n",
    "\n",
    "def sekenterprise(change):\n",
    "    # Enterprise Value (Sektor)\n",
    "    #  - Umsatz\n",
    "    outs[3,1] = widgets.FloatText(ins[2,1].value*multi[n+3,2].value, layout=widgets.Layout(width=\"90px\"))\n",
    "    # - EBIT  \n",
    "    outs[3,2] = widgets.FloatText(ins[3,1].value*multi[n+3,3].value, layout=widgets.Layout(width=\"90px\"))\n",
    "    # - EBITDA\n",
    "    outs[3,3] = widgets.FloatText(ins[4,1].value*multi[n+3,4].value, layout=widgets.Layout(width=\"90px\"))\n",
    "\n",
    "\n",
    "multi[n+3,2].observe(sekenterprise, 'value')\n",
    "multi[n+3,3].observe(sekenterprise, 'value')\n",
    "multi[n+3,4].observe(sekenterprise, 'value')\n",
    "ins[4,1].observe(sekenterprise, 'value')\n",
    "ins[2,1].observe(sekenterprise, 'value')\n",
    "ins[3,1].observe(sekenterprise, 'value')\n",
    "\n",
    "\n",
    "def medequity(change):\n",
    "    # Equity Value (Median)\n",
    "    #  - Umsatz\n",
    "    outs[5,1] = widgets.FloatText(((ins[2,1].value*multi[n+1,2].value) + ins[8,1].value)*(1-Bew), layout=widgets.Layout(width=\"90px\"))\n",
    "    # - EBIT  \n",
    "    outs[5,2] = widgets.FloatText(((ins[3,1].value*multi[n+1,3].value) + ins[8,1].value)*(1-Bew), layout=widgets.Layout(width=\"90px\"))\n",
    "    # - EBITDA\n",
    "    outs[5,3] = widgets.FloatText(((ins[4,1].value*multi[n+1,4].value) + ins[8,1].value)*(1-Bew), layout=widgets.Layout(width=\"90px\"))\n",
    "    # - Gewinn\n",
    "    outs[5,4] = widgets.FloatText((ins[5,1].value)*(multi[n+1,5].value)*(1-Bew), layout=widgets.Layout(width=\"90px\"))\n",
    "\n",
    "ins[2,1].observe(medequity, 'value')\n",
    "ins[3,1].observe(medequity, 'value')\n",
    "ins[4,1].observe(medequity, 'value')\n",
    "ins[5,1].observe(medequity, 'value')\n",
    "ins[8,1].observe(medequity, 'value')\n",
    "multi[n+1,2].observe(medequity, 'value')\n",
    "multi[n+1,3].observe(medequity, 'value')\n",
    "multi[n+1,4].observe(medequity, 'value')\n",
    "multi[n+1,5].observe(medequity, 'value')\n",
    "\n",
    "def sekequity(change):\n",
    "    # Equity Value (Sektor)\n",
    "    #  - Umsatz\n",
    "    outs[6,1] = widgets.FloatText(((ins[2,1].value*multi[n+3,2].value) + ins[8,1].value)*(1-Bew), layout=widgets.Layout(width=\"90px\"))\n",
    "    # - EBIT  \n",
    "    outs[6,2] = widgets.FloatText(((ins[3,1].value*multi[n+3,3].value) + ins[8,1].value)*(1-Bew), layout=widgets.Layout(width=\"90px\"))\n",
    "    # - EBITDA\n",
    "    outs[6,3] = widgets.FloatText((((ins[4,1].value*multi[n+3,4].value) + ins[8,1].value)*(1-Bew)), layout=widgets.Layout(width=\"90px\"))\n",
    "    # - Gewinn\n",
    "    outs[6,4] = widgets.FloatText((ins[5,1].value)*(multi[n+3,5].value)*(1-Bew), layout=widgets.Layout(width=\"90px\"))\n",
    "\n",
    "multi[n+3,5].observe(sekequity, 'value')\n",
    "multi[n+3,4].observe(sekequity, 'value')\n",
    "multi[n+3,2].observe(sekequity, 'value')\n",
    "multi[n+3,3].observe(sekequity, 'value')\n",
    "ins[8,1].observe(sekequity, 'value')\n",
    "ins[4,1].observe(sekequity, 'value')\n",
    "ins[2,1].observe(sekequity, 'value')\n",
    "ins[3,1].observe(sekequity, 'value')\n",
    "\n",
    "grid2 = [widgets.HTML(blue_bg), widgets.HTML(light_grey_bg), outs]"
   ]
  },
  {
   "cell_type": "code",
   "execution_count": 225,
   "metadata": {
    "ExecuteTime": {
     "end_time": "2021-03-17T17:04:29.290460Z",
     "start_time": "2021-03-17T17:04:29.187359Z"
    }
   },
   "outputs": [],
   "source": [
    "# Equity Value\n",
    "equityval = GridspecLayout(9,2, layout = widgets.Layout(width =\"290px\"))\n",
    "equhead = ['Equity Value (Marktwert des Eigenkapitals)','Umsatz Sektor','Umsatz Peer','EBIT Sektor','EBIT Peer','EBITDA Sektor','EBITDA Peer', 'KGV Sektor', 'KGV Peer']\n",
    "#equityvec = ['', '', '', '', '', '', '', '', '']\n",
    "\n",
    "ins[0,0] = widgets.Text(equhead[0], layout = widgets.Layout(width =\"180px\"))\n",
    "ins[0,0].add_class('blue')\n",
    "\n",
    "\n",
    "\n",
    "for i in range(1,9):\n",
    "    equityval[i,0] = widgets.Text(equhead[i], disabled = False, layout = widgets.Layout(width =\"180px\"))\n",
    "    equityval[i,1] = widgets.FloatText(None, layout = widgets.Layout(width =\"90px\"))\n",
    "    equityval[i,0].add_class('blue')\n",
    "    \n",
    "def result(change):\n",
    "    equityval[0,1] = widgets.Text(equhead[i])\n",
    "    \n",
    "grid3 = [widgets.HTML(blue_bg), widgets.HTML(light_grey_bg), equityval]"
   ]
  },
  {
   "cell_type": "code",
   "execution_count": 228,
   "metadata": {
    "ExecuteTime": {
     "end_time": "2021-03-17T17:05:29.332085Z",
     "start_time": "2021-03-17T17:05:29.302633Z"
    }
   },
   "outputs": [],
   "source": [
    "\n",
    "box0 = widgets.VBox(grid0)\n",
    "box1 = widgets.VBox(grid1)\n",
    "box2 = widgets.VBox(grid2)\n",
    "box3 = widgets.VBox(grid3)\n",
    "\n",
    "\n",
    "box4 = widgets.HBox([box0, box3])\n",
    "box5 = widgets.VBox([box1, box2])\n",
    "mybox = widgets.VBox([box4, box5])\n"
   ]
  },
  {
   "cell_type": "code",
   "execution_count": 231,
   "metadata": {
    "ExecuteTime": {
     "end_time": "2021-03-17T17:09:48.134487Z",
     "start_time": "2021-03-17T17:09:48.056731Z"
    }
   },
   "outputs": [
    {
     "data": {
      "application/vnd.jupyter.widget-view+json": {
       "model_id": "12b9a60ee4d64a759a1f35529f284b80",
       "version_major": 2,
       "version_minor": 0
      },
      "text/plain": [
       "VBox(children=(HBox(children=(VBox(children=(HTML(value='<style>.blue input { background-color:#66B3E9 !import…"
      ]
     },
     "metadata": {},
     "output_type": "display_data"
    }
   ],
   "source": [
    "mybox"
   ]
  },
  {
   "cell_type": "code",
   "execution_count": 118,
   "metadata": {
    "ExecuteTime": {
     "end_time": "2021-03-17T14:35:26.473915Z",
     "start_time": "2021-03-17T14:35:26.395461Z"
    }
   },
   "outputs": [
    {
     "data": {
      "application/vnd.jupyter.widget-view+json": {
       "model_id": "2931db82930d41998cad25c8ce57ff2d",
       "version_major": 2,
       "version_minor": 0
      },
      "text/plain": [
       "AppLayout(children=(VBox(children=(HTML(value='<style>.blue input { background-color:#66B3E9 !important; }</st…"
      ]
     },
     "metadata": {},
     "output_type": "display_data"
    }
   ],
   "source": [
    "AppLayout(header = box3, left_sidebar = box1, center = box2 )"
   ]
  },
  {
   "cell_type": "code",
   "execution_count": null,
   "metadata": {
    "ExecuteTime": {
     "end_time": "2021-03-17T09:01:20.054294Z",
     "start_time": "2021-03-17T09:01:20.036670Z"
    }
   },
   "outputs": [],
   "source": [
    "multi[n+1,1]"
   ]
  },
  {
   "cell_type": "code",
   "execution_count": null,
   "metadata": {},
   "outputs": [],
   "source": [
    "## Zucken bei Kalibrierungen\n",
    "## Grid Updated sich auch an jeder Stelle wenn nicht umdefiniert\n",
    "## Cleverer for-Schleifen für Berechnungen?\n",
    "\n",
    "## Observe for schleifen? Da ja alle Zellen eines Columns für den Median betrachtet werden müssen, aber die Anzahl dieser\n",
    "## abhängig von der Wahl von n sind\n",
    "## Tausender Punkte -- FloatText keine Punkte"
   ]
  },
  {
   "cell_type": "code",
   "execution_count": null,
   "metadata": {},
   "outputs": [],
   "source": [
    "data_input_style = \"<style>.data_input input { background-color:#8ED1F5 !important; }</style>\"\n",
    "\n",
    "\n",
    "\n",
    "# Eingabefeld\n",
    "multi = GridspecLayout(n+4,7)\n",
    "\n",
    "head = ['Vergleichsunternehmen','EV in MEUR','EV/Umsatz','EV/EBIT','EV/EBITDA','KGV']\n",
    "row = ['Median', 'Mittelwert', 'Sektor Median']\n",
    "for j in range(6):\n",
    "    multi[0,j] = widgets.Text(head[j], disabled = True)\n",
    "    multi[0,j].add_class('blue')\n",
    "    \n",
    "    for i in range(1,n+4):\n",
    "        multi[i,j] = widgets.FloatText()\n",
    "       \n",
    "        \n",
    "for i in range(1,n+1):\n",
    "    multi[i,0] = widgets.Text('')\n",
    "    multi[i,0].add_class('light_blue') \n",
    "\n",
    "for i in range(n+1,n+4):\n",
    "    multi[i,0] = widgets.Text(row[i-(n+1)], disabled = True)\n",
    "    multi[i,0].add_class('light_grey') \n",
    "\n",
    "grid1 = [widgets.HTML(blue_bg),widgets.HTML(light_blue_bg), widgets.HTML(light_grey_bg), multi]\n",
    "\n",
    "\n",
    "# KALIBRIERUNGEN\n",
    "outs = GridspecLayout(7,6)\n",
    "\n",
    "outhead = ['','Umsatz','EBIT','EBITDA','Gewinn']\n",
    "outrow = ['Zielunternehmen', 'Enterprise Value (Median)', 'Enterprise Value (Sektor)', 'Equity Bridge', 'Equity Value (Median)', 'Equity Value (Sektor)']\n",
    "\n",
    "for j in range(5):\n",
    "    outs[0,j] = widgets.Text(outhead[j], disabled = True)\n",
    "    outs[0,j].add_class('blue')\n",
    "    \n",
    "    for i in range(1,6):\n",
    "        outs[i,j] = widgets.FloatText()\n",
    "\n",
    "for i in range(1,6):\n",
    "    outs[i,0] = widgets.Text(outrow[i], disabled = True)\n",
    "    outs[i,0].add_class('light_grey') \n",
    "\n",
    "grid2 = [widgets.HTML(blue_bg),widgets.HTML(light_grey_bg), outs]"
   ]
  }
 ],
 "metadata": {
  "kernelspec": {
   "display_name": "Python 3",
   "language": "python",
   "name": "python3"
  },
  "language_info": {
   "codemirror_mode": {
    "name": "ipython",
    "version": 3
   },
   "file_extension": ".py",
   "mimetype": "text/x-python",
   "name": "python",
   "nbconvert_exporter": "python",
   "pygments_lexer": "ipython3",
   "version": "3.7.6"
  },
  "latex_envs": {
   "LaTeX_envs_menu_present": true,
   "autoclose": true,
   "autocomplete": true,
   "bibliofile": "biblio.bib",
   "cite_by": "apalike",
   "current_citInitial": 1,
   "eqLabelWithNumbers": true,
   "eqNumInitial": 1,
   "hotkeys": {
    "equation": "Ctrl-E",
    "itemize": "Ctrl-I"
   },
   "labels_anchors": false,
   "latex_user_defs": false,
   "report_style_numbering": false,
   "user_envs_cfg": false
  },
  "toc": {
   "base_numbering": 1,
   "nav_menu": {},
   "number_sections": true,
   "sideBar": true,
   "skip_h1_title": false,
   "title_cell": "Table of Contents",
   "title_sidebar": "Contents",
   "toc_cell": false,
   "toc_position": {},
   "toc_section_display": true,
   "toc_window_display": false
  },
  "varInspector": {
   "cols": {
    "lenName": 16,
    "lenType": 16,
    "lenVar": 40
   },
   "kernels_config": {
    "python": {
     "delete_cmd_postfix": "",
     "delete_cmd_prefix": "del ",
     "library": "var_list.py",
     "varRefreshCmd": "print(var_dic_list())"
    },
    "r": {
     "delete_cmd_postfix": ") ",
     "delete_cmd_prefix": "rm(",
     "library": "var_list.r",
     "varRefreshCmd": "cat(var_dic_list()) "
    }
   },
   "types_to_exclude": [
    "module",
    "function",
    "builtin_function_or_method",
    "instance",
    "_Feature"
   ],
   "window_display": false
  }
 },
 "nbformat": 4,
 "nbformat_minor": 2
}
