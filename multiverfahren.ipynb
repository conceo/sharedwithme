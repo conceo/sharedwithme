{
 "metadata": {
  "language_info": {
   "codemirror_mode": {
    "name": "ipython",
    "version": 3
   },
   "file_extension": ".py",
   "mimetype": "text/x-python",
   "name": "python",
   "nbconvert_exporter": "python",
   "pygments_lexer": "ipython3",
   "version": "3.7.6-final"
  },
  "orig_nbformat": 2,
  "kernelspec": {
   "name": "python3",
   "display_name": "Python 3.7.6 64-bit (conda)",
   "metadata": {
    "interpreter": {
     "hash": "7b1323920e4f51c58294b8fef35a4a8660dc4ed3fa896d476af9d73e9cae3e90"
    }
   }
  }
 },
 "nbformat": 4,
 "nbformat_minor": 2,
 "cells": [
  {
   "cell_type": "code",
   "execution_count": 1,
   "metadata": {},
   "outputs": [],
   "source": [
    "import pandas\n",
    "import numpy \n",
    "import ipywidgets as widgets\n",
    "from ipywidgets import Layout, GridspecLayout, AppLayout"
   ]
  },
  {
   "cell_type": "code",
   "execution_count": 101,
   "metadata": {},
   "outputs": [
    {
     "output_type": "display_data",
     "data": {
      "text/plain": "GridspecLayout()",
      "application/vnd.jupyter.widget-view+json": {
       "version_major": 2,
       "version_minor": 0,
       "model_id": "d140594f83ed4dbc9292dbd4cac371bf"
      }
     },
     "metadata": {}
    }
   ],
   "source": [
    "ins = GridspecLayout(9,2)\n",
    "inshead = ['Inputs','Fiskaljahr','Umsatz','EBIT','EBITDA','Gewinn', 'Kasse & Liquide Mittel', 'Finanzverbindlichkeiten', 'Equity Bridge']\n",
    "ins"
   ]
  },
  {
   "cell_type": "code",
   "execution_count": 104,
   "metadata": {},
   "outputs": [],
   "source": [
    "blue_bg = \"<style>.blue input { background-color:#66B3E9 !important; }</style>\"\n",
    "light_blue_bg = \"<style>.light_blue input { background-color:#E1F3FF !important; }</style>\"\n",
    "light_grey_bg = \"<style>.light_grey input { background-color:#BBCBD7 !important; }</style>\""
   ]
  },
  {
   "cell_type": "code",
   "execution_count": 103,
   "metadata": {},
   "outputs": [],
   "source": [
    "# Anzahl Vergleichsunternehmen\n",
    "n = 4"
   ]
  },
  {
   "cell_type": "code",
   "execution_count": 109,
   "metadata": {},
   "outputs": [],
   "source": [
    "data_input_style = \"<style>.data_input input { background-color:#8ED1F5 !important; }</style>\"\n",
    "\n",
    "\n",
    "\n",
    "# Eingabefeld\n",
    "multi = GridspecLayout(n+4,7)\n",
    "\n",
    "head = ['Vergleichsunternehmen','EV in MEUR','EV/Umsatz','EV/EBIT','EV/EBITDA','KGV']\n",
    "row = ['Median', 'Mittelwert', 'Sektor Median']\n",
    "for j in range(6):\n",
    "    multi[0,j] = widgets.Text(head[j], disabled = True)\n",
    "    multi[0,j].add_class('blue')\n",
    "    \n",
    "    for i in range(1,n+4):\n",
    "        multi[i,j] = widgets.FloatText()\n",
    "       \n",
    "        \n",
    "for i in range(1,n+1):\n",
    "    multi[i,0] = widgets.Text('')\n",
    "    multi[i,0].add_class('light_blue') \n",
    "\n",
    "for i in range(n+1,n+4):\n",
    "    multi[i,0] = widgets.Text(row[i-(n+1)], disabled = True)\n",
    "    multi[i,0].add_class('light_grey') \n",
    "\n",
    "grid1 = [widgets.HTML(blue_bg),widgets.HTML(light_blue_bg), widgets.HTML(light_grey_bg), multi]\n",
    "\n",
    "\n",
    "# KALIBRIERUNGEN\n",
    "outs = GridspecLayout(7,6)\n",
    "\n",
    "outhead = ['','EV in MEUR','EV/Umsatz','EV/EBIT','EV/EBITDA','KGV']\n",
    "outrow = ['Zielunternehmen', 'Enterprise Value (Median)', 'Enterprise Value (Sektor)', 'Equity Bridge', 'Equity Value (Median)', 'Equity Value (Sektor)']\n",
    "\n",
    "for j in range(5):\n",
    "    outs[0,j] = widgets.Text(outhead[j], disabled = True)\n",
    "    outs[0,j].add_class('blue')\n",
    "    \n",
    "    for i in range(1,6):\n",
    "        outs[i,j] = widgets.FloatText()\n",
    "\n",
    "for i in range(1,6):\n",
    "    outs[i,0] = widgets.Text(outrow[i], disabled = True)\n",
    "    outs[i,0].add_class('light_grey') \n",
    "\n",
    "grid2 = [widgets.HTML(blue_bg),widgets.HTML(light_grey_bg), outs]"
   ]
  },
  {
   "cell_type": "code",
   "execution_count": null,
   "metadata": {},
   "outputs": [],
   "source": [
    "# Equity Value\n",
    "headw"
   ]
  },
  {
   "cell_type": "code",
   "execution_count": 110,
   "metadata": {},
   "outputs": [
    {
     "output_type": "display_data",
     "data": {
      "text/plain": "VBox(children=(VBox(children=(HTML(value='<style>.blue input { background-color:#66B3E9 !important; }</style>'…",
      "application/vnd.jupyter.widget-view+json": {
       "version_major": 2,
       "version_minor": 0,
       "model_id": "939ef4f9e042447d838811bd26931bb5"
      }
     },
     "metadata": {}
    }
   ],
   "source": [
    "box1 = widgets.VBox(grid1)\n",
    "box2 = widgets.VBox(grid2)\n",
    "widgets.VBox([box1, box2])"
   ]
  },
  {
   "cell_type": "code",
   "execution_count": 71,
   "metadata": {},
   "outputs": [],
   "source": [
    "##"
   ]
  }
 ]
}